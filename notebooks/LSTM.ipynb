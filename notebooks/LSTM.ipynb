{
 "cells": [
  {
   "cell_type": "code",
   "execution_count": 102,
   "id": "3d44279f-8701-4fe6-ab09-ccdcdc8d51cd",
   "metadata": {},
   "outputs": [],
   "source": [
    "import os\n",
    "from sklearn.preprocessing import OneHotEncoder\n",
    "import numpy as np\n",
    "import pandas as pd\n",
    "import matplotlib.pyplot as plt\n",
    "from sklearn.decomposition import PCA\n",
    "from sklearn.model_selection import train_test_split\n",
    "from sklearn.linear_model import LogisticRegression\n",
    "from sklearn.preprocessing import StandardScaler \n",
    "from sklearn.metrics import accuracy_score\n",
    "from sklearn.datasets import make_classification\n",
    "from sklearn.neural_network import MLPClassifier\n",
    "from sklearn.metrics import classification_report\n",
    "from sklearn.metrics import confusion_matrix\n",
    "import seaborn as sns\n",
    "import torch\n",
    "import torch.nn as nn\n",
    "from sklearn.neural_network import MLPClassifier, MLPRegressor\n",
    "from sklearn.model_selection import train_test_split\n",
    "from sklearn.metrics import mean_squared_error, mean_absolute_error\n",
    "from sklearn.metrics import confusion_matrix, ConfusionMatrixDisplay\n",
    "from tensorflow.keras.models import Sequential\n",
    "from tensorflow.keras.layers import Dense, Dropout\n",
    "from tensorflow.keras.utils import to_categorical\n",
    "from sklearn.preprocessing import LabelEncoder\n",
    "\n",
    "from sklearn.compose import ColumnTransformer\n",
    "from tensorflow.keras.callbacks import EarlyStopping\n",
    "import tensorflow as tf\n",
    "from tensorflow.keras.layers import Dense, Conv1D, Flatten, Dropout\n",
    "from tensorflow.keras.models import Sequential\n",
    "from tensorflow.keras.layers import LSTM, Dense, Embedding\n",
    "from tensorflow.keras.preprocessing.sequence import pad_sequences\n",
    "from tensorflow.keras.layers import Embedding\n",
    "import scipy.stats as stats\n",
    "from tensorflow.keras.regularizers import l1_l2"
   ]
  },
  {
   "cell_type": "code",
   "execution_count": 103,
   "id": "a411b7c1-f156-45b2-a9bf-dc9542571c05",
   "metadata": {},
   "outputs": [],
   "source": [
    "big_data = pd.read_csv('/Users/ishan/Desktop/cs229-final-project/big_data.csv')"
   ]
  },
  {
   "cell_type": "code",
   "execution_count": 104,
   "id": "bdb3c462-70ba-4a2c-a35d-c1a684222724",
   "metadata": {},
   "outputs": [],
   "source": [
    "big_data = big_data.drop(['Unnamed: 0', 'game_id', 'game_date'], axis = 1)\n"
   ]
  },
  {
   "cell_type": "code",
   "execution_count": 105,
   "id": "f319ec94-a12a-443a-afa0-67fe57cb504a",
   "metadata": {},
   "outputs": [
    {
     "name": "stdout",
     "output_type": "stream",
     "text": [
      "0\n",
      "2000\n",
      "4000\n",
      "6000\n",
      "8000\n",
      "10000\n",
      "12000\n",
      "14000\n",
      "16000\n",
      "18000\n",
      "20000\n",
      "22000\n",
      "24000\n",
      "26000\n",
      "28000\n",
      "30000\n",
      "32000\n",
      "34000\n",
      "36000\n",
      "38000\n",
      "40000\n",
      "42000\n",
      "44000\n",
      "46000\n",
      "48000\n",
      "50000\n",
      "52000\n",
      "54000\n",
      "56000\n",
      "58000\n",
      "60000\n",
      "62000\n",
      "64000\n",
      "66000\n",
      "68000\n",
      "70000\n",
      "72000\n",
      "74000\n",
      "76000\n",
      "78000\n",
      "80000\n",
      "82000\n",
      "84000\n",
      "86000\n",
      "88000\n",
      "90000\n",
      "92000\n",
      "94000\n",
      "96000\n",
      "98000\n",
      "100000\n",
      "102000\n",
      "104000\n",
      "106000\n",
      "108000\n",
      "110000\n",
      "112000\n",
      "114000\n",
      "116000\n",
      "118000\n",
      "120000\n",
      "122000\n",
      "124000\n",
      "126000\n",
      "128000\n",
      "130000\n",
      "132000\n",
      "134000\n",
      "136000\n",
      "138000\n",
      "140000\n",
      "142000\n",
      "144000\n",
      "146000\n",
      "148000\n",
      "150000\n",
      "152000\n",
      "154000\n",
      "156000\n",
      "158000\n",
      "160000\n",
      "162000\n",
      "164000\n",
      "166000\n",
      "168000\n",
      "170000\n",
      "172000\n",
      "174000\n",
      "176000\n",
      "178000\n",
      "180000\n",
      "182000\n",
      "184000\n",
      "186000\n",
      "188000\n",
      "190000\n",
      "192000\n",
      "194000\n",
      "196000\n",
      "198000\n",
      "200000\n",
      "202000\n",
      "204000\n",
      "206000\n",
      "208000\n",
      "210000\n",
      "212000\n",
      "214000\n",
      "216000\n",
      "218000\n",
      "220000\n",
      "222000\n",
      "224000\n",
      "226000\n",
      "228000\n",
      "230000\n",
      "232000\n",
      "234000\n",
      "236000\n",
      "238000\n"
     ]
    }
   ],
   "source": [
    "bad_rows = []\n",
    "for idx, row in big_data.iterrows():\n",
    "    if idx % 2000 == 0: print(idx)\n",
    "    if str(row['run_location']) == \"nan\" and str(row['pass_location']) == \"nan\":\n",
    "        bad_rows.append(idx)\n",
    "big_data.drop(bad_rows, inplace=True)"
   ]
  },
  {
   "cell_type": "code",
   "execution_count": 148,
   "id": "b622be49-ef8d-4765-b65d-bd4aa7ae6101",
   "metadata": {},
   "outputs": [],
   "source": [
    "# cut down number of defense packages\n",
    "dp_freq = dict(big_data['defense_personnel'].value_counts())\n",
    "dp_freq[np.NaN] = 0\n",
    "defense_package = []\n",
    "for idx, row in big_data.iterrows():\n",
    "    if dp_freq[row['defense_personnel']] < 450 or row['defense_personnel'] == np.NaN:\n",
    "        defense_package.append(np.NaN)\n",
    "    else:\n",
    "        defense_package.append(row['defense_personnel'])\n",
    "big_data = big_data.drop(['defense_personnel'],axis=1)\n",
    "big_data['defense_personnel'] = defense_package\n",
    "\n",
    "# cut down number of offense packages\n",
    "op_freq = dict(big_data['offense_personnel'].value_counts())\n",
    "op_freq[np.NaN] = 0\n",
    "offense_package = []\n",
    "for idx, row in big_data.iterrows():\n",
    "    if op_freq[row['offense_personnel']] < 450 or row['offense_personnel'] == np.NaN:\n",
    "        offense_package.append(np.NaN)\n",
    "    else:\n",
    "        offense_package.append(row['offense_personnel'])\n",
    "big_data = big_data.drop(['offense_personnel'],axis=1)\n",
    "big_data['offense_personnel'] = offense_package"
   ]
  },
  {
   "cell_type": "code",
   "execution_count": 203,
   "id": "8b7a1b57-1e0a-49e1-a612-2620639b1e9e",
   "metadata": {},
   "outputs": [
    {
     "name": "stdout",
     "output_type": "stream",
     "text": [
      "13981 ARI\n",
      "14364 ATL\n",
      "14376 BAL\n",
      "14654 BUF\n",
      "13642 CAR\n",
      "14482 CIN\n",
      "13969 CLE\n",
      "14738 DAL\n",
      "13608 DEN\n",
      "13789 DET\n",
      "14333 GB\n",
      "14225 HOU\n",
      "14070 IND\n",
      "14373 JAX\n",
      "15903 KC\n",
      "13884 LV\n",
      "14091 LAC\n",
      "14859 LA\n",
      "13683 MIA\n",
      "14403 MIN\n",
      "15070 NE\n",
      "14446 NO\n",
      "14216 NYG\n",
      "13611 NYJ\n",
      "15022 PHI\n",
      "14394 PIT\n",
      "14619 SF\n",
      "14487 SEA\n",
      "14969 TB\n",
      "14385 TEN\n",
      "13632 WAS\n"
     ]
    }
   ],
   "source": [
    "teams = ['ARI', 'ATL', 'BAL', 'BUF', 'CAR', 'CIN', 'CLE', 'DAL', 'DEN', 'DET', 'GB', 'HOU', 'IND', 'JAX', 'KC', 'LV', 'LAC', 'LA', 'MIA', 'MIN', 'NE', 'NO', 'NYG', 'NYJ', 'PHI', 'PIT', 'SF', 'SEA', 'TB', 'TEN', 'WAS']\n",
    "\n",
    "team_data = big_data\n",
    "for team in teams:\n",
    "    relevant = team \n",
    "    team_games = team_data[(team_data['home_team'] == relevant) | (team_data['away_team'] == relevant)]\n",
    "    print(len(team_games), relevant)\n",
    "\n"
   ]
  },
  {
   "cell_type": "code",
   "execution_count": 178,
   "id": "f4ec9a57-e40d-4b2a-b8f8-7f53f09da237",
   "metadata": {},
   "outputs": [],
   "source": [
    "X = team_games.drop(['play_sequence_num','pass_length', 'home_team', 'away_team', 'pass_location', 'run_location', 'play_type', 'surface'], axis=1)"
   ]
  },
  {
   "cell_type": "code",
   "execution_count": 179,
   "id": "46660238-2513-42d8-86be-2528324ef0b1",
   "metadata": {},
   "outputs": [],
   "source": [
    "# Building y values \n",
    "\n",
    "outcome_run_pass = []\n",
    "outcome_buckets = []\n",
    "for idx, row in team_games.iterrows():\n",
    "    if row['play_type'] == 'pass':\n",
    "        outcome_run_pass.append('pass')\n",
    "        outcome_buckets.append('pass + ' + str(row['pass_location']))\n",
    "    elif row['play_type'] == 'run':\n",
    "        outcome_run_pass.append('run')\n",
    "        outcome_buckets.append('run + ' + str(row['run_location']))"
   ]
  },
  {
   "cell_type": "code",
   "execution_count": 180,
   "id": "a83c6b16-f503-4fbd-a4c5-a82fa573c0b2",
   "metadata": {},
   "outputs": [],
   "source": [
    "X.fillna(0, inplace=True)"
   ]
  },
  {
   "cell_type": "code",
   "execution_count": 181,
   "id": "e39117c7-fbb6-427e-81de-e3707fe48215",
   "metadata": {},
   "outputs": [
    {
     "data": {
      "text/plain": [
       "14619"
      ]
     },
     "execution_count": 181,
     "metadata": {},
     "output_type": "execute_result"
    }
   ],
   "source": [
    "len(X)"
   ]
  },
  {
   "cell_type": "code",
   "execution_count": 183,
   "id": "01a380ea-9d8d-4770-b1c7-8c269466e4d2",
   "metadata": {},
   "outputs": [
    {
     "name": "stdout",
     "output_type": "stream",
     "text": [
      "13642\n"
     ]
    }
   ],
   "source": [
    "print(len(Y))"
   ]
  },
  {
   "cell_type": "code",
   "execution_count": 184,
   "id": "732b95d4-9842-463f-8f65-c6dd05ba9090",
   "metadata": {},
   "outputs": [
    {
     "name": "stdout",
     "output_type": "stream",
     "text": [
      "['run', 'pass', 'pass', 'pass', 'run', 'pass', 'pass', 'pass', 'run', 'pass', 'run', 'run', 'pass', 'pass', 'run', 'run', 'pass', 'pass', 'run', 'pass', 'run', 'run', 'pass', 'pass', 'run', 'run', 'pass', 'run', 'pass', 'pass', 'run', 'run', 'run', 'run', 'run', 'pass', 'pass', 'run', 'run', 'run', 'run', 'pass', 'run', 'pass', 'pass', 'pass', 'pass', 'run', 'run', 'run', 'run', 'run', 'pass', 'run', 'run', 'pass', 'run', 'pass', 'run', 'pass', 'pass', 'run', 'pass', 'pass', 'run', 'run', 'pass', 'pass', 'pass', 'run', 'pass', 'pass', 'run', 'run', 'pass', 'pass', 'run', 'pass', 'pass', 'pass', 'pass', 'run', 'run', 'pass', 'run', 'pass', 'run', 'pass', 'run', 'run', 'pass', 'run', 'run', 'pass', 'run', 'pass', 'pass', 'run', 'pass', 'pass', 'pass', 'run', 'pass', 'run', 'pass', 'pass', 'pass', 'pass', 'pass', 'pass', 'pass', 'pass', 'run', 'run', 'pass', 'run', 'run', 'run', 'run', 'run', 'pass', 'run', 'pass', 'pass', 'pass', 'pass', 'pass', 'pass', 'pass', 'run', 'run', 'run', 'run', 'run', 'pass', 'run', 'run', 'run', 'run', 'run', 'pass', 'run', 'run', 'pass', 'pass', 'pass', 'run', 'run', 'run', 'run', 'run', 'pass', 'run', 'run', 'pass', 'pass', 'run', 'pass', 'pass', 'run', 'pass', 'run', 'pass', 'pass', 'pass', 'run', 'run', 'run', 'run', 'pass', 'run', 'run', 'pass', 'pass', 'run', 'pass', 'pass', 'run', 'pass', 'run', 'run', 'run', 'pass', 'pass', 'pass', 'run', 'run', 'pass', 'pass', 'run', 'pass', 'pass', 'run', 'pass', 'pass', 'run', 'run', 'run', 'run', 'pass', 'run', 'pass', 'pass', 'run', 'pass', 'pass', 'run', 'pass', 'pass', 'pass', 'pass', 'pass', 'run', 'pass', 'run', 'pass', 'pass', 'pass', 'pass', 'run', 'pass', 'run', 'pass', 'pass', 'pass', 'pass', 'pass', 'run', 'pass', 'pass', 'run', 'pass', 'run', 'run', 'run', 'run', 'pass', 'run', 'run', 'pass', 'pass', 'run', 'run', 'run', 'pass', 'pass', 'pass', 'pass', 'pass', 'run', 'pass', 'run', 'run', 'pass', 'pass', 'pass', 'pass', 'run', 'run', 'pass', 'pass', 'pass', 'pass', 'pass', 'run', 'run', 'run', 'pass', 'pass', 'pass', 'pass', 'pass', 'run', 'run', 'pass', 'pass', 'pass', 'run', 'pass', 'pass', 'run', 'run', 'pass', 'pass', 'run', 'pass', 'run', 'run', 'pass', 'run', 'run', 'run', 'run', 'run', 'run', 'pass', 'pass', 'pass', 'run', 'pass', 'run', 'pass', 'run', 'pass', 'pass', 'run', 'run', 'pass', 'run', 'pass', 'pass', 'run', 'pass', 'run', 'pass', 'run', 'run', 'pass', 'pass', 'pass', 'pass', 'pass', 'run', 'run', 'pass', 'pass', 'run', 'run', 'pass', 'run', 'pass', 'pass', 'run', 'pass', 'run', 'run', 'pass', 'pass', 'run', 'pass', 'run', 'run', 'pass', 'pass', 'run', 'run', 'pass', 'pass', 'run', 'pass', 'pass', 'run', 'pass', 'run', 'run', 'pass', 'pass', 'run', 'run', 'pass', 'run', 'run', 'run', 'pass', 'run', 'run', 'pass', 'run', 'run', 'run', 'run', 'pass', 'run', 'run', 'run', 'pass', 'run', 'pass', 'pass', 'pass', 'run', 'run', 'pass', 'run', 'pass', 'run', 'run', 'run', 'run', 'run', 'pass', 'pass', 'run', 'pass', 'pass', 'run', 'pass', 'run', 'run', 'pass', 'pass', 'run', 'pass', 'pass', 'pass', 'run', 'run', 'run', 'run', 'run', 'run', 'pass', 'pass', 'pass', 'run', 'pass', 'run', 'run', 'run', 'run', 'pass', 'run', 'pass', 'run', 'pass', 'run', 'run', 'run', 'run', 'pass', 'pass', 'run', 'run', 'pass', 'run', 'run', 'pass', 'run', 'run', 'pass', 'pass', 'pass', 'pass', 'pass', 'pass', 'pass', 'pass', 'pass', 'pass', 'run', 'pass', 'run', 'pass', 'run', 'run', 'pass', 'run', 'pass', 'run', 'run', 'pass', 'pass', 'run', 'run', 'pass', 'run', 'pass', 'run', 'run', 'run', 'pass', 'run', 'pass', 'run', 'run', 'pass', 'run', 'run', 'run', 'run', 'pass', 'run', 'run', 'pass', 'run', 'pass', 'pass', 'run', 'run', 'run', 'run', 'run', 'pass', 'run', 'run', 'run', 'pass', 'pass', 'pass', 'pass', 'run', 'pass', 'pass', 'pass', 'run', 'pass', 'run', 'pass', 'run', 'pass', 'pass', 'run', 'pass', 'run', 'run', 'run', 'pass', 'pass', 'run', 'run', 'pass', 'run', 'run', 'pass', 'run', 'pass', 'pass', 'run', 'run', 'run', 'pass', 'pass', 'run', 'pass', 'run', 'pass', 'pass', 'pass', 'pass', 'pass', 'run', 'pass', 'run', 'pass', 'run', 'run', 'pass', 'pass', 'run', 'pass', 'run', 'run', 'run', 'pass', 'run', 'run', 'pass', 'pass', 'pass', 'pass', 'run', 'pass', 'pass', 'run', 'pass', 'pass', 'run', 'run', 'pass', 'pass', 'pass', 'pass', 'run', 'run', 'run', 'run', 'run', 'run', 'run', 'run', 'pass', 'run', 'run', 'pass', 'run', 'run', 'pass', 'run', 'pass', 'run', 'run', 'run', 'run', 'run', 'run', 'run', 'pass', 'run', 'pass', 'run', 'pass', 'run', 'run', 'pass', 'pass', 'run', 'pass', 'run', 'run', 'run', 'run', 'run', 'pass', 'run', 'run', 'run', 'run', 'run', 'run', 'run', 'run', 'pass', 'pass', 'pass', 'pass', 'pass', 'pass', 'pass', 'pass', 'pass', 'pass', 'run', 'run', 'run', 'pass', 'pass', 'run', 'run', 'pass', 'pass', 'pass', 'run', 'pass', 'run', 'run', 'pass', 'run', 'pass', 'pass', 'run', 'pass', 'run', 'run', 'pass', 'pass', 'run', 'run', 'pass', 'run', 'pass', 'run', 'pass', 'run', 'run', 'run', 'run', 'run', 'pass', 'pass', 'run', 'run', 'run', 'run', 'pass', 'run', 'run', 'run', 'pass', 'pass', 'run', 'pass', 'run', 'pass', 'run', 'pass', 'pass', 'pass', 'pass', 'run', 'run', 'run', 'run', 'run', 'pass', 'pass', 'run', 'pass', 'pass', 'run', 'pass', 'pass', 'run', 'run', 'run', 'pass', 'run', 'run', 'pass', 'pass', 'pass', 'pass', 'pass', 'pass', 'pass', 'run', 'run', 'run', 'run', 'run', 'run', 'run', 'run', 'pass', 'pass', 'pass', 'run', 'run', 'pass', 'run', 'pass', 'run', 'run', 'pass', 'run', 'run', 'run', 'run', 'run', 'pass', 'run', 'pass', 'run', 'run', 'pass', 'run', 'pass', 'run', 'run', 'pass', 'pass', 'pass', 'run', 'pass', 'pass', 'pass', 'run', 'pass', 'pass', 'run', 'run', 'run', 'run', 'run', 'pass', 'pass', 'run', 'run', 'run', 'run', 'run', 'run', 'run', 'run', 'pass', 'run', 'pass', 'pass', 'run', 'pass', 'pass', 'run', 'run', 'run', 'run', 'run', 'pass', 'run', 'pass', 'pass', 'pass', 'run', 'run', 'run', 'pass', 'pass', 'pass', 'run', 'pass', 'pass', 'run', 'pass', 'run', 'pass', 'run', 'pass', 'run', 'pass', 'run', 'run', 'run', 'run', 'pass', 'run', 'run', 'run', 'pass', 'pass', 'pass', 'run', 'pass', 'pass', 'pass', 'run', 'pass', 'pass', 'pass', 'pass', 'pass', 'pass', 'pass', 'run', 'run', 'pass', 'run', 'run', 'pass', 'run', 'run', 'run', 'run', 'pass', 'run', 'pass', 'pass', 'run', 'run', 'pass', 'run', 'pass', 'pass', 'run', 'pass', 'pass', 'run', 'pass', 'run', 'run', 'pass', 'pass', 'run', 'pass', 'pass', 'pass', 'run', 'pass', 'pass', 'pass', 'run', 'run', 'run', 'pass', 'run', 'pass', 'run', 'pass', 'run', 'run', 'pass', 'run', 'pass', 'run', 'pass', 'pass', 'pass', 'pass', 'run', 'run', 'run', 'run', 'run', 'pass', 'pass', 'run', 'run', 'run', 'pass', 'run', 'pass', 'pass', 'run', 'pass', 'run', 'pass', 'pass', 'pass', 'run', 'pass', 'run', 'run', 'pass', 'run', 'pass', 'pass', 'run', 'pass', 'pass', 'run', 'pass', 'pass', 'run', 'pass', 'pass', 'pass', 'run', 'pass', 'pass', 'run', 'run', 'pass', 'run', 'run', 'pass', 'pass', 'run', 'pass', 'run', 'run', 'run', 'pass', 'run', 'pass', 'pass', 'pass', 'pass', 'run', 'pass', 'run', 'pass', 'pass', 'pass', 'pass', 'pass', 'run', 'run', 'pass', 'pass', 'run', 'run', 'pass', 'pass', 'pass', 'pass', 'pass', 'pass', 'pass', 'run', 'pass', 'run', 'pass', 'pass', 'run', 'run', 'pass', 'run', 'pass', 'pass', 'pass', 'pass', 'pass', 'run', 'run', 'pass', 'pass', 'run', 'pass', 'run', 'run', 'pass', 'pass', 'run', 'pass', 'run', 'run', 'pass', 'pass', 'run', 'run', 'pass', 'pass', 'pass', 'pass', 'run', 'pass', 'run', 'run', 'run', 'pass', 'run', 'run', 'pass', 'pass', 'pass', 'pass', 'run', 'pass', 'pass', 'pass', 'pass', 'run', 'run', 'run', 'run', 'pass', 'pass', 'pass', 'run', 'run', 'run', 'pass', 'pass', 'run', 'run', 'pass', 'run', 'pass', 'run', 'pass', 'run', 'run', 'pass', 'run', 'pass', 'pass', 'run', 'pass', 'pass', 'run', 'pass', 'pass', 'pass', 'pass', 'pass', 'run', 'pass', 'pass', 'run', 'run', 'run', 'pass', 'pass', 'pass', 'pass', 'pass', 'run', 'pass', 'run', 'pass', 'pass', 'pass', 'pass', 'run', 'pass', 'pass', 'run', 'run', 'pass', 'run', 'run', 'run', 'pass', 'run', 'pass', 'run', 'pass', 'pass', 'pass', 'pass', 'pass', 'pass', 'pass', 'pass', 'pass', 'run', 'pass', 'run', 'pass', 'pass', 'pass', 'run', 'pass', 'run', 'pass', 'pass', 'run', 'pass', 'run', 'run', 'pass', 'pass', 'pass', 'pass', 'run', 'pass', 'pass', 'pass', 'run', 'pass', 'pass', 'pass', 'pass', 'pass', 'run', 'run', 'run', 'pass', 'run', 'pass', 'run', 'pass', 'run', 'run', 'pass', 'pass', 'run', 'run', 'run', 'run', 'pass', 'pass', 'pass', 'run', 'pass', 'run', 'pass', 'pass', 'run', 'pass', 'pass', 'pass', 'pass', 'pass', 'run', 'pass', 'run', 'run', 'run', 'run', 'pass', 'pass', 'pass', 'run', 'run', 'pass', 'run', 'run', 'pass', 'run', 'run', 'pass', 'run', 'run', 'run', 'run', 'run', 'pass', 'run', 'pass', 'run', 'pass', 'pass', 'run', 'pass', 'run', 'run', 'pass', 'pass', 'run', 'pass', 'pass', 'run', 'pass', 'run', 'pass', 'run', 'pass', 'run', 'pass', 'pass', 'pass', 'run', 'pass', 'run', 'run', 'pass', 'run', 'run', 'pass', 'pass', 'run', 'pass', 'pass', 'run', 'run', 'pass', 'run', 'pass', 'pass', 'run', 'run', 'run', 'run', 'pass', 'pass', 'run', 'run', 'pass', 'pass', 'run', 'pass', 'run', 'pass', 'pass', 'pass', 'pass', 'pass', 'pass', 'pass', 'run', 'pass', 'pass', 'run', 'pass', 'run', 'pass', 'pass', 'pass', 'run', 'pass', 'pass', 'pass', 'run', 'pass', 'pass', 'run', 'pass', 'pass', 'pass', 'run', 'run', 'run', 'pass', 'pass', 'pass', 'pass', 'pass', 'run', 'pass', 'run', 'pass', 'pass', 'pass', 'pass', 'pass', 'pass', 'pass', 'run', 'run', 'run', 'run', 'run', 'run', 'pass', 'run', 'pass', 'run', 'pass', 'pass', 'run', 'pass', 'run', 'pass', 'pass', 'run', 'pass', 'run', 'run', 'run', 'pass', 'pass', 'pass', 'run', 'run', 'pass', 'run', 'run', 'run', 'run', 'pass', 'pass', 'run', 'pass', 'run', 'pass', 'pass', 'pass', 'run', 'pass', 'run', 'run', 'run', 'run', 'pass', 'run', 'run', 'run', 'pass', 'run', 'run', 'pass', 'run', 'pass', 'pass', 'pass', 'pass', 'pass', 'pass', 'pass', 'pass', 'pass', 'pass', 'pass', 'run', 'pass', 'pass', 'run', 'run', 'run', 'pass', 'pass', 'pass', 'run', 'run', 'pass', 'run', 'pass', 'pass', 'run', 'pass', 'run', 'run', 'pass', 'pass', 'pass', 'pass', 'run', 'run', 'pass', 'run', 'pass', 'run', 'pass', 'pass', 'pass', 'run', 'pass', 'pass', 'run', 'run', 'pass', 'pass', 'run', 'pass', 'run', 'pass', 'pass', 'pass', 'pass', 'pass', 'pass', 'pass', 'pass', 'run', 'pass', 'pass', 'run', 'pass', 'run', 'pass', 'pass', 'pass', 'pass', 'pass', 'pass', 'run', 'pass', 'pass', 'run', 'run', 'run', 'pass', 'run', 'run', 'run', 'run', 'pass', 'run', 'run', 'run', 'run', 'run', 'pass', 'run', 'run', 'run', 'run', 'run', 'run', 'run', 'run', 'run', 'run', 'run', 'run', 'run', 'run', 'run', 'run', 'run', 'run', 'pass', 'run', 'run', 'pass', 'run', 'run', 'run', 'run', 'run', 'run', 'run', 'run', 'run', 'run', 'pass', 'pass', 'pass', 'pass', 'pass', 'run', 'run', 'run', 'run', 'pass', 'pass', 'run', 'pass', 'run', 'pass', 'run', 'run', 'pass', 'pass', 'pass', 'run', 'pass', 'run', 'run', 'run', 'run', 'pass', 'run', 'pass', 'pass', 'run', 'run', 'run', 'pass', 'pass', 'pass', 'pass', 'pass', 'run', 'run', 'run', 'run', 'run', 'pass', 'pass', 'pass', 'run', 'pass', 'pass', 'run', 'run', 'pass', 'run', 'run', 'run', 'pass', 'run', 'run', 'pass', 'pass', 'run', 'run', 'pass', 'run', 'pass', 'run', 'run', 'pass', 'pass', 'run', 'pass', 'run', 'pass', 'pass', 'run', 'run', 'pass', 'run', 'run', 'pass', 'run', 'pass', 'pass', 'run', 'run', 'run', 'run', 'pass', 'pass', 'run', 'run', 'run', 'pass', 'pass', 'run', 'pass', 'run', 'pass', 'run', 'pass', 'run', 'run', 'pass', 'pass', 'pass', 'pass', 'pass', 'pass', 'pass', 'pass', 'pass', 'pass', 'run', 'pass', 'run', 'pass', 'run', 'run', 'run', 'run', 'run', 'pass', 'run', 'pass', 'pass', 'pass', 'run', 'run', 'run', 'run', 'run', 'pass', 'run', 'pass', 'pass', 'pass', 'pass', 'run', 'run', 'pass', 'pass', 'pass', 'run', 'run', 'run', 'pass', 'run', 'pass', 'pass', 'pass', 'run', 'pass', 'pass', 'run', 'run', 'run', 'run', 'run', 'run', 'pass', 'pass', 'run', 'pass', 'run', 'run', 'run', 'pass', 'pass', 'pass', 'run', 'pass', 'run', 'run', 'pass', 'run', 'run', 'pass', 'pass', 'run', 'run', 'run', 'pass', 'run', 'run', 'run', 'pass', 'run', 'pass', 'run', 'pass', 'run', 'pass', 'run', 'run', 'run', 'run', 'pass', 'run', 'pass', 'pass', 'pass', 'run', 'pass', 'run', 'run', 'run', 'pass', 'pass', 'run', 'pass', 'pass', 'run', 'pass', 'pass', 'pass', 'pass', 'pass', 'pass', 'pass', 'pass', 'pass', 'run', 'run', 'run', 'pass', 'run', 'run', 'run', 'pass', 'run', 'pass', 'pass', 'run', 'run', 'run', 'pass', 'run', 'pass', 'run', 'run', 'pass', 'pass', 'run', 'pass', 'pass', 'pass', 'pass', 'pass', 'run', 'pass', 'run', 'run', 'pass', 'run', 'pass', 'run', 'run', 'pass', 'run', 'pass', 'run', 'pass', 'run', 'run', 'pass', 'pass', 'run', 'run', 'run', 'pass', 'run', 'pass', 'run', 'run', 'pass', 'pass', 'pass', 'run', 'run', 'pass', 'run', 'pass', 'run', 'run', 'pass', 'pass', 'run', 'run', 'pass', 'pass', 'pass', 'run', 'pass', 'run', 'run', 'run', 'pass', 'run', 'run', 'run', 'run', 'run', 'run', 'pass', 'pass', 'pass', 'pass', 'run', 'run', 'pass', 'run', 'pass', 'pass', 'run', 'pass', 'run', 'pass', 'run', 'pass', 'pass', 'pass', 'run', 'run', 'pass', 'run', 'pass', 'run', 'run', 'run', 'pass', 'run', 'pass', 'pass', 'run', 'run', 'run', 'pass', 'run', 'run', 'pass', 'run', 'run', 'pass', 'pass', 'run', 'pass', 'run', 'run', 'pass', 'pass', 'run', 'run', 'run', 'pass', 'run', 'run', 'pass', 'pass', 'run', 'run', 'run', 'run', 'pass', 'run', 'pass', 'pass', 'run', 'run', 'pass', 'run', 'run', 'pass', 'pass', 'run', 'pass', 'run', 'run', 'pass', 'pass', 'run', 'pass', 'run', 'pass', 'run', 'run', 'run', 'pass', 'pass', 'run', 'run', 'run', 'pass', 'pass', 'pass', 'run', 'pass', 'pass', 'pass', 'pass', 'pass', 'pass', 'pass', 'pass', 'pass', 'run', 'run', 'run', 'pass', 'pass', 'pass', 'pass', 'run', 'pass', 'pass', 'pass', 'pass', 'pass', 'run', 'run', 'pass', 'pass', 'pass', 'run', 'pass', 'run', 'pass', 'run', 'run', 'run', 'run', 'pass', 'run', 'pass', 'pass', 'pass', 'run', 'pass', 'run', 'pass', 'run', 'run', 'run', 'run', 'run', 'run', 'pass', 'pass', 'run', 'pass', 'pass', 'run', 'run', 'pass', 'run', 'pass', 'run', 'run', 'pass', 'pass', 'pass', 'run', 'pass', 'pass', 'pass', 'run', 'pass', 'pass', 'pass', 'run', 'run', 'run', 'pass', 'pass', 'run', 'pass', 'pass', 'run', 'run', 'pass', 'pass', 'pass', 'pass', 'pass', 'pass', 'run', 'pass', 'pass', 'pass', 'run', 'pass', 'pass', 'run', 'run', 'pass', 'run', 'pass', 'pass', 'run', 'pass', 'pass', 'pass', 'run', 'pass', 'run', 'pass', 'pass', 'pass', 'run', 'run', 'run', 'pass', 'run', 'run', 'run', 'pass', 'run', 'pass', 'run', 'pass', 'pass', 'run', 'pass', 'run', 'pass', 'pass', 'run', 'pass', 'run', 'run', 'run', 'pass', 'run', 'pass', 'pass', 'pass', 'run', 'pass', 'run', 'pass', 'pass', 'run', 'run', 'pass', 'run', 'pass', 'run', 'pass', 'run', 'pass', 'run', 'run', 'pass', 'pass', 'run', 'pass', 'pass', 'run', 'run', 'run', 'run', 'pass', 'run', 'pass', 'pass', 'run', 'pass', 'pass', 'run', 'run', 'pass', 'pass', 'run', 'pass', 'pass', 'pass', 'pass', 'run', 'pass', 'pass', 'run', 'pass', 'pass', 'pass', 'pass', 'pass', 'pass', 'pass', 'run', 'run', 'run', 'run', 'pass', 'run', 'pass', 'pass', 'run', 'pass', 'pass', 'run', 'pass', 'run', 'pass', 'run', 'run', 'run', 'pass', 'pass', 'pass', 'pass', 'pass', 'pass', 'pass', 'run', 'pass', 'pass', 'run', 'run', 'pass', 'pass', 'pass', 'pass', 'pass', 'pass', 'pass', 'run', 'pass', 'run', 'run', 'run', 'run', 'run', 'run', 'run', 'run', 'run', 'run', 'run', 'run', 'run', 'pass', 'pass', 'pass', 'pass', 'pass', 'pass', 'run', 'run', 'pass', 'run', 'pass', 'pass', 'run', 'pass', 'run', 'run', 'pass', 'pass', 'run', 'pass', 'run', 'pass', 'pass', 'run', 'pass', 'pass', 'run', 'pass', 'pass', 'pass', 'run', 'run', 'pass', 'run', 'pass', 'run', 'pass', 'pass', 'pass', 'pass', 'pass', 'pass', 'pass', 'run', 'pass', 'run', 'pass', 'pass', 'run', 'run', 'run', 'pass', 'run', 'pass', 'pass', 'pass', 'run', 'run', 'pass', 'pass', 'pass', 'pass', 'run', 'pass', 'run', 'run', 'pass', 'run', 'run', 'run', 'pass', 'pass', 'pass', 'pass', 'pass', 'pass', 'run', 'pass', 'pass', 'run', 'pass', 'pass', 'run', 'pass', 'run', 'run', 'pass', 'pass', 'pass', 'pass', 'run', 'pass', 'run', 'run', 'run', 'pass', 'pass', 'pass', 'run', 'run', 'pass', 'run', 'run', 'run', 'run', 'pass', 'pass', 'run', 'pass', 'pass', 'run', 'run', 'run', 'run', 'run', 'pass', 'run', 'run', 'run', 'run', 'run', 'pass', 'pass', 'run', 'pass', 'run', 'run', 'run', 'pass', 'pass', 'run', 'pass', 'run', 'run', 'pass', 'pass', 'run', 'pass', 'pass', 'pass', 'run', 'pass', 'run', 'run', 'run', 'run', 'pass', 'pass', 'run', 'pass', 'pass', 'run', 'pass', 'run', 'pass', 'pass', 'run', 'pass', 'run', 'pass', 'pass', 'pass', 'pass', 'run', 'pass', 'run', 'run', 'run', 'pass', 'run', 'pass', 'run', 'pass', 'pass', 'pass', 'run', 'pass', 'pass', 'run', 'pass', 'run', 'pass', 'run', 'pass', 'pass', 'run', 'run', 'pass', 'run', 'run', 'pass', 'run', 'pass', 'run', 'run', 'run', 'run', 'run', 'pass', 'pass', 'pass', 'run', 'pass', 'run', 'run', 'run', 'pass', 'pass', 'run', 'run', 'pass', 'pass', 'pass', 'run', 'run', 'run', 'pass', 'run', 'run', 'pass', 'pass', 'pass', 'pass', 'run', 'run', 'pass', 'pass', 'run', 'pass', 'pass', 'pass', 'run', 'pass', 'pass', 'run', 'pass', 'run', 'run', 'pass', 'pass', 'pass', 'run', 'run', 'run', 'pass', 'run', 'pass', 'run', 'pass', 'pass', 'run', 'pass', 'run', 'pass', 'run', 'pass', 'pass', 'run', 'pass', 'pass', 'run', 'run', 'pass', 'pass', 'run', 'run', 'pass', 'pass', 'run', 'pass', 'pass', 'pass', 'pass', 'pass', 'run', 'pass', 'pass', 'pass', 'pass', 'pass', 'run', 'run', 'pass', 'run', 'pass', 'pass', 'run', 'pass', 'run', 'pass', 'pass', 'pass', 'run', 'pass', 'pass', 'pass', 'run', 'pass', 'pass', 'run', 'pass', 'pass', 'pass', 'pass', 'pass', 'pass', 'pass', 'pass', 'pass', 'run', 'run', 'pass', 'pass', 'pass', 'run', 'pass', 'run', 'pass', 'pass', 'run', 'run', 'run', 'pass', 'pass', 'run', 'pass', 'run', 'pass', 'run', 'pass', 'run', 'pass', 'pass', 'pass', 'run', 'pass', 'pass', 'run', 'pass', 'pass', 'run', 'pass', 'pass', 'pass', 'run', 'pass', 'run', 'pass', 'run', 'pass', 'pass', 'run', 'run', 'pass', 'pass', 'run', 'pass', 'pass', 'pass', 'pass', 'pass', 'pass', 'pass', 'pass', 'pass', 'pass', 'pass', 'pass', 'pass', 'run', 'pass', 'run', 'pass', 'run', 'pass', 'pass', 'run', 'pass', 'run', 'run', 'pass', 'pass', 'run', 'run', 'pass', 'pass', 'pass', 'pass', 'pass', 'pass', 'pass', 'pass', 'pass', 'run', 'run', 'pass', 'pass', 'run', 'run', 'pass', 'pass', 'pass', 'pass', 'run', 'run', 'pass', 'pass', 'pass', 'pass', 'pass', 'run', 'pass', 'run', 'pass', 'run', 'pass', 'run', 'pass', 'run', 'pass', 'pass', 'pass', 'pass', 'pass', 'run', 'run', 'pass', 'run', 'pass', 'pass', 'run', 'run', 'pass', 'run', 'pass', 'pass', 'run', 'run', 'pass', 'pass', 'run', 'pass', 'run', 'pass', 'pass', 'pass', 'pass', 'pass', 'pass', 'pass', 'pass', 'run', 'run', 'run', 'run', 'pass', 'pass', 'pass', 'pass', 'run', 'pass', 'pass', 'pass', 'run', 'run', 'run', 'pass', 'run', 'run', 'pass', 'pass', 'pass', 'pass', 'run', 'run', 'pass', 'pass', 'run', 'run', 'run', 'run', 'run', 'pass', 'pass', 'run', 'pass', 'pass', 'pass', 'run', 'run', 'pass', 'pass', 'pass', 'pass', 'pass', 'pass', 'run', 'run', 'pass', 'pass', 'pass', 'run', 'pass', 'pass', 'pass', 'run', 'run', 'run', 'run', 'pass', 'pass', 'pass', 'run', 'pass', 'pass', 'pass', 'pass', 'pass', 'pass', 'pass', 'run', 'run', 'pass', 'run', 'run', 'run', 'pass', 'pass', 'run', 'pass', 'run', 'pass', 'run', 'run', 'run', 'pass', 'pass', 'run', 'pass', 'pass', 'run', 'pass', 'run', 'pass', 'run', 'pass', 'run', 'pass', 'run', 'pass', 'pass', 'run', 'pass', 'run', 'pass', 'pass', 'run', 'pass', 'pass', 'pass', 'pass', 'pass', 'pass', 'pass', 'pass', 'pass', 'pass', 'run', 'pass', 'pass', 'run', 'pass', 'pass', 'pass', 'pass', 'run', 'pass', 'run', 'pass', 'run', 'pass', 'pass', 'pass', 'pass', 'pass', 'pass', 'pass', 'pass', 'pass', 'pass', 'pass', 'run', 'run', 'run', 'pass', 'pass', 'run', 'run', 'pass', 'run', 'pass', 'pass', 'run', 'pass', 'run', 'pass', 'pass', 'run', 'run', 'run', 'run', 'pass', 'pass', 'run', 'run', 'run', 'run', 'pass', 'pass', 'pass', 'run', 'pass', 'run', 'pass', 'run', 'pass', 'run', 'run', 'pass', 'run', 'pass', 'pass', 'run', 'pass', 'pass', 'pass', 'run', 'pass', 'pass', 'run', 'pass', 'run', 'run', 'pass', 'pass', 'pass', 'pass', 'run', 'pass', 'run', 'run', 'run', 'pass', 'pass', 'pass', 'pass', 'pass', 'pass', 'pass', 'pass', 'run', 'pass', 'pass', 'run', 'run', 'run', 'run', 'pass', 'run', 'pass', 'run', 'pass', 'run', 'pass', 'run', 'run', 'pass', 'run', 'run', 'run', 'pass', 'pass', 'pass', 'pass', 'run', 'pass', 'pass', 'pass', 'run', 'pass', 'pass', 'run', 'run', 'pass', 'run', 'pass', 'pass', 'run', 'pass', 'run', 'pass', 'pass', 'pass', 'run', 'pass', 'pass', 'run', 'pass', 'run', 'run', 'pass', 'pass', 'run', 'pass', 'run', 'pass', 'run', 'run', 'run', 'pass', 'run', 'run', 'run', 'pass', 'pass', 'run', 'run', 'pass', 'pass', 'run', 'run', 'pass', 'pass', 'run', 'pass', 'pass', 'run', 'pass', 'pass', 'run', 'pass', 'run', 'run', 'pass', 'run', 'run', 'pass', 'pass', 'pass', 'run', 'run', 'run', 'pass', 'pass', 'run', 'run', 'run', 'run', 'run', 'pass', 'run', 'pass', 'pass', 'run', 'pass', 'pass', 'pass', 'pass', 'pass', 'pass', 'pass', 'run', 'pass', 'run', 'run', 'run', 'run', 'run', 'run', 'pass', 'run', 'pass', 'pass', 'pass', 'pass', 'pass', 'run', 'run', 'run', 'run', 'pass', 'pass', 'run', 'pass', 'run', 'run', 'run', 'pass', 'pass', 'pass', 'run', 'run', 'pass', 'pass', 'pass', 'run', 'pass', 'pass', 'run', 'run', 'pass', 'run', 'pass', 'pass', 'pass', 'run', 'pass', 'run', 'pass', 'run', 'pass', 'run', 'run', 'pass', 'run', 'run', 'pass', 'pass', 'run', 'pass', 'run', 'run', 'run', 'pass', 'pass', 'pass', 'run', 'pass', 'run', 'pass', 'pass', 'run', 'pass', 'pass', 'run', 'pass', 'pass', 'pass', 'pass', 'pass', 'run', 'pass', 'run', 'pass', 'run', 'run', 'pass', 'pass', 'pass', 'pass', 'run', 'pass', 'pass', 'pass', 'run', 'run', 'run', 'pass', 'pass', 'pass', 'pass', 'pass', 'run', 'pass', 'run', 'run', 'run', 'pass', 'pass', 'pass', 'pass', 'run', 'pass', 'pass', 'pass', 'pass', 'pass', 'run', 'pass', 'pass', 'run', 'pass', 'run', 'run', 'run', 'run', 'pass', 'run', 'pass', 'pass', 'pass', 'pass', 'pass', 'run', 'run', 'run', 'run', 'run', 'run', 'run', 'pass', 'run', 'run', 'pass', 'run', 'pass', 'pass', 'run', 'run', 'pass', 'run', 'pass', 'pass', 'pass', 'run', 'pass', 'run', 'pass', 'run', 'pass', 'run', 'run', 'pass', 'run', 'pass', 'pass', 'pass', 'pass', 'pass', 'run', 'pass', 'pass', 'pass', 'run', 'run', 'pass', 'run', 'run', 'pass', 'pass', 'run', 'pass', 'pass', 'run', 'run', 'pass', 'run', 'pass', 'pass', 'run', 'pass', 'run', 'pass', 'run', 'pass', 'run', 'pass', 'pass', 'pass', 'pass', 'pass', 'pass', 'pass', 'pass', 'pass', 'pass', 'pass', 'pass', 'pass', 'pass', 'pass', 'run', 'run', 'run', 'pass', 'pass', 'run', 'pass', 'run', 'run', 'run', 'run', 'pass', 'pass', 'run', 'run', 'run', 'pass', 'pass', 'run', 'pass', 'pass', 'pass', 'pass', 'pass', 'run', 'run', 'pass', 'run', 'run', 'run', 'run', 'pass', 'pass', 'pass', 'run', 'pass', 'pass', 'run', 'run', 'run', 'run', 'run', 'run', 'run', 'pass', 'pass', 'pass', 'pass', 'pass', 'pass', 'pass', 'pass', 'run', 'run', 'pass', 'pass', 'pass', 'pass', 'pass', 'run', 'run', 'run', 'run', 'pass', 'pass', 'pass', 'pass', 'run', 'pass', 'run', 'pass', 'run', 'pass', 'run', 'run', 'pass', 'run', 'pass', 'run', 'pass', 'run', 'pass', 'pass', 'run', 'pass', 'run', 'run', 'run', 'pass', 'run', 'run', 'pass', 'pass', 'run', 'run', 'run', 'pass', 'pass', 'run', 'pass', 'pass', 'pass', 'pass', 'run', 'run', 'run', 'pass', 'run', 'pass', 'pass', 'run', 'run', 'run', 'pass', 'pass', 'run', 'pass', 'pass', 'run', 'pass', 'pass', 'pass', 'pass', 'run', 'pass', 'run', 'run', 'run', 'run', 'pass', 'pass', 'run', 'pass', 'pass', 'run', 'pass', 'pass', 'run', 'pass', 'run', 'run', 'pass', 'pass', 'run', 'pass', 'run', 'pass', 'run', 'pass', 'pass', 'run', 'run', 'run', 'pass', 'pass', 'pass', 'run', 'run', 'pass', 'run', 'run', 'run', 'pass', 'run', 'pass', 'run', 'run', 'run', 'pass', 'pass', 'run', 'pass', 'pass', 'pass', 'pass', 'pass', 'pass', 'pass', 'pass', 'pass', 'pass', 'pass', 'pass', 'run', 'pass', 'pass', 'run', 'run', 'pass', 'pass', 'pass', 'run', 'pass', 'pass', 'run', 'run', 'run', 'pass', 'pass', 'run', 'run', 'run', 'pass', 'run', 'run', 'pass', 'pass', 'pass', 'run', 'run', 'pass', 'run', 'run', 'run', 'pass', 'pass', 'run', 'run', 'run', 'pass', 'run', 'pass', 'pass', 'pass', 'run', 'pass', 'pass', 'pass', 'run', 'pass', 'pass', 'pass', 'pass', 'run', 'run', 'pass', 'pass', 'run', 'pass', 'pass', 'pass', 'pass', 'pass', 'pass', 'pass', 'pass', 'pass', 'run', 'run', 'run', 'run', 'run', 'pass', 'run', 'run', 'run', 'run', 'pass', 'run', 'pass', 'pass', 'run', 'pass', 'run', 'pass', 'pass', 'pass', 'pass', 'pass', 'run', 'pass', 'pass', 'run', 'run', 'run', 'run', 'pass', 'run', 'pass', 'pass', 'pass', 'pass', 'run', 'run', 'pass', 'pass', 'run', 'run', 'pass', 'run', 'pass', 'run', 'pass', 'run', 'pass', 'run', 'pass', 'pass', 'pass', 'pass', 'pass', 'pass', 'pass', 'pass', 'pass', 'run', 'pass', 'pass', 'pass', 'run', 'pass', 'run', 'run', 'pass', 'run', 'pass', 'run', 'run', 'pass', 'pass', 'pass', 'run', 'run', 'run', 'run', 'pass', 'pass', 'run', 'run', 'pass', 'run', 'run', 'pass', 'pass', 'pass', 'pass', 'pass', 'run', 'pass', 'pass', 'pass', 'pass', 'run', 'run', 'pass', 'run', 'run', 'pass', 'pass', 'pass', 'run', 'pass', 'run', 'pass', 'run', 'run', 'pass', 'pass', 'run', 'pass', 'pass', 'run', 'run', 'run', 'run', 'pass', 'pass', 'run', 'run', 'pass', 'pass', 'run', 'pass', 'run', 'run', 'run', 'run', 'pass', 'run', 'run', 'pass', 'run', 'pass', 'pass', 'pass', 'run', 'pass', 'pass', 'run', 'pass', 'run', 'pass', 'run', 'pass', 'pass', 'run', 'pass', 'run', 'pass', 'run', 'pass', 'run', 'pass', 'pass', 'pass', 'run', 'pass', 'run', 'run', 'run', 'run', 'pass', 'pass', 'pass', 'run', 'pass', 'run', 'pass', 'run', 'run', 'pass', 'pass', 'run', 'pass', 'run', 'run', 'pass', 'pass', 'run', 'pass', 'run', 'pass', 'run', 'run', 'run', 'run', 'pass', 'pass', 'run', 'pass', 'run', 'pass', 'pass', 'run', 'pass', 'run', 'pass', 'pass', 'pass', 'pass', 'run', 'pass', 'run', 'pass', 'pass', 'run', 'pass', 'run', 'pass', 'run', 'run', 'run', 'pass', 'run', 'pass', 'pass', 'pass', 'run', 'pass', 'pass', 'run', 'run', 'pass', 'pass', 'pass', 'run', 'pass', 'run', 'pass', 'pass', 'run', 'pass', 'pass', 'pass', 'run', 'pass', 'pass', 'pass', 'pass', 'pass', 'run', 'pass', 'pass', 'run', 'pass', 'run', 'run', 'pass', 'run', 'pass', 'pass', 'pass', 'pass', 'pass', 'run', 'pass', 'run', 'pass', 'run', 'pass', 'run', 'pass', 'pass', 'run', 'run', 'run', 'run', 'run', 'pass', 'run', 'run', 'pass', 'pass', 'pass', 'pass', 'pass', 'pass', 'run', 'pass', 'pass', 'run', 'run', 'pass', 'run', 'run', 'pass', 'pass', 'run', 'pass', 'pass', 'pass', 'run', 'pass', 'run', 'pass', 'pass', 'pass', 'run', 'pass', 'run', 'run', 'run', 'pass', 'run', 'pass', 'run', 'pass', 'pass', 'run', 'pass', 'pass', 'run', 'pass', 'pass', 'run', 'pass', 'run', 'pass', 'pass', 'run', 'pass', 'pass', 'pass', 'pass', 'run', 'run', 'pass', 'run', 'run', 'pass', 'run', 'run', 'pass', 'run', 'pass', 'pass', 'run', 'pass', 'pass', 'pass', 'pass', 'pass', 'pass', 'pass', 'pass', 'run', 'run', 'run', 'pass', 'pass', 'pass', 'run', 'run', 'run', 'run', 'pass', 'run', 'pass', 'pass', 'pass', 'run', 'pass', 'run', 'pass', 'pass', 'run', 'run', 'pass', 'pass', 'run', 'run', 'pass', 'pass', 'run', 'run', 'pass', 'pass', 'pass', 'run', 'pass', 'pass', 'pass', 'run', 'run', 'pass', 'pass', 'pass', 'pass', 'pass', 'pass', 'run', 'pass', 'pass', 'pass', 'pass', 'run', 'run', 'pass', 'run', 'pass', 'run', 'pass', 'pass', 'pass', 'pass', 'run', 'run', 'pass', 'pass', 'run', 'pass', 'pass', 'run', 'pass', 'pass', 'run', 'run', 'pass', 'pass', 'run', 'run', 'run', 'pass', 'pass', 'run', 'pass', 'pass', 'pass', 'run', 'run', 'pass', 'run', 'run', 'pass', 'run', 'run', 'pass', 'run', 'pass', 'run', 'run', 'pass', 'pass', 'run', 'run', 'run', 'pass', 'run', 'pass', 'run', 'run', 'pass', 'run', 'pass', 'run', 'pass', 'pass', 'pass', 'run', 'pass', 'run', 'pass', 'pass', 'pass', 'pass', 'run', 'pass', 'pass', 'pass', 'pass', 'pass', 'pass', 'pass', 'run', 'pass', 'run', 'run', 'pass', 'run', 'pass', 'pass', 'run', 'pass', 'run', 'pass', 'pass', 'pass', 'pass', 'run', 'pass', 'run', 'pass', 'run', 'run', 'pass', 'pass', 'pass', 'run', 'run', 'run', 'run', 'pass', 'run', 'pass', 'run', 'run', 'run', 'pass', 'pass', 'run', 'run', 'run', 'pass', 'pass', 'pass', 'run', 'run', 'pass', 'pass', 'pass', 'pass', 'pass', 'pass', 'run', 'pass', 'pass', 'pass', 'pass', 'pass', 'run', 'pass', 'pass', 'run', 'run', 'pass', 'run', 'pass', 'run', 'run', 'run', 'run', 'pass', 'pass', 'pass', 'pass', 'pass', 'pass', 'run', 'run', 'run', 'pass', 'pass', 'pass', 'pass', 'run', 'pass', 'pass', 'pass', 'pass', 'pass', 'run', 'run', 'run', 'pass', 'pass', 'pass', 'pass', 'pass', 'pass', 'pass', 'pass', 'run', 'run', 'pass', 'pass', 'run', 'run', 'pass', 'run', 'run', 'run', 'pass', 'pass', 'pass', 'pass', 'run', 'pass', 'run', 'pass', 'run', 'run', 'pass', 'run', 'pass', 'run', 'pass', 'pass', 'run', 'run', 'pass', 'pass', 'pass', 'pass', 'run', 'pass', 'pass', 'pass', 'pass', 'pass', 'pass', 'pass', 'pass', 'run', 'pass', 'pass', 'pass', 'run', 'pass', 'run', 'pass', 'run', 'run', 'pass', 'run', 'run', 'pass', 'pass', 'pass', 'pass', 'run', 'run', 'run', 'run', 'pass', 'run', 'pass', 'pass', 'run', 'run', 'run', 'pass', 'run', 'pass', 'run', 'pass', 'run', 'run', 'pass', 'run', 'pass', 'run', 'run', 'pass', 'pass', 'run', 'pass', 'pass', 'run', 'pass', 'run', 'pass', 'run', 'run', 'pass', 'run', 'run', 'run', 'run', 'pass', 'run', 'pass', 'run', 'run', 'pass', 'run', 'pass', 'pass', 'pass', 'run', 'run', 'pass', 'run', 'pass', 'pass', 'run', 'run', 'pass', 'run', 'run', 'run', 'run', 'pass', 'pass', 'run', 'pass', 'pass', 'pass', 'pass', 'run', 'pass', 'pass', 'pass', 'run', 'run', 'run', 'run', 'run', 'pass', 'pass', 'run', 'pass', 'run', 'pass', 'pass', 'run', 'run', 'run', 'run', 'run', 'pass', 'pass', 'pass', 'pass', 'run', 'pass', 'pass', 'pass', 'pass', 'pass', 'pass', 'run', 'pass', 'pass', 'pass', 'run', 'pass', 'run', 'pass', 'pass', 'pass', 'run', 'pass', 'pass', 'pass', 'pass', 'run', 'pass', 'run', 'run', 'pass', 'run', 'pass', 'run', 'pass', 'run', 'run', 'run', 'pass', 'pass', 'run', 'pass', 'pass', 'run', 'pass', 'pass', 'run', 'pass', 'pass', 'run', 'pass', 'run', 'pass', 'run', 'pass', 'pass', 'run', 'pass', 'pass', 'pass', 'pass', 'run', 'run', 'run', 'run', 'run', 'run', 'run', 'pass', 'pass', 'pass', 'run', 'run', 'run', 'pass', 'pass', 'run', 'run', 'run', 'pass', 'run', 'run', 'run', 'run', 'pass', 'run', 'pass', 'pass', 'pass', 'run', 'run', 'pass', 'pass', 'run', 'pass', 'pass', 'pass', 'run', 'pass', 'run', 'pass', 'run', 'pass', 'pass', 'run', 'pass', 'run', 'pass', 'pass', 'pass', 'run', 'pass', 'run', 'pass', 'run', 'pass', 'run', 'run', 'run', 'pass', 'pass', 'pass', 'pass', 'pass', 'pass', 'pass', 'pass', 'pass', 'pass', 'pass', 'pass', 'pass', 'run', 'run', 'run', 'pass', 'run', 'pass', 'run', 'pass', 'run', 'pass', 'run', 'pass', 'pass', 'pass', 'pass', 'run', 'pass', 'pass', 'run', 'pass', 'pass', 'pass', 'run', 'pass', 'pass', 'pass', 'run', 'run', 'run', 'pass', 'pass', 'pass', 'run', 'run', 'run', 'pass', 'pass', 'pass', 'run', 'pass', 'pass', 'run', 'pass', 'pass', 'pass', 'pass', 'pass', 'pass', 'pass', 'pass', 'pass', 'pass', 'pass', 'pass', 'pass', 'run', 'run', 'run', 'run', 'pass', 'pass', 'pass', 'pass', 'pass', 'pass', 'pass', 'pass', 'run', 'pass', 'run', 'run', 'pass', 'pass', 'pass', 'pass', 'pass', 'pass', 'run', 'pass', 'run', 'run', 'pass', 'pass', 'run', 'pass', 'run', 'pass', 'pass', 'run', 'pass', 'run', 'run', 'pass', 'run', 'run', 'pass', 'pass', 'run', 'pass', 'pass', 'pass', 'run', 'run', 'pass', 'pass', 'run', 'pass', 'run', 'run', 'pass', 'run', 'pass', 'run', 'pass', 'pass', 'run', 'run', 'pass', 'pass', 'run', 'pass', 'pass', 'pass', 'pass', 'pass', 'pass', 'pass', 'pass', 'pass', 'pass', 'pass', 'pass', 'pass', 'run', 'pass', 'pass', 'pass', 'pass', 'pass', 'pass', 'pass', 'run', 'pass', 'pass', 'run', 'pass', 'pass', 'run', 'run', 'pass', 'run', 'pass', 'run', 'run', 'run', 'pass', 'pass', 'run', 'pass', 'run', 'pass', 'pass', 'pass', 'run', 'pass', 'pass', 'run', 'run', 'run', 'pass', 'run', 'pass', 'run', 'pass', 'run', 'pass', 'run', 'run', 'run', 'run', 'run', 'run', 'run', 'run', 'run', 'run', 'run', 'run', 'pass', 'run', 'pass', 'run', 'pass', 'pass', 'run', 'pass', 'pass', 'pass', 'pass', 'pass', 'run', 'pass', 'run', 'run', 'pass', 'run', 'pass', 'pass', 'run', 'run', 'pass', 'pass', 'pass', 'pass', 'pass', 'pass', 'pass', 'pass', 'pass', 'pass', 'run', 'pass', 'pass', 'run', 'run', 'pass', 'pass', 'pass', 'run', 'pass', 'pass', 'run', 'pass', 'pass', 'run', 'pass', 'pass', 'pass', 'run', 'pass', 'run', 'run', 'pass', 'pass', 'run', 'pass', 'pass', 'pass', 'pass', 'run', 'pass', 'run', 'pass', 'run', 'pass', 'run', 'pass', 'run', 'pass', 'pass', 'pass', 'pass', 'pass', 'pass', 'run', 'pass', 'pass', 'pass', 'run', 'pass', 'pass', 'run', 'pass', 'run', 'pass', 'run', 'run', 'pass', 'pass', 'pass', 'pass', 'run', 'run', 'run', 'pass', 'run', 'run', 'run', 'pass', 'pass', 'run', 'pass', 'run', 'run', 'pass', 'pass', 'run', 'pass', 'pass', 'run', 'run', 'pass', 'run', 'pass', 'pass', 'pass', 'run', 'pass', 'pass', 'run', 'pass', 'run', 'pass', 'pass', 'run', 'pass', 'pass', 'run', 'pass', 'pass', 'run', 'pass', 'run', 'run', 'pass', 'pass', 'run', 'pass', 'run', 'pass', 'run', 'run', 'run', 'pass', 'run', 'pass', 'pass', 'run', 'run', 'pass', 'run', 'run', 'run', 'run', 'pass', 'run', 'pass', 'pass', 'pass', 'pass', 'pass', 'pass', 'pass', 'pass', 'run', 'pass', 'pass', 'pass', 'run', 'run', 'pass', 'run', 'pass', 'pass', 'pass', 'pass', 'pass', 'pass', 'pass', 'run', 'run', 'run', 'pass', 'run', 'run', 'pass', 'pass', 'pass', 'run', 'pass', 'run', 'pass', 'run', 'pass', 'pass', 'pass', 'pass', 'run', 'pass', 'run', 'pass', 'run', 'run', 'run', 'run', 'run', 'pass', 'pass', 'run', 'run', 'pass', 'pass', 'pass', 'pass', 'pass', 'run', 'pass', 'pass', 'pass', 'run', 'run', 'pass', 'pass', 'run', 'pass', 'pass', 'pass', 'run', 'pass', 'pass', 'run', 'pass', 'pass', 'pass', 'pass', 'run', 'run', 'run', 'run', 'run', 'pass', 'pass', 'pass', 'pass', 'pass', 'pass', 'pass', 'run', 'pass', 'run', 'run', 'pass', 'run', 'pass', 'run', 'pass', 'run', 'pass', 'run', 'run', 'run', 'pass', 'run', 'pass', 'pass', 'pass', 'run', 'run', 'run', 'pass', 'run', 'pass', 'pass', 'run', 'pass', 'run', 'run', 'pass', 'pass', 'pass', 'pass', 'run', 'pass', 'pass', 'pass', 'pass', 'run', 'run', 'pass', 'run', 'pass', 'pass', 'pass', 'pass', 'pass', 'run', 'pass', 'pass', 'pass', 'run', 'run', 'run', 'pass', 'run', 'run', 'pass', 'pass', 'run', 'run', 'run', 'pass', 'run', 'run', 'pass', 'run', 'run', 'pass', 'pass', 'pass', 'run', 'run', 'pass', 'pass', 'pass', 'pass', 'run', 'pass', 'run', 'run', 'pass', 'run', 'run', 'run', 'run', 'run', 'pass', 'run', 'pass', 'pass', 'pass', 'run', 'run', 'pass', 'pass', 'pass', 'run', 'pass', 'run', 'pass', 'pass', 'pass', 'pass', 'run', 'run', 'pass', 'pass', 'pass', 'pass', 'pass', 'pass', 'pass', 'run', 'pass', 'pass', 'run', 'pass', 'pass', 'pass', 'pass', 'run', 'run', 'run', 'pass', 'run', 'pass', 'run', 'run', 'run', 'pass', 'run', 'pass', 'pass', 'run', 'pass', 'pass', 'run', 'pass', 'pass', 'pass', 'pass', 'pass', 'pass', 'run', 'run', 'run', 'run', 'run', 'pass', 'pass', 'run', 'run', 'pass', 'run', 'run', 'run', 'pass', 'run', 'pass', 'run', 'run', 'pass', 'pass', 'run', 'pass', 'run', 'pass', 'pass', 'pass', 'run', 'run', 'run', 'run', 'pass', 'pass', 'pass', 'pass', 'pass', 'pass', 'run', 'pass', 'pass', 'run', 'run', 'run', 'pass', 'run', 'run', 'pass', 'pass', 'run', 'pass', 'run', 'run', 'run', 'run', 'pass', 'pass', 'run', 'pass', 'pass', 'run', 'pass', 'pass', 'pass', 'pass', 'run', 'pass', 'pass', 'run', 'pass', 'run', 'run', 'run', 'run', 'run', 'run', 'run', 'pass', 'pass', 'run', 'pass', 'pass', 'run', 'run', 'run', 'run', 'run', 'run', 'pass', 'pass', 'pass', 'pass', 'run', 'run', 'run', 'run', 'run', 'pass', 'pass', 'pass', 'run', 'pass', 'run', 'run', 'run', 'run', 'pass', 'pass', 'run', 'pass', 'pass', 'pass', 'pass', 'pass', 'run', 'pass', 'pass', 'run', 'pass', 'run', 'run', 'pass', 'run', 'pass', 'pass', 'pass', 'run', 'pass', 'pass', 'run', 'pass', 'run', 'run', 'run', 'run', 'pass', 'pass', 'run', 'pass', 'run', 'run', 'run', 'run', 'pass', 'pass', 'pass', 'pass', 'pass', 'run', 'pass', 'pass', 'pass', 'run', 'pass', 'pass', 'run', 'pass', 'run', 'run', 'run', 'run', 'pass', 'run', 'run', 'run', 'pass', 'run', 'pass', 'pass', 'pass', 'pass', 'pass', 'run', 'pass', 'run', 'pass', 'run', 'pass', 'run', 'run', 'run', 'run', 'pass', 'run', 'run', 'run', 'run', 'pass', 'pass', 'pass', 'pass', 'pass', 'pass', 'pass', 'pass', 'pass', 'pass', 'pass', 'pass', 'pass', 'pass', 'pass', 'pass', 'pass', 'pass', 'pass', 'pass', 'pass', 'run', 'pass', 'run', 'pass', 'pass', 'pass', 'run', 'run', 'pass', 'run', 'pass', 'run', 'pass', 'run', 'pass', 'pass', 'run', 'pass', 'pass', 'pass', 'run', 'pass', 'run', 'run', 'pass', 'pass', 'pass', 'run', 'run', 'pass', 'pass', 'pass', 'pass', 'run', 'run', 'pass', 'pass', 'run', 'pass', 'pass', 'pass', 'run', 'run', 'run', 'run', 'pass', 'pass', 'pass', 'pass', 'pass', 'run', 'pass', 'run', 'pass', 'run', 'pass', 'run', 'run', 'run', 'pass', 'pass', 'run', 'run', 'run', 'run', 'run', 'pass', 'pass', 'run', 'run', 'run', 'pass', 'run', 'run', 'run', 'run', 'pass', 'run', 'run', 'run', 'run', 'run', 'run', 'pass', 'run', 'run', 'run', 'pass', 'run', 'run', 'pass', 'pass', 'pass', 'run', 'pass', 'run', 'pass', 'run', 'pass', 'pass', 'run', 'run', 'run', 'pass', 'pass', 'run', 'run', 'pass', 'run', 'pass', 'run', 'run', 'pass', 'run', 'pass', 'pass', 'run', 'pass', 'run', 'run', 'pass', 'run', 'pass', 'run', 'pass', 'run', 'run', 'pass', 'pass', 'run', 'pass', 'run', 'run', 'pass', 'pass', 'run', 'pass', 'pass', 'pass', 'run', 'run', 'run', 'run', 'pass', 'pass', 'pass', 'pass', 'pass', 'pass', 'pass', 'pass', 'pass', 'pass', 'pass', 'pass', 'run', 'pass', 'run', 'run', 'run', 'run', 'pass', 'pass', 'pass', 'run', 'pass', 'pass', 'pass', 'pass', 'run', 'run', 'run', 'run', 'pass', 'run', 'run', 'pass', 'run', 'pass', 'pass', 'run', 'pass', 'pass', 'pass', 'run', 'run', 'pass', 'pass', 'run', 'run', 'run', 'run', 'pass', 'run', 'run', 'run', 'run', 'run', 'pass', 'pass', 'pass', 'pass', 'pass', 'pass', 'pass', 'pass', 'pass', 'pass', 'pass', 'pass', 'pass', 'pass', 'pass', 'pass', 'run', 'run', 'pass', 'pass', 'run', 'run', 'pass', 'pass', 'run', 'run', 'pass', 'run', 'run', 'pass', 'run', 'pass', 'pass', 'pass', 'run', 'pass', 'run', 'run', 'pass', 'run', 'pass', 'pass', 'pass', 'pass', 'pass', 'pass', 'run', 'run', 'pass', 'run', 'run', 'run', 'run', 'pass', 'pass', 'run', 'run', 'pass', 'pass', 'pass', 'run', 'run', 'pass', 'run', 'pass', 'run', 'pass', 'run', 'pass', 'pass', 'pass', 'pass', 'pass', 'run', 'pass', 'pass', 'pass', 'run', 'pass', 'pass', 'pass', 'run', 'run', 'run', 'pass', 'pass', 'run', 'pass', 'run', 'run', 'run', 'pass', 'pass', 'run', 'run', 'run', 'run', 'pass', 'pass', 'pass', 'pass', 'pass', 'pass', 'run', 'pass', 'pass', 'pass', 'run', 'pass', 'pass', 'pass', 'pass', 'run', 'run', 'pass', 'pass', 'run', 'pass', 'pass', 'run', 'pass', 'run', 'run', 'run', 'run', 'pass', 'run', 'run', 'run', 'pass', 'pass', 'pass', 'pass', 'pass', 'pass', 'pass', 'run', 'run', 'pass', 'run', 'pass', 'run', 'run', 'run', 'run', 'run', 'pass', 'pass', 'pass', 'pass', 'run', 'pass', 'run', 'run', 'run', 'run', 'pass', 'pass', 'run', 'run', 'pass', 'run', 'run', 'pass', 'run', 'pass', 'pass', 'run', 'run', 'run', 'run', 'run', 'pass', 'run', 'pass', 'pass', 'run', 'run', 'pass', 'run', 'run', 'run', 'run', 'run', 'run', 'run', 'pass', 'pass', 'pass', 'pass', 'pass', 'run', 'pass', 'pass', 'run', 'pass', 'pass', 'pass', 'pass', 'run', 'pass', 'pass', 'pass', 'run', 'pass', 'pass', 'run', 'run', 'run', 'pass', 'pass', 'pass', 'run', 'run', 'pass', 'pass', 'pass', 'pass', 'run', 'pass', 'pass', 'run', 'run', 'run', 'pass', 'pass', 'pass', 'pass', 'pass', 'pass', 'pass', 'run', 'pass', 'pass', 'run', 'run', 'pass', 'pass', 'pass', 'run', 'pass', 'pass', 'pass', 'pass', 'pass', 'pass', 'pass', 'pass', 'pass', 'pass', 'pass', 'run', 'run', 'pass', 'run', 'pass', 'pass', 'pass', 'run', 'pass', 'pass', 'run', 'run', 'run', 'pass', 'pass', 'run', 'pass', 'pass', 'pass', 'run', 'pass', 'run', 'pass', 'pass', 'run', 'pass', 'run', 'run', 'run', 'run', 'pass', 'pass', 'run', 'pass', 'pass', 'run', 'pass', 'run', 'run', 'pass', 'pass', 'pass', 'run', 'pass', 'pass', 'run', 'pass', 'pass', 'run', 'pass', 'pass', 'pass', 'pass', 'pass', 'pass', 'pass', 'pass', 'pass', 'pass', 'pass', 'run', 'pass', 'pass', 'run', 'run', 'pass', 'pass', 'run', 'pass', 'run', 'pass', 'pass', 'pass', 'pass', 'run', 'run', 'pass', 'pass', 'run', 'run', 'run', 'run', 'pass', 'pass', 'run', 'pass', 'run', 'run', 'run', 'pass', 'run', 'run', 'run', 'run', 'pass', 'run', 'run', 'pass', 'run', 'run', 'pass', 'run', 'run', 'pass', 'pass', 'pass', 'pass', 'pass', 'pass', 'pass', 'pass', 'pass', 'run', 'run', 'pass', 'pass', 'pass', 'pass', 'run', 'pass', 'pass', 'run', 'run', 'pass', 'pass', 'pass', 'pass', 'pass', 'run', 'run', 'pass', 'pass', 'run', 'run', 'run', 'pass', 'pass', 'run', 'run', 'pass', 'pass', 'run', 'run', 'pass', 'pass', 'pass', 'run', 'run', 'pass', 'run', 'pass', 'run', 'pass', 'pass', 'run', 'run', 'run', 'pass', 'run', 'pass', 'pass', 'run', 'pass', 'pass', 'run', 'run', 'pass', 'pass', 'run', 'pass', 'run', 'pass', 'run', 'pass', 'run', 'pass', 'pass', 'run', 'run', 'pass', 'pass', 'run', 'run', 'run', 'run', 'pass', 'pass', 'pass', 'pass', 'run', 'pass', 'pass', 'run', 'pass', 'run', 'run', 'pass', 'pass', 'run', 'pass', 'run', 'run', 'run', 'run', 'run', 'pass', 'pass', 'run', 'run', 'run', 'run', 'pass', 'run', 'pass', 'run', 'pass', 'run', 'run', 'pass', 'pass', 'run', 'pass', 'pass', 'pass', 'run', 'run', 'pass', 'pass', 'pass', 'pass', 'pass', 'pass', 'pass', 'pass', 'pass', 'run', 'run', 'pass', 'run', 'run', 'run', 'run', 'run', 'run', 'run', 'pass', 'run', 'pass', 'pass', 'run', 'pass', 'pass', 'run', 'run', 'run', 'pass', 'pass', 'run', 'pass', 'pass', 'pass', 'pass', 'run', 'pass', 'run', 'pass', 'run', 'run', 'run', 'pass', 'pass', 'pass', 'run', 'pass', 'run', 'run', 'run', 'run', 'pass', 'run', 'run', 'pass', 'run', 'pass', 'pass', 'run', 'pass', 'pass', 'run', 'pass', 'pass', 'run', 'run', 'pass', 'pass', 'pass', 'pass', 'pass', 'pass', 'run', 'pass', 'pass', 'pass', 'pass', 'pass', 'pass', 'pass', 'run', 'run', 'pass', 'pass', 'run', 'pass', 'pass', 'run', 'run', 'pass', 'run', 'pass', 'pass', 'run', 'pass', 'run', 'pass', 'run', 'pass', 'pass', 'pass', 'pass', 'pass', 'pass', 'run', 'pass', 'pass', 'pass', 'pass', 'pass', 'pass', 'run', 'run', 'run', 'pass', 'run', 'run', 'pass', 'pass', 'pass', 'pass', 'pass', 'pass', 'pass', 'pass', 'run', 'run', 'run', 'run', 'run', 'pass', 'run', 'pass', 'pass', 'run', 'run', 'pass', 'pass', 'run', 'pass', 'pass', 'pass', 'pass', 'pass', 'pass', 'run', 'pass', 'run', 'run', 'run', 'run', 'run', 'run', 'pass', 'pass', 'pass', 'pass', 'run', 'run', 'run', 'pass', 'pass', 'pass', 'run', 'run', 'pass', 'run', 'pass', 'pass', 'pass', 'run', 'pass', 'run', 'pass', 'pass', 'pass', 'run', 'run', 'pass', 'run', 'pass', 'pass', 'pass', 'pass', 'pass', 'pass', 'pass', 'pass', 'pass', 'pass', 'run', 'pass', 'pass', 'run', 'run', 'run', 'pass', 'pass', 'run', 'pass', 'run', 'run', 'pass', 'pass', 'pass', 'run', 'run', 'run', 'run', 'run', 'run', 'run', 'run', 'run', 'pass', 'run', 'pass', 'pass', 'run', 'run', 'pass', 'run', 'run', 'pass', 'run', 'pass', 'pass', 'pass', 'run', 'pass', 'run', 'pass', 'pass', 'run', 'run', 'run', 'run', 'run', 'run', 'pass', 'run', 'run', 'pass', 'pass', 'run', 'run', 'pass', 'pass', 'run', 'pass', 'run', 'pass', 'pass', 'run', 'pass', 'run', 'run', 'pass', 'pass', 'run', 'pass', 'run', 'pass', 'pass', 'run', 'run', 'run', 'pass', 'pass', 'run', 'pass', 'run', 'pass', 'run', 'pass', 'pass', 'pass', 'run', 'pass', 'pass', 'run', 'run', 'pass', 'run', 'pass', 'pass', 'pass', 'run', 'run', 'run', 'pass', 'run', 'run', 'pass', 'pass', 'pass', 'pass', 'run', 'run', 'pass', 'pass', 'pass', 'run', 'pass', 'pass', 'run', 'pass', 'run', 'pass', 'pass', 'pass', 'pass', 'pass', 'run', 'run', 'pass', 'pass', 'run', 'run', 'pass', 'run', 'run', 'run', 'run', 'pass', 'run', 'pass', 'run', 'run', 'run', 'run', 'pass', 'pass', 'run', 'pass', 'pass', 'run', 'pass', 'run', 'run', 'run', 'run', 'run', 'run', 'run', 'run', 'pass', 'pass', 'pass', 'run', 'run', 'run', 'pass', 'pass', 'pass', 'pass', 'pass', 'pass', 'pass', 'pass', 'pass', 'pass', 'pass', 'run', 'run', 'pass', 'pass', 'pass', 'run', 'pass', 'pass', 'pass', 'run', 'run', 'run', 'pass', 'pass', 'pass', 'run', 'run', 'run', 'run', 'run', 'pass', 'run', 'pass', 'run', 'run', 'pass', 'pass', 'pass', 'pass', 'pass', 'run', 'run', 'run', 'run', 'pass', 'run', 'run', 'pass', 'run', 'pass', 'pass', 'run', 'pass', 'pass', 'run', 'pass', 'pass', 'run', 'pass', 'pass', 'run', 'pass', 'pass', 'pass', 'run', 'pass', 'pass', 'pass', 'pass', 'pass', 'pass', 'pass', 'pass', 'pass', 'run', 'pass', 'pass', 'pass', 'pass', 'pass', 'run', 'run', 'run', 'pass', 'run', 'pass', 'pass', 'run', 'run', 'pass', 'run', 'run', 'run', 'pass', 'run', 'run', 'pass', 'pass', 'pass', 'pass', 'run', 'run', 'run', 'run', 'run', 'run', 'pass', 'pass', 'run', 'run', 'run', 'run', 'run', 'run', 'run', 'run', 'pass', 'pass', 'pass', 'pass', 'pass', 'run', 'pass', 'pass', 'pass', 'run', 'pass', 'run', 'run', 'run', 'run', 'pass', 'pass', 'pass', 'pass', 'run', 'pass', 'pass', 'pass', 'pass', 'pass', 'run', 'run', 'pass', 'pass', 'pass', 'pass', 'run', 'run', 'pass', 'run', 'pass', 'pass', 'run', 'pass', 'pass', 'run', 'run', 'pass', 'pass', 'run', 'run', 'pass', 'run', 'pass', 'pass', 'pass', 'pass', 'pass', 'pass', 'pass', 'run', 'pass', 'pass', 'run', 'pass', 'pass', 'pass', 'pass', 'run', 'run', 'run', 'pass', 'run', 'run', 'run', 'run', 'run', 'pass', 'pass', 'pass', 'run', 'run', 'run', 'pass', 'pass', 'run', 'run', 'run', 'pass', 'pass', 'run', 'pass', 'run', 'pass', 'run', 'pass', 'pass', 'run', 'pass', 'run', 'pass', 'pass', 'run', 'run', 'run', 'pass', 'run', 'run', 'pass', 'run', 'pass', 'run', 'run', 'pass', 'pass', 'run', 'run', 'run', 'run', 'pass', 'run', 'pass', 'run', 'run', 'run', 'run', 'run', 'pass', 'run', 'pass', 'run', 'pass', 'run', 'run', 'run', 'pass', 'run', 'pass', 'pass', 'run', 'pass', 'pass', 'pass', 'run', 'pass', 'run', 'pass', 'pass', 'run', 'pass', 'run', 'pass', 'run', 'run', 'pass', 'pass', 'run', 'pass', 'run', 'pass', 'run', 'run', 'run', 'run', 'pass', 'pass', 'pass', 'run', 'pass', 'pass', 'run', 'pass', 'run', 'run', 'pass', 'pass', 'pass', 'run', 'run', 'run', 'pass', 'run', 'run', 'pass', 'pass', 'run', 'pass', 'pass', 'run', 'run', 'run', 'run', 'run', 'pass', 'pass', 'pass', 'pass', 'pass', 'pass', 'run', 'pass', 'run', 'pass', 'run', 'pass', 'run', 'pass', 'pass', 'run', 'pass', 'pass', 'run', 'pass', 'pass', 'run', 'run', 'run', 'pass', 'run', 'pass', 'run', 'run', 'run', 'pass', 'pass', 'pass', 'pass', 'pass', 'run', 'run', 'pass', 'run', 'pass', 'pass', 'run', 'run', 'pass', 'run', 'run', 'run', 'run', 'pass', 'run', 'run', 'pass', 'run', 'run', 'run', 'run', 'pass', 'run', 'run', 'run', 'run', 'run', 'run', 'run', 'pass', 'run', 'pass', 'run', 'pass', 'run', 'pass', 'run', 'pass', 'run', 'run', 'pass', 'pass', 'pass', 'run', 'pass', 'pass', 'pass', 'run', 'pass', 'pass', 'pass', 'run', 'pass', 'run', 'pass', 'pass', 'pass', 'pass', 'run', 'pass', 'run', 'run', 'run', 'pass', 'run', 'run', 'run', 'run', 'run', 'pass', 'pass', 'pass', 'pass', 'pass', 'pass', 'pass', 'run', 'pass', 'pass', 'pass', 'run', 'run', 'run', 'run', 'pass', 'run', 'run', 'pass', 'run', 'run', 'run', 'pass', 'run', 'pass', 'run', 'pass', 'pass', 'run', 'pass', 'run', 'run', 'run', 'run', 'pass', 'run', 'run', 'run', 'pass', 'run', 'pass', 'run', 'pass', 'pass', 'pass', 'run', 'run', 'run', 'run', 'pass', 'pass', 'pass', 'run', 'pass', 'pass', 'pass', 'run', 'run', 'run', 'pass', 'pass', 'pass', 'pass', 'pass', 'pass', 'run', 'run', 'run', 'run', 'run', 'run', 'run', 'run', 'run', 'run', 'run', 'run', 'run', 'pass', 'run', 'pass', 'pass', 'run', 'run', 'pass', 'run', 'pass', 'pass', 'run', 'run', 'run', 'pass', 'run', 'run', 'run', 'run', 'run', 'run', 'pass', 'run', 'run', 'pass', 'run', 'pass', 'pass', 'run', 'run', 'run', 'run', 'run', 'run', 'pass', 'pass', 'pass', 'pass', 'run', 'run', 'pass', 'pass', 'run', 'run', 'pass', 'run', 'run', 'pass', 'pass', 'run', 'run', 'run', 'run', 'pass', 'pass', 'run', 'run', 'run', 'run', 'pass', 'run', 'pass', 'run', 'run', 'pass', 'pass', 'run', 'run', 'run', 'pass', 'pass', 'run', 'pass', 'run', 'pass', 'run', 'pass', 'run', 'run', 'pass', 'run', 'run', 'run', 'run', 'run', 'run', 'run', 'pass', 'run', 'pass', 'pass', 'pass', 'run', 'pass', 'run', 'pass', 'pass', 'run', 'pass', 'pass', 'run', 'pass', 'run', 'pass', 'pass', 'pass', 'run', 'pass', 'run', 'pass', 'pass', 'run', 'run', 'pass', 'pass', 'pass', 'run', 'run', 'pass', 'pass', 'run', 'pass', 'run', 'run', 'pass', 'run', 'pass', 'run', 'pass', 'pass', 'pass', 'pass', 'run', 'run', 'pass', 'run', 'pass', 'pass', 'pass', 'pass', 'pass', 'pass', 'run', 'run', 'run', 'pass', 'pass', 'pass', 'run', 'run', 'pass', 'run', 'run', 'run', 'run', 'pass', 'run', 'pass', 'pass', 'run', 'pass', 'run', 'pass', 'pass', 'run', 'pass', 'pass', 'run', 'run', 'pass', 'pass', 'run', 'pass', 'run', 'run', 'pass', 'run', 'run', 'run', 'run', 'pass', 'pass', 'run', 'run', 'run', 'run', 'pass', 'pass', 'pass', 'pass', 'pass', 'pass', 'pass', 'run', 'run', 'run', 'run', 'run', 'run', 'run', 'run', 'run', 'run', 'pass', 'pass', 'pass', 'run', 'run', 'pass', 'pass', 'pass', 'pass', 'pass', 'run', 'pass', 'pass', 'pass', 'run', 'pass', 'pass', 'run', 'run', 'pass', 'run', 'run', 'pass', 'pass', 'pass', 'run', 'pass', 'run', 'pass', 'run', 'pass', 'pass', 'pass', 'run', 'pass', 'run', 'run', 'run', 'pass', 'pass', 'run', 'run', 'pass', 'run', 'run', 'pass', 'pass', 'pass', 'run', 'run', 'pass', 'run', 'pass', 'pass', 'pass', 'pass', 'pass', 'run', 'pass', 'pass', 'run', 'pass', 'run', 'run', 'run', 'pass', 'pass', 'pass', 'pass', 'run', 'run', 'pass', 'run', 'pass', 'pass', 'pass', 'pass', 'run', 'pass', 'run', 'run', 'pass', 'run', 'run', 'run', 'pass', 'run', 'pass', 'run', 'run', 'run', 'run', 'pass', 'pass', 'run', 'pass', 'pass', 'run', 'pass', 'pass', 'run', 'pass', 'run', 'pass', 'pass', 'run', 'run', 'run', 'run', 'run', 'pass', 'run', 'run', 'pass', 'pass', 'pass', 'pass', 'run', 'pass', 'pass', 'run', 'pass', 'run', 'pass', 'pass', 'run', 'run', 'pass', 'run', 'pass', 'pass', 'run', 'run', 'pass', 'run', 'pass', 'pass', 'pass', 'pass', 'pass', 'run', 'pass', 'pass', 'run', 'pass', 'run', 'run', 'pass', 'run', 'run', 'pass', 'pass', 'run', 'pass', 'run', 'run', 'pass', 'pass', 'pass', 'run', 'pass', 'run', 'pass', 'run', 'run', 'run', 'pass', 'run', 'run', 'run', 'pass', 'pass', 'pass', 'pass', 'pass', 'pass', 'run', 'pass', 'pass', 'run', 'run', 'pass', 'pass', 'pass', 'run', 'pass', 'run', 'run', 'pass', 'run', 'run', 'pass', 'run', 'pass', 'run', 'run', 'run', 'pass', 'run', 'pass', 'run', 'pass', 'run', 'pass', 'run', 'pass', 'pass', 'run', 'run', 'pass', 'run', 'run', 'pass', 'run', 'run', 'run', 'pass', 'pass', 'pass', 'pass', 'pass', 'pass', 'pass', 'pass', 'pass', 'pass', 'pass', 'pass', 'pass', 'pass', 'run', 'pass', 'run', 'pass', 'pass', 'run', 'run', 'run', 'run', 'run', 'pass', 'pass', 'pass', 'pass', 'pass', 'pass', 'run', 'pass', 'run', 'run', 'pass', 'run', 'pass', 'pass', 'run', 'run', 'run', 'pass', 'pass', 'run', 'pass', 'run', 'pass', 'pass', 'pass', 'pass', 'pass', 'run', 'pass', 'pass', 'pass', 'pass', 'run', 'run', 'pass', 'pass', 'run', 'pass', 'run', 'run', 'run', 'run', 'run', 'pass', 'pass', 'pass', 'run', 'pass', 'pass', 'pass', 'pass', 'pass', 'pass', 'pass', 'run', 'pass', 'run', 'pass', 'run', 'pass', 'pass', 'pass', 'run', 'run', 'pass', 'pass', 'pass', 'run', 'pass', 'pass', 'run', 'pass', 'run', 'pass', 'pass', 'pass', 'run', 'pass', 'pass', 'pass', 'run', 'pass', 'pass', 'run', 'pass', 'run', 'run', 'pass', 'pass', 'pass', 'pass', 'pass', 'pass', 'pass', 'run', 'pass', 'pass', 'pass', 'pass', 'run', 'run', 'pass', 'run', 'pass', 'run', 'pass', 'run', 'run', 'pass', 'pass', 'pass', 'pass', 'pass', 'pass', 'run', 'run', 'pass', 'pass', 'run', 'pass', 'pass', 'pass', 'pass', 'pass', 'pass', 'run', 'run', 'run', 'run', 'pass', 'pass', 'run', 'pass', 'pass', 'run', 'run', 'pass', 'run', 'pass', 'pass', 'pass', 'pass', 'pass', 'run', 'pass', 'pass', 'pass', 'run', 'run', 'pass', 'run', 'pass', 'run', 'pass', 'pass', 'run', 'run', 'run', 'pass', 'pass', 'run', 'pass', 'pass', 'pass', 'run', 'pass', 'run', 'pass', 'run', 'pass', 'run', 'pass', 'pass', 'pass', 'run', 'run', 'pass', 'pass', 'run', 'pass', 'pass', 'run', 'run', 'pass', 'pass', 'pass', 'pass', 'pass', 'run', 'run', 'run', 'pass', 'run', 'run', 'pass', 'run', 'pass', 'run', 'pass', 'run', 'run', 'pass', 'pass', 'pass', 'pass', 'run', 'pass', 'run', 'pass', 'pass', 'pass', 'pass', 'run', 'pass', 'pass', 'run', 'run', 'pass', 'run', 'run', 'pass', 'run', 'run', 'run', 'run', 'pass', 'pass', 'run', 'run', 'run', 'run', 'pass', 'pass', 'run', 'run', 'run', 'run', 'run', 'pass', 'run', 'pass', 'pass', 'run', 'pass', 'run', 'run', 'pass', 'pass', 'pass', 'run', 'pass', 'run', 'run', 'run', 'pass', 'run', 'pass', 'pass', 'run', 'run', 'run', 'pass', 'run', 'pass', 'run', 'pass', 'run', 'run', 'pass', 'run', 'run', 'run', 'run', 'pass', 'pass', 'run', 'pass', 'run', 'run', 'run', 'run', 'pass', 'run', 'pass', 'run', 'pass', 'pass', 'run', 'pass', 'run', 'run', 'pass', 'pass', 'run', 'run', 'run', 'run', 'run', 'run', 'run', 'run', 'run', 'run', 'run', 'pass', 'run', 'run', 'pass', 'run', 'run', 'pass', 'pass', 'pass', 'run', 'run', 'run', 'pass', 'run', 'run', 'pass', 'pass', 'run', 'pass', 'pass', 'run', 'pass', 'run', 'pass', 'pass', 'pass', 'run', 'pass', 'run', 'run', 'run', 'pass', 'run', 'pass', 'run', 'run', 'run', 'pass', 'pass', 'run', 'run', 'run', 'run', 'run', 'pass', 'pass', 'run', 'pass', 'pass', 'pass', 'pass', 'pass', 'pass', 'pass', 'pass', 'pass', 'run', 'pass', 'run', 'pass', 'pass', 'run', 'run', 'pass', 'run', 'pass', 'run', 'run', 'pass', 'run', 'pass', 'pass', 'pass', 'run', 'pass', 'run', 'pass', 'pass', 'run', 'pass', 'run', 'pass', 'run', 'run', 'pass', 'run', 'pass', 'run', 'run', 'run', 'pass', 'pass', 'pass', 'run', 'run', 'pass', 'run', 'run', 'run', 'run', 'pass', 'run', 'pass', 'run', 'pass', 'run', 'pass', 'pass', 'run', 'run', 'run', 'run', 'pass', 'pass', 'pass', 'run', 'pass', 'run', 'pass', 'run', 'run', 'pass', 'pass', 'pass', 'run', 'pass', 'run', 'pass', 'pass', 'pass', 'pass', 'run', 'pass', 'run', 'pass', 'pass', 'pass', 'pass', 'pass', 'run', 'pass', 'pass', 'pass', 'pass', 'pass', 'run', 'pass', 'pass', 'pass', 'pass', 'run', 'run', 'pass', 'run', 'run', 'run', 'run', 'pass', 'pass', 'pass', 'pass', 'pass', 'pass', 'pass', 'pass', 'pass', 'pass', 'pass', 'pass', 'run', 'run', 'pass', 'run', 'run', 'pass', 'run', 'pass', 'pass', 'run', 'pass', 'pass', 'run', 'pass', 'run', 'run', 'run', 'run', 'run', 'pass', 'pass', 'run', 'pass', 'run', 'pass', 'pass', 'run', 'pass', 'run', 'pass', 'run', 'pass', 'run', 'run', 'run', 'pass', 'pass', 'run', 'pass', 'pass', 'run', 'pass', 'pass', 'pass', 'pass', 'pass', 'pass', 'run', 'run', 'pass', 'pass', 'run', 'pass', 'pass', 'pass', 'run', 'pass', 'pass', 'pass', 'run', 'pass', 'pass', 'run', 'run', 'pass', 'run', 'run', 'pass', 'pass', 'run', 'run', 'run', 'pass', 'pass', 'pass', 'run', 'pass', 'run', 'pass', 'run', 'pass', 'pass', 'run', 'pass', 'run', 'pass', 'run', 'pass', 'pass', 'pass', 'run', 'pass', 'run', 'pass', 'pass', 'pass', 'pass', 'pass', 'pass', 'pass', 'run', 'pass', 'run', 'pass', 'run', 'pass', 'pass', 'run', 'pass', 'pass', 'pass', 'pass', 'pass', 'pass', 'run', 'pass', 'pass', 'pass', 'pass', 'pass', 'run', 'pass', 'run', 'pass', 'pass', 'run', 'pass', 'pass', 'run', 'pass', 'pass', 'run', 'pass', 'pass', 'run', 'run', 'pass', 'run', 'run', 'pass', 'pass', 'pass', 'pass', 'pass', 'pass', 'run', 'pass', 'run', 'run', 'run', 'run', 'run', 'pass', 'pass', 'run', 'run', 'pass', 'pass', 'pass', 'run', 'run', 'pass', 'pass', 'pass', 'pass', 'run', 'pass', 'pass', 'run', 'pass', 'run', 'pass', 'pass', 'pass', 'run', 'pass', 'run', 'pass', 'pass', 'pass', 'run', 'pass', 'pass', 'pass', 'pass', 'pass', 'run', 'pass', 'run', 'pass', 'run', 'run', 'pass', 'run', 'pass', 'pass', 'pass', 'run', 'pass', 'pass', 'run', 'pass', 'pass', 'pass', 'pass', 'run', 'pass', 'pass', 'run', 'pass', 'pass', 'pass', 'run', 'run', 'run', 'pass', 'run', 'run', 'pass', 'pass', 'run', 'pass', 'pass', 'pass', 'pass', 'run', 'run', 'pass', 'pass', 'pass', 'pass', 'pass', 'pass', 'pass', 'run', 'pass', 'run', 'pass', 'run', 'pass', 'run', 'pass', 'pass', 'pass', 'run', 'run', 'pass', 'pass', 'run', 'pass', 'run', 'run', 'pass', 'run', 'run', 'pass', 'run', 'pass', 'pass', 'run', 'run', 'run', 'run', 'pass', 'run', 'pass', 'pass', 'run', 'pass', 'pass', 'run', 'run', 'pass', 'pass', 'pass', 'pass', 'run', 'pass', 'pass', 'run', 'run', 'pass', 'pass', 'pass', 'run', 'pass', 'run', 'run', 'pass', 'pass', 'run', 'run', 'run', 'run', 'run', 'run', 'run', 'pass', 'run', 'pass', 'pass', 'pass', 'run', 'pass', 'run', 'run', 'run', 'run', 'run', 'pass', 'run', 'run', 'pass', 'pass', 'run', 'pass', 'pass', 'run', 'pass', 'run', 'run', 'run', 'pass', 'run', 'run', 'pass', 'run', 'pass', 'pass', 'run', 'pass', 'run', 'run', 'pass', 'run', 'run', 'pass', 'pass', 'pass', 'pass', 'pass', 'pass', 'pass', 'pass', 'pass', 'pass', 'pass', 'pass', 'pass', 'pass', 'pass', 'run', 'run', 'run', 'pass', 'run', 'pass', 'pass', 'pass', 'pass', 'run', 'pass', 'pass', 'run', 'pass', 'pass', 'pass', 'pass', 'run', 'pass', 'run', 'run', 'run', 'run', 'pass', 'run', 'pass', 'pass', 'run', 'run', 'pass', 'run', 'pass', 'run', 'run', 'run', 'run', 'pass', 'run', 'run', 'run', 'pass', 'pass', 'run', 'run', 'run', 'pass', 'pass', 'pass', 'pass', 'pass', 'run', 'pass', 'pass', 'run', 'run', 'run', 'run', 'pass', 'run', 'pass', 'pass', 'run', 'run', 'run', 'run', 'run', 'run', 'run', 'run', 'pass', 'pass', 'pass', 'run', 'run', 'run', 'run', 'pass', 'pass', 'pass', 'pass', 'run', 'run', 'pass', 'run', 'pass', 'run', 'run', 'run', 'run', 'run', 'pass', 'pass', 'pass', 'pass', 'pass', 'run', 'pass', 'run', 'run', 'run', 'run', 'pass', 'pass', 'pass', 'run', 'run', 'run', 'run', 'pass', 'pass', 'run', 'pass', 'pass', 'run', 'pass', 'run', 'pass', 'run', 'pass', 'pass', 'run', 'run', 'run', 'run', 'pass', 'run', 'pass', 'run', 'run', 'run', 'run', 'run', 'run', 'pass', 'run', 'run', 'run', 'run', 'run', 'run', 'run', 'run', 'run', 'pass', 'pass', 'pass', 'pass', 'pass', 'run', 'run', 'run', 'pass', 'pass', 'run', 'pass', 'pass', 'pass', 'pass', 'run', 'pass', 'pass', 'pass', 'pass', 'pass', 'pass', 'run', 'run', 'run', 'run', 'run', 'run', 'run', 'pass', 'pass', 'pass', 'run', 'pass', 'pass', 'pass', 'pass', 'pass', 'run', 'run', 'run', 'run', 'pass', 'pass', 'pass', 'run', 'pass', 'pass', 'pass', 'pass', 'run', 'run', 'run', 'pass', 'run', 'run', 'run', 'run', 'run', 'pass', 'pass', 'pass', 'run', 'pass', 'pass', 'run', 'pass', 'run', 'run', 'run', 'run', 'pass', 'pass', 'pass', 'pass', 'run', 'pass', 'pass', 'run', 'pass', 'run', 'pass', 'pass', 'pass', 'run', 'run', 'run', 'run', 'pass', 'pass', 'pass', 'pass', 'pass', 'run', 'pass', 'run', 'pass', 'run', 'pass', 'run', 'run', 'pass', 'run', 'run', 'pass', 'pass', 'pass', 'pass', 'run', 'pass', 'run', 'run', 'pass', 'run', 'run', 'pass', 'pass', 'pass', 'run', 'run', 'pass', 'pass', 'run', 'pass', 'pass', 'pass', 'run', 'pass', 'run', 'pass', 'pass', 'run', 'pass', 'pass', 'pass', 'run', 'pass', 'run', 'run', 'pass', 'pass', 'run', 'pass', 'pass', 'pass', 'run', 'pass', 'run', 'pass', 'run', 'pass', 'run', 'run', 'run', 'pass', 'run', 'pass', 'pass', 'pass', 'pass', 'pass', 'pass', 'run', 'pass', 'pass', 'pass', 'pass', 'pass', 'pass', 'run', 'pass', 'run', 'pass', 'pass', 'pass', 'pass', 'pass', 'run', 'run', 'pass', 'pass', 'pass', 'pass', 'run', 'run', 'run', 'pass', 'pass', 'pass', 'pass', 'pass', 'pass', 'pass', 'pass', 'pass', 'pass', 'pass', 'run', 'pass', 'pass', 'pass', 'pass', 'run', 'pass', 'pass', 'run', 'run', 'run', 'pass', 'pass', 'run', 'run', 'run', 'run', 'run', 'run', 'pass', 'pass', 'run', 'pass', 'pass', 'pass', 'run', 'pass', 'run', 'pass', 'pass', 'run', 'pass', 'pass', 'run', 'pass', 'run', 'run', 'run', 'pass', 'pass', 'run', 'pass', 'pass', 'pass', 'pass', 'run', 'pass', 'run', 'pass', 'pass', 'pass', 'pass', 'run', 'run', 'run', 'run', 'pass', 'pass', 'run', 'pass', 'run', 'run', 'run', 'run', 'pass', 'pass', 'run', 'run', 'run', 'pass', 'pass', 'run', 'run', 'pass', 'pass', 'run', 'run', 'pass', 'run', 'pass', 'run', 'run', 'run', 'pass', 'run', 'run', 'run', 'pass', 'pass', 'pass', 'run', 'pass', 'pass', 'pass', 'pass', 'run', 'run', 'run', 'pass', 'pass', 'pass', 'run', 'run', 'pass', 'run', 'run', 'pass', 'run', 'pass', 'pass', 'pass', 'pass', 'pass', 'pass', 'run', 'run', 'run', 'run', 'pass', 'pass', 'run', 'pass', 'run', 'pass', 'run', 'run', 'run', 'pass', 'pass', 'run', 'run', 'run', 'pass', 'pass', 'run', 'run', 'run', 'run', 'pass', 'run', 'run', 'pass', 'run', 'pass', 'pass', 'run', 'pass', 'pass', 'run', 'pass', 'run', 'pass', 'run', 'pass', 'run', 'pass', 'pass', 'run', 'run', 'run', 'run', 'pass', 'run', 'pass', 'run', 'pass', 'pass', 'run', 'pass', 'run', 'pass', 'run', 'pass', 'pass', 'run', 'run', 'pass', 'run', 'run', 'run', 'pass', 'pass', 'pass', 'run', 'pass', 'pass', 'pass', 'run', 'pass', 'pass', 'run', 'run', 'pass', 'pass', 'run', 'run', 'pass', 'run', 'pass', 'pass', 'pass', 'pass', 'pass', 'pass', 'run', 'pass', 'run', 'run', 'pass', 'run', 'pass', 'pass', 'run', 'run', 'pass', 'run', 'pass', 'run', 'pass', 'run', 'run', 'pass', 'pass', 'pass', 'pass', 'pass', 'run', 'pass', 'pass', 'run', 'run', 'pass', 'run', 'run', 'run', 'pass', 'pass', 'run', 'pass', 'pass', 'run', 'pass', 'run', 'pass', 'pass', 'pass', 'pass', 'run', 'run', 'pass', 'pass', 'pass', 'pass', 'pass', 'run', 'run', 'pass', 'run', 'pass', 'run', 'pass', 'run', 'pass', 'run', 'pass', 'run', 'pass', 'run', 'pass', 'run', 'pass', 'pass', 'pass', 'pass', 'run', 'pass', 'pass', 'run', 'pass', 'run', 'pass', 'run', 'run', 'pass', 'pass', 'pass', 'pass', 'pass', 'pass', 'run', 'run', 'pass', 'pass', 'pass', 'run', 'pass', 'run', 'pass', 'run', 'pass', 'pass', 'run', 'pass', 'run', 'pass', 'pass', 'run', 'run', 'run', 'pass', 'pass', 'run', 'run', 'pass', 'run', 'pass', 'pass', 'pass', 'pass', 'pass', 'pass', 'pass', 'pass', 'run', 'pass', 'run', 'pass', 'run', 'run', 'pass', 'pass', 'run', 'run', 'run', 'run', 'pass', 'run', 'pass', 'pass', 'pass', 'pass', 'pass', 'pass', 'run', 'run', 'pass', 'pass', 'pass', 'pass', 'pass', 'run', 'pass', 'pass', 'pass', 'run', 'run', 'run', 'run', 'pass', 'run', 'run', 'run', 'pass', 'run', 'pass', 'pass', 'run', 'run', 'run', 'run', 'run', 'run', 'pass', 'run', 'pass', 'pass', 'pass', 'pass', 'run', 'pass', 'run', 'pass', 'pass', 'pass', 'run', 'pass', 'run', 'run', 'pass', 'run', 'pass', 'pass', 'pass', 'run', 'run', 'pass', 'pass', 'pass', 'run', 'pass', 'pass', 'run', 'pass', 'run', 'run', 'pass', 'pass', 'run', 'pass', 'pass', 'run', 'pass', 'pass', 'pass', 'pass', 'pass', 'pass', 'run', 'run', 'pass', 'run', 'run', 'run', 'pass', 'pass', 'run', 'pass', 'pass', 'pass', 'run', 'run', 'run', 'pass', 'run', 'pass', 'pass', 'pass', 'run', 'pass', 'pass', 'pass', 'pass', 'pass', 'pass', 'pass', 'pass', 'pass', 'pass', 'pass', 'pass', 'run', 'run', 'run', 'pass', 'pass', 'pass', 'pass', 'pass', 'pass', 'pass', 'pass', 'run', 'run', 'pass', 'pass', 'run', 'pass', 'pass', 'run', 'pass', 'run', 'pass', 'pass', 'pass', 'pass', 'run', 'pass', 'pass', 'run', 'run', 'pass', 'pass', 'run', 'pass', 'run', 'run', 'pass', 'pass', 'run', 'run', 'pass', 'run', 'run', 'run', 'run', 'pass', 'pass', 'run', 'pass', 'pass', 'run', 'pass', 'pass', 'run', 'pass', 'run', 'pass', 'run', 'pass', 'pass', 'pass', 'pass', 'pass', 'pass', 'pass', 'pass', 'pass', 'pass', 'pass', 'pass', 'run', 'run', 'pass', 'run', 'pass', 'pass', 'run', 'run', 'pass', 'pass', 'run', 'pass', 'run', 'pass', 'pass', 'pass', 'run', 'pass', 'run', 'pass', 'run', 'pass', 'pass', 'pass', 'run', 'run', 'pass', 'pass', 'pass', 'run', 'run', 'run', 'run', 'run', 'run', 'pass', 'run', 'pass', 'pass', 'run', 'pass', 'run', 'run', 'run', 'pass', 'pass', 'pass', 'pass', 'run', 'pass', 'run', 'run', 'run', 'run', 'run', 'pass', 'run', 'pass', 'pass', 'pass', 'pass', 'pass', 'pass', 'run', 'pass', 'run', 'run', 'run', 'run', 'pass', 'pass', 'pass', 'run', 'pass', 'run', 'run', 'pass', 'pass', 'pass', 'run', 'run', 'pass', 'run', 'pass', 'run', 'pass', 'run', 'run', 'run', 'run', 'run', 'run', 'pass', 'pass', 'run', 'run', 'run', 'pass', 'pass', 'run', 'run', 'pass', 'run', 'run', 'run', 'pass', 'pass', 'pass', 'pass', 'pass', 'pass', 'pass', 'pass', 'pass', 'pass', 'run', 'pass', 'pass', 'pass', 'run', 'pass', 'pass', 'run', 'pass', 'pass', 'pass', 'run', 'pass', 'run', 'run', 'pass', 'run', 'run', 'run', 'run', 'run', 'run', 'run', 'pass', 'pass', 'pass', 'run', 'run', 'pass', 'run', 'pass', 'pass', 'pass', 'pass', 'run', 'run', 'run', 'pass', 'run', 'pass', 'pass', 'pass', 'pass', 'pass', 'run', 'pass', 'pass', 'run', 'pass', 'run', 'pass', 'pass', 'pass', 'pass', 'pass', 'pass', 'pass', 'pass', 'pass', 'pass', 'run', 'run', 'run', 'pass', 'run', 'run', 'run', 'pass', 'pass', 'pass', 'run', 'pass', 'run', 'run', 'pass', 'run', 'run', 'pass', 'run', 'pass', 'pass', 'pass', 'run', 'run', 'pass', 'run', 'run', 'run', 'run', 'pass', 'run', 'run', 'run', 'run', 'run', 'pass', 'pass', 'pass', 'pass', 'pass', 'pass', 'run', 'run', 'run', 'run', 'run', 'pass', 'pass', 'pass', 'pass', 'run', 'run', 'pass', 'pass', 'run', 'pass', 'pass', 'pass', 'pass', 'run', 'run', 'pass', 'pass', 'run', 'run', 'run', 'pass', 'run', 'pass', 'pass', 'run', 'pass', 'pass', 'pass', 'pass', 'run', 'run', 'pass', 'run', 'pass', 'run', 'run', 'run', 'run', 'run', 'pass', 'run', 'run', 'run', 'run', 'pass', 'run', 'pass', 'run', 'pass', 'run', 'run', 'pass', 'run', 'run', 'run', 'run', 'run', 'run', 'run', 'pass', 'pass', 'pass', 'pass', 'run', 'pass', 'pass', 'pass', 'pass', 'pass', 'run', 'pass', 'pass', 'run', 'run', 'pass', 'pass', 'pass', 'pass', 'run', 'run', 'pass', 'run', 'pass', 'run', 'run', 'run', 'pass', 'run', 'pass', 'pass', 'pass', 'run', 'run', 'pass', 'run', 'pass', 'pass', 'run', 'pass', 'pass', 'run', 'run', 'run', 'pass', 'pass', 'run', 'run', 'run', 'pass', 'run', 'pass', 'pass', 'pass', 'run', 'run', 'pass', 'pass', 'pass', 'run', 'pass', 'pass', 'pass', 'pass', 'pass', 'run', 'run', 'run', 'run', 'run', 'pass', 'pass', 'pass', 'run', 'run', 'pass', 'pass', 'run', 'run', 'pass', 'pass', 'pass', 'pass', 'run', 'run', 'pass', 'run', 'pass', 'run', 'pass', 'pass', 'pass', 'pass', 'pass', 'pass', 'pass', 'pass', 'pass', 'pass', 'pass', 'pass', 'run', 'pass', 'run', 'pass', 'pass', 'run', 'pass', 'pass', 'pass', 'pass', 'pass', 'pass', 'pass', 'pass', 'pass', 'run', 'run', 'run', 'run', 'pass', 'run', 'pass', 'pass', 'pass', 'pass', 'pass', 'pass', 'pass', 'pass', 'pass', 'pass', 'run', 'run', 'pass', 'run', 'pass', 'pass', 'pass', 'pass', 'run', 'run', 'pass', 'pass', 'pass', 'pass', 'run', 'pass', 'run', 'run', 'pass', 'run', 'run', 'pass', 'pass', 'pass', 'run', 'pass', 'pass', 'run', 'run', 'pass', 'run', 'pass', 'pass', 'pass', 'run', 'run', 'pass', 'pass', 'pass', 'run', 'run', 'pass', 'run', 'pass', 'pass', 'pass', 'run', 'run', 'pass', 'run', 'run', 'pass', 'pass', 'pass', 'pass', 'pass', 'pass', 'run', 'pass', 'pass', 'run', 'run', 'pass', 'run', 'pass', 'pass', 'pass', 'pass', 'pass', 'run', 'run', 'pass', 'pass', 'pass', 'run', 'pass', 'run', 'pass', 'run', 'pass', 'pass', 'pass', 'pass', 'run', 'run', 'pass', 'pass', 'run', 'run', 'run', 'run', 'pass', 'run', 'run', 'run', 'pass', 'pass', 'run', 'pass', 'run', 'run', 'run', 'pass', 'run', 'pass', 'pass', 'pass', 'pass', 'pass', 'pass', 'pass', 'run', 'run', 'pass', 'run', 'run', 'run', 'pass', 'pass', 'pass', 'pass', 'run', 'pass', 'run', 'pass', 'run', 'pass', 'pass', 'run', 'pass', 'run', 'run', 'pass', 'run', 'pass', 'run', 'run', 'run', 'pass', 'pass', 'pass', 'run', 'pass', 'pass', 'pass', 'run', 'pass', 'pass', 'run', 'run', 'run', 'run', 'run', 'run', 'run', 'pass', 'pass', 'run', 'pass', 'pass', 'run', 'pass', 'pass', 'pass', 'pass', 'pass', 'pass', 'run', 'run', 'pass', 'pass', 'run', 'run', 'run', 'pass', 'run', 'run', 'pass', 'pass', 'pass', 'pass', 'pass', 'run', 'pass', 'run', 'pass', 'pass', 'run', 'run', 'pass', 'pass', 'run', 'pass', 'pass', 'pass', 'pass', 'pass', 'pass', 'pass', 'pass', 'run', 'pass', 'pass', 'run', 'run', 'run', 'pass', 'pass', 'run', 'pass', 'pass', 'run', 'run', 'run', 'run', 'run', 'run', 'pass', 'pass', 'pass', 'pass', 'pass', 'run', 'run', 'pass', 'run', 'pass', 'run', 'pass', 'pass', 'run', 'pass', 'pass', 'run', 'run', 'run', 'pass', 'run', 'pass', 'run', 'pass', 'pass', 'run', 'pass', 'run', 'pass', 'run', 'pass', 'run', 'run', 'pass', 'run', 'run', 'pass', 'pass', 'run', 'pass', 'pass', 'run', 'run', 'run', 'run', 'run', 'pass', 'run', 'run', 'run', 'pass', 'run', 'run', 'pass', 'pass', 'run', 'pass', 'pass', 'run', 'pass', 'pass', 'pass', 'pass', 'run', 'run', 'pass', 'pass', 'pass', 'pass', 'run', 'pass', 'pass', 'pass', 'pass', 'pass', 'run', 'pass', 'run', 'run', 'run', 'run', 'run', 'run', 'run', 'pass', 'run', 'run', 'run', 'pass', 'pass', 'pass', 'pass', 'pass', 'run', 'pass', 'run', 'pass', 'run', 'run', 'run', 'run', 'pass', 'pass', 'run', 'pass', 'run', 'pass', 'run', 'run', 'pass', 'pass', 'pass', 'pass', 'run', 'pass', 'run', 'run', 'pass', 'pass', 'pass', 'pass', 'pass', 'pass', 'run', 'pass', 'pass', 'pass', 'run', 'run', 'run', 'pass', 'pass', 'run', 'run', 'pass', 'pass', 'run', 'pass', 'pass', 'run', 'pass', 'run', 'pass', 'pass', 'run', 'run', 'run', 'run', 'run', 'pass', 'run', 'pass', 'pass', 'run', 'run', 'run', 'run', 'run', 'run', 'pass', 'pass', 'pass', 'run', 'pass', 'pass', 'pass', 'run', 'run', 'pass', 'pass', 'run', 'pass', 'pass', 'run', 'run', 'pass', 'pass', 'pass', 'run', 'run', 'run', 'run', 'pass', 'run', 'pass', 'run', 'pass', 'pass', 'run', 'pass', 'pass', 'pass', 'pass', 'pass', 'pass', 'pass', 'run', 'pass', 'run', 'pass', 'pass', 'pass', 'run', 'run', 'pass', 'pass', 'pass', 'pass', 'run', 'pass', 'run', 'pass', 'pass', 'pass', 'pass', 'pass', 'run', 'run', 'pass', 'pass', 'pass', 'pass', 'run', 'pass', 'pass', 'run', 'pass', 'run', 'pass', 'pass', 'pass', 'pass', 'pass', 'pass', 'run', 'pass', 'run', 'pass', 'pass', 'run', 'run', 'pass', 'run', 'run', 'pass', 'pass', 'pass', 'pass', 'pass', 'pass', 'pass', 'pass', 'pass', 'pass', 'pass', 'pass', 'pass', 'pass', 'run', 'run', 'pass', 'pass', 'pass', 'pass', 'pass', 'run', 'pass', 'pass', 'run', 'run', 'pass', 'run', 'run', 'run', 'run', 'pass', 'run', 'pass', 'run', 'pass', 'run', 'run', 'run', 'run', 'run', 'pass', 'pass', 'pass', 'run', 'pass', 'pass', 'pass', 'run', 'pass', 'run', 'run', 'pass', 'pass', 'run', 'pass', 'pass', 'pass', 'run', 'run', 'pass', 'run', 'run', 'pass', 'pass', 'pass', 'pass', 'run', 'pass', 'pass', 'run', 'pass', 'pass', 'pass', 'pass', 'pass', 'pass', 'pass', 'pass', 'pass', 'run', 'run', 'run', 'pass', 'pass', 'pass', 'run', 'run', 'run', 'pass', 'run', 'pass', 'pass', 'run', 'run', 'pass', 'pass', 'pass', 'run', 'pass', 'run', 'pass', 'pass', 'pass', 'run', 'pass', 'pass', 'pass', 'pass', 'run', 'pass', 'run', 'pass', 'pass', 'pass', 'pass', 'pass', 'pass', 'run', 'pass', 'run', 'pass', 'run', 'pass', 'pass', 'pass', 'run', 'pass', 'run', 'pass', 'pass', 'run', 'run', 'pass', 'run', 'run', 'pass', 'pass', 'run', 'pass', 'pass', 'pass', 'run', 'run', 'pass', 'pass', 'run', 'pass', 'run', 'pass', 'pass', 'run', 'run', 'run', 'pass', 'pass', 'run', 'run', 'run', 'pass', 'run', 'pass', 'run', 'pass', 'run', 'pass', 'run', 'pass', 'pass', 'run', 'run', 'run', 'pass', 'pass', 'pass', 'pass', 'pass', 'run', 'pass', 'pass', 'run', 'run', 'pass', 'pass', 'run', 'run', 'run', 'run', 'pass', 'run', 'pass', 'pass', 'run', 'pass', 'run', 'pass', 'pass', 'run', 'pass', 'pass', 'pass', 'pass', 'pass', 'pass', 'pass', 'pass', 'run', 'run', 'run', 'run', 'pass', 'pass', 'run', 'run', 'pass', 'pass', 'run', 'pass', 'pass', 'pass', 'run', 'run', 'run', 'pass', 'run', 'pass', 'run', 'run', 'pass', 'pass', 'run', 'run', 'run', 'pass', 'run', 'run', 'pass', 'run', 'run', 'pass', 'run', 'pass', 'pass', 'run', 'pass', 'pass', 'pass', 'pass', 'run', 'pass', 'run', 'pass', 'pass', 'run', 'pass', 'pass', 'run', 'pass', 'pass', 'pass', 'pass', 'run', 'pass', 'run', 'run', 'run', 'pass', 'pass', 'pass', 'pass', 'pass', 'pass', 'pass', 'pass', 'pass', 'pass', 'pass', 'pass', 'pass', 'pass', 'pass', 'run', 'run', 'run', 'pass', 'pass', 'pass', 'run', 'run', 'pass', 'run', 'pass', 'pass', 'pass', 'pass', 'pass', 'run', 'run', 'run', 'run', 'pass', 'run', 'run', 'pass', 'pass', 'pass', 'run', 'pass', 'run', 'run', 'pass', 'run', 'run', 'run', 'run', 'pass', 'pass', 'run', 'pass', 'pass', 'run', 'run', 'pass', 'pass', 'run', 'run', 'pass', 'run', 'pass', 'run', 'pass', 'pass', 'pass', 'run', 'pass', 'pass', 'pass', 'pass', 'pass', 'pass', 'run', 'run', 'run', 'pass', 'run', 'run', 'pass', 'run', 'pass', 'run', 'run', 'pass', 'run', 'pass', 'pass', 'pass', 'pass', 'run', 'pass', 'pass', 'pass', 'run', 'run', 'pass', 'run', 'pass', 'pass', 'pass', 'pass', 'run', 'run', 'run', 'run', 'pass', 'run', 'pass', 'pass', 'pass', 'pass', 'pass', 'run', 'pass', 'pass', 'run', 'run', 'pass', 'pass', 'pass', 'run', 'run', 'run', 'pass', 'run', 'run', 'pass', 'run', 'run', 'pass', 'run', 'pass', 'pass', 'pass', 'pass', 'pass', 'pass', 'pass', 'run', 'pass', 'pass', 'run', 'pass', 'run', 'run', 'pass', 'pass', 'pass', 'run', 'pass', 'run', 'run', 'pass', 'run', 'pass', 'run', 'pass', 'run', 'pass', 'run', 'pass', 'pass', 'run', 'run', 'pass', 'run', 'pass', 'run', 'pass', 'pass', 'run', 'pass', 'run', 'pass', 'pass', 'pass', 'pass', 'run', 'pass', 'run', 'pass', 'pass', 'pass', 'run', 'pass', 'pass', 'run', 'pass', 'pass', 'run', 'pass', 'run', 'pass', 'pass', 'run', 'pass', 'run', 'pass', 'run', 'pass', 'pass', 'pass', 'run', 'pass', 'run', 'pass', 'pass', 'run', 'run', 'pass', 'run', 'pass', 'pass', 'pass', 'run', 'pass', 'run', 'run', 'pass', 'pass', 'run', 'pass', 'pass', 'run', 'pass', 'pass', 'pass', 'run', 'pass', 'run', 'run', 'pass', 'pass', 'run', 'run', 'run', 'pass', 'run', 'pass', 'run', 'run', 'run', 'run', 'pass', 'pass', 'pass', 'pass', 'run', 'run', 'run', 'pass', 'pass', 'pass', 'pass', 'pass', 'pass', 'pass', 'pass', 'pass', 'run', 'pass', 'run', 'pass', 'pass', 'run', 'run', 'run', 'pass', 'pass', 'pass', 'run', 'run', 'pass', 'run', 'run', 'pass', 'pass', 'pass', 'run', 'run', 'pass', 'pass', 'run', 'run', 'pass', 'pass', 'run', 'pass', 'pass', 'run', 'pass', 'pass', 'run', 'run', 'pass', 'pass', 'run', 'run', 'run', 'run', 'pass', 'pass', 'run', 'run', 'pass', 'run', 'pass', 'run', 'pass', 'run', 'pass', 'pass', 'run', 'pass', 'pass', 'pass', 'pass', 'run', 'pass', 'pass', 'run', 'pass', 'run', 'pass', 'pass', 'run', 'pass', 'run', 'pass', 'pass', 'run', 'run', 'pass', 'run', 'pass', 'run', 'run', 'pass', 'run', 'pass', 'pass', 'pass', 'run', 'pass', 'pass', 'run', 'run', 'pass', 'pass', 'run', 'pass', 'pass', 'run', 'pass', 'pass', 'pass', 'pass', 'pass', 'pass', 'run', 'run', 'pass', 'pass', 'pass', 'pass', 'pass', 'pass', 'pass', 'pass', 'pass', 'pass', 'pass', 'pass', 'run', 'pass', 'pass', 'run', 'pass', 'pass', 'pass', 'run', 'run', 'pass', 'pass', 'pass', 'pass', 'pass', 'pass', 'run', 'pass', 'pass', 'run', 'pass', 'pass', 'run', 'run', 'pass', 'pass', 'run', 'run', 'pass', 'pass', 'pass', 'run', 'pass', 'run', 'run', 'run', 'pass', 'run', 'pass', 'pass', 'pass', 'pass', 'pass', 'run', 'pass', 'run', 'pass', 'run', 'pass', 'pass', 'run', 'run', 'run', 'pass', 'pass', 'run', 'run', 'run', 'pass', 'pass', 'pass', 'pass', 'run', 'pass', 'pass', 'pass', 'run', 'run', 'pass', 'run', 'run', 'pass', 'run', 'pass', 'pass', 'pass', 'run', 'pass', 'run', 'pass', 'pass', 'run', 'pass', 'run', 'pass', 'run', 'run', 'pass', 'pass', 'run', 'run', 'run', 'run', 'run', 'run', 'run', 'pass', 'run', 'pass', 'pass', 'pass', 'run', 'run', 'pass', 'pass', 'run', 'pass', 'pass', 'run', 'run', 'run', 'run', 'run', 'pass', 'run', 'run', 'pass', 'pass', 'pass', 'run', 'run', 'run', 'run', 'run', 'run', 'run', 'run', 'pass', 'run', 'run', 'pass', 'run', 'run', 'pass', 'run', 'run', 'run', 'pass', 'pass', 'pass', 'run', 'pass', 'run', 'pass', 'run', 'pass', 'pass', 'pass', 'pass', 'pass', 'run', 'run', 'pass', 'pass', 'run', 'run', 'pass', 'run', 'run', 'run', 'pass', 'pass', 'pass', 'run', 'run', 'run', 'pass', 'pass', 'pass', 'pass', 'pass', 'run', 'pass', 'run', 'pass', 'pass', 'run', 'pass', 'pass', 'run', 'run', 'pass', 'run', 'pass', 'pass', 'run', 'pass', 'pass', 'pass', 'pass', 'pass', 'pass', 'pass', 'run', 'pass', 'run', 'run', 'pass', 'run', 'run', 'run', 'pass', 'pass', 'pass', 'run', 'pass', 'pass', 'run', 'pass', 'pass', 'run', 'pass', 'pass', 'pass', 'run', 'pass', 'pass', 'run', 'run', 'run', 'run', 'run', 'pass', 'pass', 'pass', 'pass', 'run', 'run', 'run', 'pass', 'pass', 'pass', 'run', 'pass', 'run', 'pass', 'run', 'run', 'run', 'pass', 'pass', 'pass', 'pass', 'pass', 'pass', 'pass', 'pass', 'pass', 'pass', 'pass', 'pass', 'run', 'run', 'pass', 'pass', 'run', 'pass', 'pass', 'pass', 'pass', 'run', 'pass', 'pass', 'pass', 'run', 'run', 'pass', 'run', 'pass', 'pass', 'pass', 'run', 'pass', 'pass', 'pass', 'pass', 'run', 'pass', 'run', 'run', 'pass', 'pass', 'pass', 'run', 'run', 'pass', 'run', 'pass', 'run', 'pass', 'pass', 'run', 'run', 'pass', 'pass', 'run', 'run', 'pass', 'run', 'pass', 'pass', 'run', 'pass', 'pass', 'pass', 'run', 'run', 'run', 'run', 'run', 'run', 'run', 'run', 'pass', 'pass', 'pass', 'run', 'pass', 'pass', 'run', 'run', 'pass', 'run', 'pass', 'run', 'run', 'pass', 'run', 'run', 'run', 'pass', 'pass', 'pass', 'run', 'run', 'pass', 'run', 'pass', 'run', 'run', 'run', 'run', 'pass', 'pass', 'pass', 'pass', 'run', 'pass', 'run', 'pass', 'run', 'pass', 'run', 'run', 'run', 'run', 'run', 'pass', 'pass', 'run', 'pass', 'pass', 'pass', 'pass', 'pass', 'pass', 'pass', 'pass', 'run', 'pass', 'run', 'pass', 'run', 'pass', 'pass', 'run', 'run', 'pass', 'run', 'pass', 'run', 'run', 'run', 'pass', 'pass', 'run', 'run', 'run', 'run', 'pass', 'pass', 'run', 'run', 'run', 'pass', 'pass', 'run', 'pass', 'run', 'run', 'pass', 'run', 'pass', 'run', 'pass', 'pass', 'run', 'run', 'run', 'run', 'pass', 'pass', 'pass', 'pass', 'pass', 'run', 'pass', 'pass', 'pass', 'pass', 'pass', 'pass', 'pass', 'run', 'pass', 'pass', 'pass', 'pass', 'pass', 'pass', 'run', 'pass', 'run', 'pass', 'pass', 'pass', 'pass', 'pass', 'run', 'pass', 'pass', 'pass', 'pass', 'run', 'run', 'run', 'run', 'run', 'run', 'pass', 'pass', 'run', 'pass', 'run', 'pass', 'run', 'run', 'run', 'pass', 'run', 'run', 'pass', 'pass', 'run', 'pass', 'pass', 'run', 'run', 'run', 'pass', 'pass', 'pass', 'pass', 'run', 'pass', 'pass', 'run', 'pass', 'run', 'run', 'pass', 'run', 'run', 'pass', 'run', 'run', 'run', 'run', 'run', 'run', 'pass', 'pass', 'pass', 'pass', 'pass', 'pass', 'run', 'run', 'pass', 'run', 'pass', 'run', 'run', 'pass', 'pass', 'pass', 'run', 'run', 'run', 'pass', 'run', 'pass', 'run', 'run', 'pass', 'pass', 'pass', 'run', 'run', 'run', 'run', 'pass', 'pass', 'run', 'pass', 'pass', 'run', 'pass', 'run', 'pass', 'run', 'run', 'pass', 'run', 'run', 'run', 'run', 'run', 'run', 'pass', 'pass', 'pass', 'run', 'run', 'run', 'run', 'pass', 'run', 'run', 'pass', 'pass', 'run', 'run', 'pass', 'pass', 'pass', 'run', 'pass', 'run', 'pass', 'pass', 'pass', 'run', 'pass', 'pass', 'pass', 'pass', 'run', 'run', 'pass', 'pass', 'run', 'pass', 'pass', 'run', 'run', 'pass', 'run', 'pass', 'pass', 'pass', 'pass', 'pass', 'pass', 'run', 'run', 'run', 'pass', 'pass', 'pass', 'run', 'run', 'run', 'run', 'pass', 'pass', 'pass', 'run', 'run', 'pass', 'run', 'run', 'pass', 'run', 'pass', 'run', 'pass', 'run', 'pass', 'pass', 'pass', 'run', 'pass', 'pass', 'run', 'run', 'run', 'run', 'pass', 'run', 'pass', 'run', 'pass', 'pass', 'run', 'pass', 'pass', 'run', 'pass', 'pass', 'run', 'run', 'pass', 'run', 'run', 'run', 'run', 'run', 'run', 'pass', 'pass', 'pass', 'pass', 'pass', 'pass', 'pass', 'pass', 'run', 'run', 'pass', 'run', 'pass', 'run', 'pass', 'run', 'run', 'pass', 'pass', 'run', 'pass', 'pass', 'pass', 'run', 'pass', 'run', 'run', 'run', 'pass', 'run', 'pass', 'pass', 'run', 'pass', 'pass', 'run', 'run', 'pass', 'run', 'run', 'pass', 'pass', 'run', 'pass', 'run', 'pass', 'run', 'run', 'pass', 'run', 'run', 'run', 'pass', 'run', 'run', 'run', 'run', 'run', 'run', 'pass', 'run', 'pass', 'pass', 'pass', 'pass', 'run', 'pass', 'pass', 'pass', 'pass', 'pass', 'run', 'run', 'run', 'pass', 'pass', 'pass', 'run', 'run', 'run', 'pass', 'run', 'pass', 'pass', 'run', 'pass', 'pass', 'pass', 'run', 'pass', 'pass', 'run', 'pass', 'run', 'run', 'pass', 'pass', 'pass', 'run', 'pass', 'run', 'pass', 'run', 'pass', 'run', 'run', 'pass', 'run', 'run', 'run', 'pass', 'run', 'pass', 'run', 'run', 'pass', 'run', 'pass', 'pass', 'run', 'pass', 'run', 'pass', 'run', 'pass', 'pass', 'pass', 'run', 'pass', 'run', 'pass', 'pass', 'pass', 'pass', 'pass', 'run', 'run', 'run', 'run', 'run', 'pass', 'pass', 'pass', 'pass', 'pass', 'run', 'pass', 'run', 'run', 'pass', 'pass', 'pass', 'pass', 'pass', 'pass', 'run', 'pass', 'pass', 'run', 'run', 'pass', 'pass', 'run', 'run', 'pass', 'pass', 'pass', 'run', 'run', 'run', 'run', 'pass', 'pass', 'pass', 'pass', 'run', 'pass', 'run', 'pass', 'pass', 'run', 'run', 'run', 'pass', 'pass', 'run', 'run', 'run', 'run', 'run', 'run', 'pass', 'pass', 'run', 'run', 'run', 'run', 'pass', 'pass', 'pass', 'pass', 'pass', 'run', 'pass', 'pass', 'pass', 'run', 'pass', 'pass', 'run', 'run', 'run', 'pass', 'run', 'run', 'pass', 'run', 'run', 'pass', 'run', 'run', 'pass', 'pass', 'pass', 'run', 'run', 'pass', 'pass', 'pass', 'run', 'run', 'run', 'pass', 'run', 'pass', 'pass', 'pass', 'pass', 'run', 'run', 'run', 'run', 'pass', 'pass', 'pass', 'run', 'pass', 'run', 'pass', 'pass', 'pass', 'run', 'pass', 'pass', 'pass', 'pass', 'run', 'run', 'run', 'pass', 'run', 'pass', 'pass', 'pass', 'pass', 'pass', 'pass', 'pass', 'pass', 'pass', 'pass', 'pass', 'pass', 'run', 'pass', 'run', 'run', 'run', 'pass', 'pass', 'pass', 'pass', 'pass', 'run', 'run', 'run', 'run', 'run', 'run', 'run', 'pass', 'run', 'pass', 'run', 'run', 'pass', 'run', 'run', 'run', 'run', 'pass', 'run', 'run', 'run', 'run', 'run', 'pass', 'run', 'run', 'pass', 'pass', 'pass', 'run', 'pass', 'run', 'run', 'run', 'run', 'pass', 'run', 'run', 'run', 'run', 'pass', 'pass', 'pass', 'run', 'run', 'run', 'pass', 'pass', 'run', 'pass', 'pass', 'run', 'pass', 'run', 'run', 'pass', 'run', 'pass', 'pass', 'pass', 'pass', 'pass', 'pass', 'run', 'pass', 'pass', 'run', 'pass', 'run', 'run', 'run', 'pass', 'pass', 'pass', 'run', 'run', 'pass', 'pass', 'run', 'run', 'run', 'run', 'pass', 'pass', 'run', 'run', 'pass', 'pass', 'pass', 'run', 'pass', 'pass', 'pass', 'run', 'run', 'pass', 'run', 'run', 'run', 'pass', 'pass', 'pass', 'pass', 'run', 'pass', 'run', 'run', 'run', 'run', 'run', 'pass', 'run', 'pass', 'run', 'pass', 'pass', 'pass', 'run', 'pass', 'pass', 'pass', 'run', 'pass', 'run', 'run', 'pass', 'pass', 'run', 'pass', 'pass', 'run', 'run', 'run', 'pass', 'run', 'run', 'run', 'run', 'pass', 'pass', 'run', 'pass', 'pass', 'run', 'pass', 'run', 'run', 'pass', 'pass', 'run', 'pass', 'pass', 'run', 'run', 'pass', 'pass', 'run', 'run', 'pass', 'pass', 'run', 'run', 'run', 'pass', 'pass', 'pass', 'pass', 'pass', 'pass', 'pass', 'run', 'run', 'run', 'pass', 'run', 'pass', 'run', 'run', 'run', 'pass', 'pass', 'run', 'pass', 'run', 'run', 'run', 'run', 'pass', 'pass', 'run', 'pass', 'run', 'run', 'pass', 'pass', 'pass', 'pass', 'run', 'run', 'pass', 'pass', 'run', 'pass', 'run', 'run', 'pass', 'pass', 'run', 'run', 'pass', 'run', 'pass', 'run', 'run', 'run', 'run', 'run', 'run', 'pass', 'pass', 'pass', 'pass', 'pass', 'pass', 'pass', 'pass', 'pass', 'run', 'run', 'run', 'pass', 'run', 'pass', 'pass', 'pass', 'run', 'pass', 'pass', 'run', 'run', 'run', 'run', 'run', 'run', 'pass', 'pass', 'pass', 'run', 'run', 'run', 'pass', 'pass', 'run', 'run', 'run', 'run', 'pass', 'pass', 'pass', 'pass', 'pass', 'run', 'pass', 'run', 'run', 'pass', 'pass', 'run', 'pass', 'run', 'pass', 'pass', 'pass', 'run', 'pass', 'pass', 'pass', 'pass', 'run', 'pass', 'pass', 'pass', 'pass', 'pass', 'run', 'pass', 'run', 'run', 'pass', 'run', 'run', 'pass', 'run', 'pass', 'run', 'pass', 'pass', 'run', 'pass', 'pass', 'pass', 'pass', 'run', 'pass', 'pass', 'run', 'run', 'run', 'run', 'pass', 'run', 'pass', 'pass', 'run', 'pass', 'pass', 'run', 'pass', 'pass', 'run', 'pass', 'pass', 'run', 'run', 'pass', 'run', 'run', 'run', 'pass', 'pass', 'pass', 'pass', 'run', 'pass', 'pass', 'pass', 'pass', 'run', 'run', 'pass', 'pass', 'run', 'run', 'run', 'pass', 'pass', 'pass', 'pass', 'pass', 'run', 'pass', 'run', 'pass', 'pass', 'run', 'run', 'pass', 'run', 'pass', 'pass', 'pass', 'run', 'pass', 'pass', 'pass', 'run', 'run', 'run', 'run', 'run', 'pass', 'run', 'run', 'pass', 'run', 'pass', 'run', 'run', 'run', 'run', 'pass', 'pass', 'run', 'pass', 'run', 'pass', 'pass', 'pass', 'pass', 'pass', 'pass', 'pass', 'pass', 'pass', 'run', 'run', 'run', 'pass', 'run', 'run', 'run', 'pass', 'run', 'pass', 'pass', 'run', 'pass', 'pass', 'run', 'pass', 'pass', 'pass', 'run', 'pass', 'run', 'run', 'pass', 'run', 'run', 'run', 'pass', 'run', 'pass', 'pass', 'run', 'pass', 'pass', 'pass', 'run', 'pass', 'pass', 'pass', 'pass', 'run', 'run', 'run', 'pass', 'pass', 'pass', 'pass', 'pass', 'pass', 'pass', 'pass', 'pass', 'pass', 'pass', 'pass', 'pass', 'pass', 'pass', 'pass', 'pass', 'run', 'pass', 'run', 'run', 'pass', 'pass', 'pass', 'pass', 'run', 'pass', 'pass', 'run', 'pass', 'run', 'pass', 'run', 'pass', 'run', 'pass', 'pass', 'run', 'run', 'run', 'run', 'pass', 'pass', 'pass', 'run', 'run', 'pass', 'run', 'run', 'pass', 'pass', 'run', 'pass', 'run', 'pass', 'pass', 'pass', 'run', 'pass', 'run', 'run', 'run', 'pass', 'pass', 'pass', 'run', 'pass', 'pass', 'run', 'run', 'pass', 'run', 'pass', 'pass', 'pass', 'pass', 'run', 'run', 'pass', 'run', 'pass', 'run', 'pass', 'pass', 'pass', 'run', 'run', 'run', 'pass', 'run', 'pass', 'run', 'pass', 'pass', 'run', 'pass', 'pass', 'run', 'run', 'run', 'run', 'run', 'pass', 'pass', 'pass', 'pass', 'pass', 'run', 'run', 'run', 'pass', 'run', 'pass', 'pass', 'run', 'pass', 'run', 'pass', 'pass', 'pass', 'run', 'pass', 'pass', 'run', 'pass', 'pass', 'run', 'pass', 'run', 'run', 'pass', 'run', 'run', 'run', 'run', 'run', 'pass', 'run', 'pass', 'pass', 'run', 'run', 'pass', 'pass', 'run', 'pass', 'run', 'pass', 'run', 'pass', 'pass', 'run', 'run', 'run', 'pass', 'pass', 'run', 'pass', 'run', 'pass', 'run', 'pass', 'pass', 'pass', 'run', 'run', 'pass', 'pass', 'run', 'pass', 'run', 'pass', 'pass', 'run', 'pass', 'pass', 'run', 'run', 'pass', 'pass', 'run', 'pass', 'run', 'pass', 'pass', 'pass', 'pass', 'run', 'pass', 'pass', 'run', 'pass', 'run', 'pass', 'pass', 'run', 'pass', 'pass', 'run', 'pass', 'run', 'pass', 'pass', 'pass', 'run', 'run', 'pass', 'run', 'pass', 'run', 'pass', 'pass', 'run', 'run', 'run', 'pass', 'run', 'pass', 'run', 'pass', 'pass', 'pass', 'run', 'pass', 'pass', 'pass', 'pass', 'run', 'run', 'pass', 'run', 'pass', 'pass', 'pass', 'pass', 'pass', 'pass', 'pass', 'run', 'pass', 'pass', 'run', 'pass', 'run', 'run', 'run', 'run', 'pass', 'run', 'pass', 'pass', 'run', 'run', 'run', 'run', 'run', 'run', 'pass', 'run', 'run', 'run', 'pass', 'run', 'run', 'run', 'pass', 'run', 'pass', 'pass', 'pass', 'run', 'pass', 'run', 'pass', 'run', 'run', 'run', 'run', 'pass', 'pass', 'run', 'pass', 'pass', 'pass', 'run', 'pass', 'pass', 'pass', 'run', 'run', 'pass', 'run', 'run', 'run', 'pass', 'run', 'pass', 'run', 'pass', 'pass', 'run', 'run', 'pass', 'pass', 'pass', 'pass', 'pass', 'run', 'run', 'pass', 'pass', 'run', 'run', 'pass', 'run', 'run', 'run', 'run', 'pass', 'run', 'run', 'pass', 'pass', 'pass', 'run', 'run', 'run', 'pass', 'run', 'run', 'run', 'pass', 'pass', 'run', 'run', 'run', 'run', 'pass', 'pass', 'pass', 'run', 'run', 'pass', 'run', 'pass', 'run', 'run', 'run', 'run', 'pass', 'run', 'run', 'run', 'pass', 'pass', 'pass', 'pass', 'pass', 'run', 'run', 'run', 'pass', 'pass', 'pass', 'pass', 'pass', 'pass', 'run', 'run', 'pass', 'pass', 'run', 'pass', 'run', 'pass', 'run', 'run', 'run', 'run', 'pass', 'pass', 'run', 'run', 'pass', 'pass', 'run', 'pass', 'run', 'pass', 'run', 'pass', 'pass', 'run', 'pass', 'pass', 'pass', 'run', 'run', 'pass', 'pass', 'pass', 'pass', 'pass', 'run', 'pass', 'run', 'pass', 'pass', 'run', 'run', 'pass', 'pass', 'pass', 'pass', 'run', 'run', 'pass', 'pass', 'run', 'pass', 'run', 'run', 'run', 'pass', 'run', 'run', 'run', 'run', 'run', 'run', 'run', 'run', 'run', 'run', 'pass', 'pass', 'pass', 'run', 'pass', 'pass', 'pass', 'pass', 'pass', 'pass', 'pass', 'run', 'run', 'pass', 'run', 'run', 'pass', 'run', 'pass', 'run', 'run', 'pass', 'pass', 'run', 'run', 'run', 'run', 'pass', 'pass', 'pass', 'run', 'run', 'run', 'pass', 'pass', 'pass', 'pass', 'pass', 'pass', 'pass', 'run', 'run', 'pass', 'pass', 'run', 'run', 'pass', 'run', 'run', 'pass', 'pass', 'pass', 'pass', 'run', 'pass', 'run', 'run', 'pass', 'pass', 'run', 'pass', 'run', 'pass', 'run', 'pass', 'pass', 'pass', 'run', 'run', 'run', 'pass', 'pass', 'pass', 'pass', 'run', 'pass', 'pass', 'run', 'run', 'pass', 'run', 'pass', 'run', 'run', 'pass', 'run', 'run', 'run', 'run', 'run', 'run', 'run', 'run', 'pass', 'run', 'run', 'pass', 'pass', 'run', 'pass', 'pass', 'pass', 'run', 'run', 'pass', 'pass', 'pass', 'pass', 'pass', 'pass', 'pass', 'pass', 'run', 'run', 'run', 'run', 'pass', 'run', 'run', 'run', 'pass', 'pass', 'run', 'run', 'pass', 'pass', 'pass', 'run', 'pass', 'pass', 'pass', 'pass', 'pass', 'run', 'pass', 'pass', 'run', 'run', 'run', 'run', 'pass', 'pass', 'pass', 'run', 'pass', 'run', 'pass', 'pass', 'pass', 'pass', 'pass', 'pass', 'run', 'run', 'pass', 'pass', 'pass', 'pass', 'run', 'run', 'run', 'run', 'pass', 'run', 'run', 'pass', 'run', 'run', 'pass', 'pass', 'pass', 'pass', 'pass', 'pass', 'run', 'run', 'run', 'run', 'pass', 'pass', 'pass', 'run', 'run', 'pass', 'run', 'pass', 'pass', 'pass', 'run', 'pass', 'run', 'run', 'run', 'run', 'pass', 'run', 'pass', 'run', 'pass', 'run', 'pass', 'run', 'pass', 'pass', 'run', 'pass', 'pass', 'pass', 'run', 'pass', 'run', 'run', 'run', 'pass', 'run', 'pass', 'pass', 'pass', 'run', 'run', 'run', 'run', 'pass', 'run', 'run', 'pass', 'pass', 'run', 'pass', 'pass', 'run', 'run', 'run', 'run', 'pass', 'run', 'run', 'pass', 'pass', 'pass', 'pass', 'pass', 'pass', 'run', 'pass', 'run', 'run', 'run', 'run', 'run', 'pass', 'pass', 'pass', 'pass', 'run', 'pass', 'run', 'run', 'pass', 'pass', 'pass', 'run', 'run', 'pass', 'run', 'run', 'pass', 'pass', 'pass', 'pass', 'pass', 'run', 'pass', 'run', 'run', 'run', 'run', 'run', 'pass', 'pass', 'pass', 'run', 'run', 'pass', 'run', 'pass', 'pass', 'pass', 'pass', 'pass', 'run', 'run', 'pass', 'pass', 'pass', 'run', 'pass', 'run', 'run', 'pass', 'run', 'run', 'run', 'run', 'run', 'run', 'pass', 'pass', 'pass', 'run', 'pass', 'pass', 'run', 'pass', 'pass', 'run', 'pass', 'pass', 'pass', 'run', 'pass', 'run', 'pass', 'pass', 'run', 'run', 'pass', 'pass', 'run', 'pass', 'run', 'pass', 'run', 'pass', 'pass', 'pass', 'pass', 'run', 'pass', 'run', 'run', 'run', 'pass', 'run', 'pass', 'pass', 'run', 'pass', 'pass', 'pass', 'run', 'pass', 'run', 'run', 'run', 'pass', 'run', 'pass', 'run', 'pass', 'pass', 'run', 'pass', 'pass', 'run', 'pass', 'pass', 'pass', 'run', 'pass', 'pass', 'pass', 'pass', 'run', 'run', 'run', 'pass', 'pass', 'run', 'pass', 'pass', 'pass', 'pass', 'pass', 'pass', 'pass', 'pass', 'run', 'pass', 'pass', 'run', 'pass', 'pass', 'run', 'pass', 'pass', 'pass', 'pass', 'pass', 'run', 'run', 'pass', 'run', 'pass', 'run', 'run', 'run', 'pass', 'pass', 'run', 'pass', 'run', 'pass', 'run', 'run', 'run', 'pass', 'run', 'run', 'run', 'pass', 'run', 'run', 'run', 'run', 'pass', 'run', 'run', 'run', 'run', 'run', 'run', 'pass', 'pass', 'run', 'run', 'run', 'run', 'pass', 'pass', 'run', 'run', 'run', 'pass', 'run', 'run', 'run', 'run', 'run', 'pass', 'run', 'pass', 'pass', 'pass', 'run', 'pass', 'run', 'pass', 'run', 'run', 'run', 'run', 'run', 'run', 'pass', 'pass', 'run', 'pass', 'run', 'run', 'pass', 'run', 'pass', 'run', 'pass', 'pass', 'run', 'run', 'run', 'run', 'run', 'pass', 'pass', 'pass', 'pass', 'run', 'pass', 'run', 'run', 'pass', 'run', 'run', 'run', 'run', 'run', 'pass', 'pass', 'run', 'pass', 'pass', 'run', 'pass', 'run', 'pass', 'pass', 'pass', 'pass', 'run', 'run', 'run', 'pass', 'run', 'pass', 'run', 'run', 'pass', 'run', 'pass', 'run', 'run', 'run', 'run', 'pass', 'pass', 'run', 'run', 'run', 'pass', 'pass', 'run', 'run', 'run', 'run', 'run', 'pass', 'run', 'pass', 'run', 'run', 'pass', 'run', 'pass', 'pass', 'pass', 'pass', 'pass', 'pass', 'pass', 'run', 'run', 'pass', 'pass', 'run', 'pass', 'pass', 'pass', 'run', 'pass', 'run', 'run', 'run', 'pass', 'pass', 'pass', 'pass', 'run', 'pass', 'pass', 'run', 'pass', 'pass', 'pass', 'pass', 'pass', 'pass', 'pass', 'pass', 'pass', 'run', 'run', 'run', 'run', 'run', 'run', 'run', 'run', 'pass', 'run', 'pass', 'pass', 'run', 'pass', 'pass', 'run', 'run', 'run', 'run', 'pass', 'run', 'run', 'pass', 'pass', 'pass', 'pass', 'run', 'pass', 'run', 'run', 'run', 'pass', 'run', 'run', 'run', 'run', 'run', 'run', 'run', 'run', 'run', 'pass', 'pass', 'pass', 'run', 'pass', 'pass', 'run', 'pass', 'run', 'pass', 'pass', 'pass', 'run', 'pass', 'pass', 'run', 'pass', 'run', 'pass', 'pass', 'run', 'pass', 'pass', 'pass', 'run', 'run', 'run', 'run', 'pass', 'run', 'pass', 'run', 'run', 'pass', 'pass', 'pass', 'pass', 'pass', 'run', 'run', 'pass', 'pass', 'pass', 'pass', 'run', 'pass', 'run', 'run', 'pass', 'run', 'run', 'pass', 'run', 'pass', 'run', 'run', 'pass', 'pass', 'pass', 'pass', 'pass', 'pass', 'run', 'run', 'pass', 'run', 'pass', 'pass', 'run', 'run', 'pass', 'pass', 'pass', 'run', 'run', 'run', 'run', 'run', 'pass', 'run', 'run', 'pass', 'pass', 'run', 'pass', 'run', 'pass', 'pass', 'run', 'pass', 'run', 'pass', 'run', 'pass', 'pass', 'run', 'pass', 'run', 'pass', 'pass', 'pass', 'pass', 'pass', 'run', 'pass', 'run', 'run', 'pass', 'pass', 'pass', 'pass', 'pass', 'run', 'run', 'run', 'pass', 'run', 'pass', 'run', 'pass', 'pass', 'run', 'pass', 'pass', 'run', 'pass', 'pass', 'run', 'pass', 'run', 'pass', 'pass', 'run', 'pass', 'pass', 'run', 'run', 'pass', 'pass', 'run', 'pass', 'run', 'run', 'pass', 'pass', 'run', 'pass', 'pass', 'pass', 'pass', 'pass', 'run', 'run', 'pass', 'pass', 'run', 'pass', 'pass', 'pass', 'pass', 'run', 'run', 'run', 'run', 'pass', 'pass', 'run', 'pass', 'pass', 'pass', 'pass', 'pass', 'pass', 'run', 'pass', 'pass', 'run', 'pass', 'pass', 'pass', 'pass', 'run', 'pass', 'pass', 'pass', 'pass', 'run', 'run', 'pass', 'pass', 'pass', 'pass', 'pass', 'run', 'run', 'run', 'run', 'pass', 'run', 'pass', 'run', 'pass', 'pass', 'run', 'pass', 'pass', 'run', 'pass', 'pass', 'run', 'pass', 'pass', 'pass', 'pass', 'pass', 'pass', 'run', 'pass', 'pass', 'pass', 'pass', 'pass', 'pass', 'pass', 'pass', 'run', 'run', 'run', 'pass', 'pass', 'run', 'pass', 'run', 'pass', 'run', 'run', 'pass', 'pass', 'run', 'pass', 'run', 'pass', 'run', 'pass', 'run', 'pass', 'pass', 'run', 'run', 'pass', 'run', 'run', 'run', 'pass', 'run', 'pass', 'run', 'run', 'pass', 'pass', 'run', 'pass', 'pass', 'run', 'pass', 'run', 'pass', 'pass', 'pass', 'run', 'pass', 'pass', 'pass', 'pass', 'run', 'pass', 'pass', 'run', 'run', 'pass', 'pass', 'pass', 'pass', 'pass', 'pass', 'pass', 'pass', 'pass', 'run', 'run', 'pass', 'pass', 'pass', 'pass', 'pass', 'run', 'pass', 'pass', 'run', 'run', 'run', 'run', 'pass', 'run', 'pass', 'pass', 'run', 'pass', 'run', 'pass', 'run', 'pass', 'pass', 'run', 'pass', 'pass', 'pass', 'pass', 'run', 'run', 'run', 'pass', 'pass', 'pass', 'pass', 'pass', 'pass', 'pass', 'pass', 'run', 'pass', 'run', 'run', 'pass', 'run', 'pass', 'pass', 'pass', 'run', 'run', 'pass', 'pass', 'pass', 'pass', 'pass', 'pass', 'pass', 'run', 'pass', 'run', 'pass', 'run', 'run', 'run', 'run', 'run', 'pass', 'run', 'run', 'pass', 'run', 'pass', 'run', 'run', 'pass', 'pass', 'run', 'run', 'pass', 'pass', 'pass', 'run', 'pass', 'pass', 'run', 'pass', 'run', 'run', 'pass', 'pass', 'run', 'pass', 'run', 'run', 'run', 'pass', 'run', 'run', 'pass', 'run', 'run', 'run', 'pass', 'pass', 'run', 'pass', 'pass', 'pass', 'pass', 'pass', 'pass', 'run', 'run', 'run', 'run', 'run', 'run', 'run', 'pass', 'run', 'pass', 'run', 'pass', 'pass', 'run', 'run', 'run', 'pass', 'run', 'run', 'pass', 'pass', 'run', 'pass', 'pass', 'pass', 'run', 'pass', 'pass', 'run', 'run', 'pass', 'pass', 'run', 'pass', 'pass', 'run', 'run', 'pass', 'pass', 'run', 'pass', 'pass', 'pass', 'pass', 'pass', 'run', 'pass', 'run', 'run', 'run', 'run', 'run', 'pass', 'pass', 'pass', 'pass', 'run', 'pass', 'pass', 'run', 'run', 'run', 'pass', 'pass', 'pass', 'run', 'pass', 'pass', 'run', 'pass', 'run', 'pass', 'pass', 'run', 'pass', 'pass', 'pass', 'pass', 'run', 'pass', 'pass', 'pass', 'run', 'pass', 'run', 'pass', 'run', 'pass', 'pass', 'run', 'pass', 'pass', 'run', 'pass', 'run', 'pass', 'run', 'pass', 'run', 'run', 'pass', 'pass', 'pass', 'pass', 'run', 'pass', 'run', 'pass', 'pass', 'pass', 'pass', 'pass', 'pass', 'pass', 'pass', 'pass', 'run', 'pass', 'run', 'run', 'pass', 'pass', 'run', 'run', 'pass', 'run', 'pass', 'run', 'pass', 'run', 'pass', 'run', 'pass', 'pass', 'pass', 'pass', 'pass', 'pass', 'pass', 'pass', 'pass', 'pass', 'pass', 'pass', 'pass', 'pass', 'run', 'pass', 'run', 'pass', 'run', 'run', 'run', 'run', 'pass', 'pass', 'pass', 'pass', 'pass', 'run', 'pass', 'pass', 'pass', 'pass', 'run', 'pass', 'pass', 'pass', 'run', 'pass', 'pass', 'pass', 'pass', 'pass', 'pass', 'pass', 'run', 'pass', 'pass', 'pass', 'run', 'run', 'pass', 'run', 'pass', 'pass', 'pass', 'pass', 'pass', 'run', 'pass', 'run', 'pass', 'pass', 'pass', 'run', 'pass', 'pass', 'run', 'pass', 'pass', 'run', 'run', 'pass', 'run', 'pass', 'pass', 'run', 'pass', 'pass', 'pass', 'pass', 'pass', 'pass', 'pass', 'pass', 'run', 'pass', 'pass', 'pass', 'pass', 'pass', 'run', 'run', 'run', 'pass', 'run', 'run', 'run', 'run', 'pass', 'run', 'run', 'pass', 'run', 'pass', 'pass', 'run', 'pass', 'pass', 'pass', 'run', 'pass', 'run', 'pass', 'pass', 'run', 'run', 'pass', 'pass', 'run', 'pass', 'pass', 'pass', 'pass', 'run', 'run', 'run', 'run', 'pass', 'pass', 'pass', 'pass', 'pass', 'run', 'pass', 'run', 'run', 'pass', 'pass', 'run', 'run', 'run', 'run', 'run', 'run', 'pass', 'run', 'run', 'pass', 'pass', 'run', 'run', 'pass', 'pass', 'run', 'run', 'run', 'run', 'pass', 'pass', 'pass', 'run', 'run', 'run', 'pass', 'run', 'run', 'run', 'run', 'pass', 'run', 'pass', 'pass', 'pass', 'pass', 'run', 'pass', 'run', 'pass', 'pass', 'run', 'pass', 'pass', 'pass', 'run', 'run', 'pass', 'pass', 'run', 'pass', 'pass', 'pass', 'pass', 'run', 'pass', 'pass', 'pass', 'pass', 'pass', 'run', 'run', 'run', 'pass', 'pass', 'pass', 'pass', 'run', 'run', 'pass', 'pass', 'pass', 'run', 'run', 'run', 'run', 'run', 'run', 'run', 'run', 'pass', 'pass', 'pass', 'run', 'run', 'pass', 'pass', 'run', 'run', 'pass', 'pass', 'run', 'pass', 'run', 'run', 'pass', 'pass', 'run', 'pass', 'pass', 'pass', 'pass', 'pass', 'run', 'run', 'run', 'run', 'run', 'pass', 'pass', 'run', 'pass', 'pass', 'pass', 'run', 'run', 'run', 'pass', 'run', 'pass', 'pass', 'pass', 'pass', 'pass', 'pass', 'run', 'run', 'run', 'pass', 'run', 'pass', 'pass', 'run', 'pass', 'pass', 'run', 'pass', 'pass', 'run', 'pass', 'run', 'run', 'run', 'pass', 'pass', 'pass', 'pass', 'run', 'run', 'run', 'pass', 'run', 'pass', 'pass', 'pass', 'pass', 'run', 'pass', 'run', 'pass', 'run', 'pass', 'pass', 'pass', 'run', 'pass', 'pass', 'run', 'pass', 'pass', 'run', 'pass', 'pass', 'pass', 'pass', 'run', 'pass', 'pass', 'pass', 'pass', 'run', 'pass', 'pass', 'run', 'pass', 'pass', 'pass', 'run', 'pass', 'pass', 'pass', 'pass', 'pass', 'pass', 'run', 'run', 'pass', 'run', 'run', 'run', 'run', 'run', 'run', 'run', 'run', 'pass', 'pass', 'pass', 'pass', 'pass', 'pass', 'pass', 'pass', 'pass', 'run', 'pass', 'run', 'run', 'run', 'pass', 'run', 'pass', 'pass', 'pass', 'run', 'pass', 'pass', 'run', 'run', 'pass', 'run', 'pass', 'run', 'pass', 'pass', 'run', 'pass', 'run', 'run', 'run', 'run', 'run', 'pass', 'pass', 'pass', 'pass', 'pass', 'run', 'pass', 'pass', 'run', 'run', 'pass', 'run', 'run', 'run', 'pass', 'run', 'pass', 'run', 'pass', 'pass', 'run', 'run', 'pass', 'pass', 'pass', 'run', 'pass', 'run', 'pass', 'run', 'pass', 'run', 'pass', 'pass', 'run', 'pass', 'pass', 'run', 'pass', 'run', 'run', 'pass', 'pass', 'pass', 'pass', 'pass', 'pass', 'pass', 'pass', 'run', 'pass', 'run', 'pass', 'pass', 'run', 'pass', 'run', 'pass', 'run', 'pass', 'pass', 'pass', 'pass', 'pass', 'pass', 'run', 'pass', 'pass', 'pass', 'pass', 'pass', 'run', 'run', 'pass', 'run', 'pass', 'pass', 'pass', 'run', 'pass', 'pass', 'run', 'run', 'pass', 'run', 'pass', 'run', 'run', 'pass', 'run', 'pass', 'run', 'pass', 'pass', 'run', 'pass', 'pass', 'pass', 'pass', 'pass', 'run', 'pass', 'run', 'pass', 'run', 'pass', 'run', 'run', 'pass', 'run', 'run', 'pass', 'pass', 'run', 'pass', 'pass', 'pass', 'run', 'run', 'run', 'run', 'pass', 'run', 'run', 'run', 'run', 'pass', 'run', 'pass', 'pass', 'run', 'pass', 'run', 'pass', 'pass', 'run', 'pass', 'run', 'run', 'pass', 'run', 'pass', 'pass', 'run', 'run', 'pass', 'run', 'pass', 'pass', 'run', 'pass', 'run', 'run', 'pass', 'pass', 'pass', 'pass', 'run', 'pass', 'pass', 'run', 'pass', 'pass', 'run', 'pass', 'pass', 'pass', 'pass', 'pass', 'pass', 'run', 'run', 'pass', 'pass', 'pass', 'run', 'pass', 'pass', 'pass', 'run', 'pass', 'pass', 'pass', 'pass', 'pass', 'run', 'pass', 'pass', 'run', 'pass', 'pass', 'pass', 'run', 'pass', 'pass', 'pass', 'pass', 'run', 'pass', 'run', 'run', 'pass', 'run', 'run', 'pass', 'pass', 'pass', 'run', 'pass', 'pass', 'pass', 'pass', 'pass', 'pass', 'pass', 'pass', 'pass', 'run', 'pass', 'pass', 'run', 'pass', 'pass', 'pass', 'pass', 'pass', 'run', 'pass', 'run', 'pass', 'pass', 'run', 'pass', 'pass', 'run', 'run', 'run', 'run', 'run', 'pass', 'pass', 'pass', 'pass', 'run', 'run', 'run', 'pass', 'pass', 'run', 'pass', 'pass', 'run', 'pass', 'pass', 'pass', 'run', 'pass', 'run', 'pass', 'run', 'pass', 'run', 'run', 'run', 'pass', 'run', 'run', 'run', 'pass', 'pass', 'pass', 'pass', 'run', 'pass', 'run', 'pass', 'run', 'run', 'run', 'pass', 'pass', 'pass', 'pass', 'pass', 'run', 'run', 'pass', 'run', 'run', 'pass', 'run', 'pass', 'pass', 'run', 'pass', 'pass', 'run', 'run', 'pass', 'pass', 'pass', 'pass', 'pass', 'run', 'pass', 'pass', 'pass', 'run', 'pass', 'pass', 'pass', 'pass', 'pass', 'pass', 'pass', 'pass', 'pass', 'run', 'pass', 'pass', 'run', 'run', 'pass', 'run', 'run', 'pass', 'pass', 'pass', 'pass', 'pass', 'pass', 'pass', 'pass', 'pass', 'pass', 'pass', 'run', 'run', 'run', 'run', 'run', 'pass', 'pass', 'run', 'pass', 'pass', 'pass', 'pass', 'pass', 'pass', 'pass', 'pass', 'run', 'pass', 'pass', 'pass', 'pass', 'run', 'run', 'run', 'run', 'run', 'pass', 'run', 'run', 'run', 'run', 'run', 'run', 'run', 'pass', 'run', 'pass', 'pass', 'pass', 'pass', 'run', 'pass', 'pass', 'pass', 'run', 'pass', 'pass', 'run', 'run', 'run', 'pass', 'run', 'pass', 'run', 'pass', 'run', 'pass', 'pass', 'pass', 'pass', 'pass', 'run', 'pass', 'run', 'pass', 'run', 'pass', 'pass', 'pass', 'run', 'pass', 'pass', 'pass', 'pass', 'run', 'run', 'pass', 'pass', 'pass', 'pass', 'pass', 'run', 'run', 'run', 'pass', 'pass', 'pass', 'pass', 'run', 'pass', 'run', 'run', 'pass', 'pass', 'pass', 'run', 'pass', 'run', 'pass', 'pass', 'run', 'pass', 'pass', 'pass', 'pass', 'run', 'run', 'run', 'pass', 'pass', 'run', 'pass', 'pass', 'pass', 'run', 'run', 'pass', 'pass', 'run', 'pass', 'pass', 'pass', 'run', 'pass', 'run', 'pass', 'pass', 'pass', 'pass', 'pass', 'run', 'run', 'run', 'pass', 'run', 'run', 'pass', 'pass', 'pass', 'run', 'pass', 'pass', 'pass', 'pass', 'run', 'run', 'run', 'run', 'run', 'run', 'run', 'run', 'pass', 'pass', 'run', 'pass', 'run', 'pass', 'run', 'run', 'run', 'run', 'run', 'run', 'pass', 'pass', 'pass', 'pass', 'run', 'run', 'run', 'pass', 'run', 'run', 'run', 'pass', 'run', 'run', 'run', 'pass', 'run', 'run', 'run', 'run', 'run', 'run', 'run', 'pass', 'pass', 'pass', 'run', 'run', 'pass', 'run', 'run', 'pass', 'pass', 'run', 'run', 'pass', 'run', 'pass', 'run', 'pass', 'run', 'pass', 'pass', 'run', 'run', 'run', 'run', 'pass', 'run', 'pass', 'pass', 'run', 'pass', 'pass', 'run', 'run', 'pass', 'run', 'pass', 'pass', 'pass', 'pass', 'run', 'pass', 'pass', 'run', 'pass', 'run', 'run', 'pass', 'run', 'run', 'pass', 'pass', 'run', 'pass', 'pass', 'run', 'pass', 'pass', 'pass', 'pass', 'pass', 'pass', 'pass', 'pass', 'pass', 'run', 'run', 'run', 'run', 'run', 'pass', 'run', 'run', 'pass', 'pass', 'pass', 'pass', 'pass', 'pass', 'pass', 'run', 'pass', 'run', 'run', 'pass', 'run', 'run', 'pass', 'pass', 'pass', 'run', 'run', 'pass', 'run', 'run', 'pass', 'run', 'run', 'run', 'run', 'run', 'pass', 'pass', 'run', 'run', 'run', 'pass', 'run', 'run', 'pass', 'pass', 'run', 'run', 'run', 'pass', 'pass', 'run', 'pass', 'run', 'run', 'run', 'pass', 'pass', 'run', 'run', 'run', 'run', 'pass', 'run', 'pass', 'run', 'pass', 'pass', 'pass', 'run', 'pass', 'run', 'pass', 'pass', 'pass', 'pass', 'pass', 'run', 'pass', 'pass', 'run', 'pass', 'pass', 'pass', 'run', 'run', 'run', 'pass', 'run', 'pass', 'pass', 'pass', 'pass', 'pass', 'run', 'run', 'run', 'pass', 'pass', 'run', 'run', 'run', 'pass', 'pass', 'run', 'pass', 'run', 'pass', 'pass', 'pass', 'run', 'pass', 'pass', 'run', 'pass', 'pass', 'run', 'pass', 'pass', 'pass', 'pass', 'pass', 'pass', 'pass', 'pass', 'run', 'pass', 'pass', 'run', 'pass', 'pass', 'pass', 'pass', 'pass', 'pass', 'run', 'run', 'run', 'pass', 'pass', 'pass', 'run', 'pass', 'run', 'pass', 'run', 'pass', 'pass', 'pass', 'run', 'pass', 'run', 'pass', 'pass', 'pass', 'run', 'run', 'pass', 'pass', 'pass', 'pass', 'pass', 'pass', 'run', 'pass', 'run', 'pass', 'pass', 'run', 'pass', 'run', 'pass', 'run', 'pass', 'run', 'run', 'run', 'pass', 'run', 'run', 'run', 'run', 'pass', 'run', 'run', 'pass', 'pass', 'pass', 'run', 'run', 'pass', 'run', 'pass', 'run', 'run', 'pass', 'run', 'run', 'run', 'pass', 'pass', 'pass', 'run', 'run', 'run', 'run', 'run', 'pass', 'pass', 'run', 'run', 'pass', 'run', 'run', 'pass', 'run', 'pass', 'run', 'run', 'pass', 'pass', 'run', 'run', 'pass', 'run', 'run', 'run', 'pass', 'pass', 'pass', 'run', 'run', 'run', 'run', 'run', 'pass', 'run', 'pass', 'run', 'run', 'run', 'run', 'run', 'run', 'pass', 'pass', 'run', 'pass', 'run', 'pass', 'run', 'pass', 'run', 'run', 'run', 'pass', 'run', 'pass', 'run', 'pass', 'pass', 'pass', 'run', 'run', 'run', 'run', 'pass', 'pass', 'run', 'run', 'run', 'run', 'pass', 'run', 'run', 'pass', 'pass', 'pass', 'run', 'run', 'pass', 'pass', 'run', 'run', 'pass', 'pass', 'run', 'pass', 'run', 'pass', 'run', 'run', 'run', 'pass', 'pass', 'pass', 'pass', 'pass', 'pass', 'pass', 'run', 'pass', 'run', 'run', 'run', 'pass', 'run', 'run', 'pass', 'run', 'run', 'run', 'run', 'run', 'run', 'pass', 'pass', 'pass', 'pass', 'run', 'pass', 'pass', 'pass', 'run', 'pass', 'pass', 'run', 'run', 'run', 'pass', 'pass', 'pass', 'pass', 'pass', 'pass', 'pass', 'pass', 'pass', 'pass', 'run', 'run', 'pass', 'run', 'run', 'run', 'run', 'run', 'pass', 'pass', 'run', 'pass', 'run', 'pass', 'pass', 'pass', 'pass', 'pass', 'pass', 'pass', 'pass', 'pass', 'pass', 'run', 'run', 'run', 'pass', 'run', 'pass', 'run', 'pass', 'pass', 'run', 'run', 'run', 'pass', 'run', 'pass', 'pass', 'run', 'run', 'pass', 'pass', 'pass', 'pass', 'run', 'pass', 'pass', 'pass', 'run', 'run', 'pass', 'run', 'run', 'run', 'pass', 'pass', 'pass', 'run', 'run', 'pass', 'run', 'run', 'pass', 'run', 'pass', 'pass', 'pass', 'pass', 'pass', 'pass', 'run', 'pass', 'pass', 'run', 'pass', 'pass', 'run', 'run', 'pass', 'pass', 'pass', 'pass', 'pass', 'run', 'run', 'pass', 'pass', 'run', 'pass', 'run', 'pass', 'pass', 'run', 'pass', 'run', 'run', 'pass', 'pass', 'pass', 'run', 'pass', 'run', 'pass', 'pass', 'run', 'run', 'run', 'run', 'pass', 'run', 'run', 'pass', 'run', 'run', 'pass', 'run', 'pass', 'pass', 'pass', 'run', 'run', 'pass', 'run', 'run', 'pass', 'run', 'run', 'run', 'pass', 'run', 'pass', 'pass', 'pass', 'run', 'run', 'run', 'run', 'pass', 'pass', 'pass', 'pass', 'pass', 'pass', 'pass', 'pass', 'run', 'pass', 'pass', 'run', 'pass', 'pass', 'pass', 'pass', 'run', 'pass', 'run', 'run', 'pass', 'run', 'run', 'pass', 'run', 'run', 'run', 'pass', 'pass', 'run', 'pass', 'pass', 'run', 'pass', 'pass', 'run', 'run', 'pass', 'pass', 'run', 'pass', 'run', 'pass', 'run', 'run', 'run', 'run', 'run', 'pass', 'pass', 'pass', 'pass', 'pass', 'run', 'run', 'run', 'run', 'run', 'pass', 'pass', 'pass', 'run', 'pass', 'pass', 'run', 'pass', 'pass', 'pass', 'pass', 'run', 'run', 'pass', 'pass', 'run', 'run', 'pass', 'run', 'run', 'pass', 'run', 'run', 'pass', 'run', 'pass', 'pass', 'run', 'run', 'run', 'run', 'run', 'run', 'run', 'run', 'run', 'run', 'run', 'run', 'run', 'run', 'run', 'run', 'run', 'run', 'run', 'run', 'run', 'run', 'pass', 'pass', 'run', 'run', 'run', 'run', 'run', 'run']\n"
     ]
    }
   ],
   "source": [
    "print(outcome_run_pass)"
   ]
  },
  {
   "cell_type": "code",
   "execution_count": 185,
   "id": "d22d4591-af66-4810-baed-e58cd9615e8a",
   "metadata": {},
   "outputs": [],
   "source": [
    "X = pd.get_dummies(X)"
   ]
  },
  {
   "cell_type": "code",
   "execution_count": 186,
   "id": "2a7bcf3e-6dc4-48db-a3f2-f83863e7ab8c",
   "metadata": {},
   "outputs": [
    {
     "data": {
      "text/plain": [
       "14619"
      ]
     },
     "execution_count": 186,
     "metadata": {},
     "output_type": "execute_result"
    }
   ],
   "source": [
    "Y = outcome_run_pass\n",
    "Y = np.ravel(Y)\n",
    "len(Y)"
   ]
  },
  {
   "cell_type": "code",
   "execution_count": 187,
   "id": "16103a30-fca9-4a2e-8dcd-823c6e09457c",
   "metadata": {},
   "outputs": [],
   "source": [
    "scaler = StandardScaler()\n",
    "X_scaled = scaler.fit_transform(X)"
   ]
  },
  {
   "cell_type": "code",
   "execution_count": 188,
   "id": "b70c58ac-fdd4-43a8-82f7-43b0f3d57b6d",
   "metadata": {},
   "outputs": [
    {
     "data": {
      "text/plain": [
       "14619"
      ]
     },
     "execution_count": 188,
     "metadata": {},
     "output_type": "execute_result"
    }
   ],
   "source": [
    "len(X)"
   ]
  },
  {
   "cell_type": "code",
   "execution_count": 189,
   "id": "341fa195-fe3c-458a-ac10-31f64e31a17e",
   "metadata": {},
   "outputs": [],
   "source": [
    "encoder = LabelEncoder()\n",
    "encoder.fit(Y)\n",
    "encoded_Y = encoder.transform(Y)\n",
    "dummy_y = to_categorical(encoded_Y)\n"
   ]
  },
  {
   "cell_type": "code",
   "execution_count": 190,
   "id": "ee7e60c8-3de6-46cf-8e09-6b00277f5fe9",
   "metadata": {},
   "outputs": [],
   "source": [
    "X_train, X_test, Y_train, Y_test = train_test_split(X_scaled, dummy_y, test_size=0.3, random_state=1)"
   ]
  },
  {
   "cell_type": "code",
   "execution_count": 191,
   "id": "96a067df-e90b-45e1-8323-4ea12fc6d923",
   "metadata": {},
   "outputs": [
    {
     "data": {
      "text/plain": [
       "14619"
      ]
     },
     "execution_count": 191,
     "metadata": {},
     "output_type": "execute_result"
    }
   ],
   "source": [
    "len(X_scaled)"
   ]
  },
  {
   "cell_type": "code",
   "execution_count": 192,
   "id": "b66dabdb-dc8d-49f3-bd49-361cbc83b887",
   "metadata": {},
   "outputs": [
    {
     "data": {
      "text/plain": [
       "14619"
      ]
     },
     "execution_count": 192,
     "metadata": {},
     "output_type": "execute_result"
    }
   ],
   "source": [
    "len(dummy_y)"
   ]
  },
  {
   "cell_type": "code",
   "execution_count": 193,
   "id": "ed41cc61-fa7a-45ec-ac39-b384b1fc4468",
   "metadata": {},
   "outputs": [
    {
     "name": "stdout",
     "output_type": "stream",
     "text": [
      "68\n"
     ]
    }
   ],
   "source": [
    "print(len(X.columns))"
   ]
  },
  {
   "cell_type": "code",
   "execution_count": 198,
   "id": "f42c52ff-2d0a-44cd-b24c-95ba02636d40",
   "metadata": {},
   "outputs": [
    {
     "name": "stdout",
     "output_type": "stream",
     "text": [
      "Possible reshape: (14619, 1, 68)\n"
     ]
    },
    {
     "data": {
      "text/html": [
       "<pre style=\"white-space:pre;overflow-x:auto;line-height:normal;font-family:Menlo,'DejaVu Sans Mono',consolas,'Courier New',monospace\"><span style=\"font-weight: bold\">Model: \"sequential_26\"</span>\n",
       "</pre>\n"
      ],
      "text/plain": [
       "\u001b[1mModel: \"sequential_26\"\u001b[0m\n"
      ]
     },
     "metadata": {},
     "output_type": "display_data"
    },
    {
     "data": {
      "text/html": [
       "<pre style=\"white-space:pre;overflow-x:auto;line-height:normal;font-family:Menlo,'DejaVu Sans Mono',consolas,'Courier New',monospace\">┏━━━━━━━━━━━━━━━━━━━━━━━━━━━━━━━━━┳━━━━━━━━━━━━━━━━━━━━━━━━┳━━━━━━━━━━━━━━━┓\n",
       "┃<span style=\"font-weight: bold\"> Layer (type)                    </span>┃<span style=\"font-weight: bold\"> Output Shape           </span>┃<span style=\"font-weight: bold\">       Param # </span>┃\n",
       "┡━━━━━━━━━━━━━━━━━━━━━━━━━━━━━━━━━╇━━━━━━━━━━━━━━━━━━━━━━━━╇━━━━━━━━━━━━━━━┩\n",
       "│ lstm_26 (<span style=\"color: #0087ff; text-decoration-color: #0087ff\">LSTM</span>)                  │ (<span style=\"color: #00d7ff; text-decoration-color: #00d7ff\">None</span>, <span style=\"color: #00af00; text-decoration-color: #00af00\">128</span>)            │       <span style=\"color: #00af00; text-decoration-color: #00af00\">100,864</span> │\n",
       "├─────────────────────────────────┼────────────────────────┼───────────────┤\n",
       "│ dropout_26 (<span style=\"color: #0087ff; text-decoration-color: #0087ff\">Dropout</span>)            │ (<span style=\"color: #00d7ff; text-decoration-color: #00d7ff\">None</span>, <span style=\"color: #00af00; text-decoration-color: #00af00\">128</span>)            │             <span style=\"color: #00af00; text-decoration-color: #00af00\">0</span> │\n",
       "├─────────────────────────────────┼────────────────────────┼───────────────┤\n",
       "│ dense_52 (<span style=\"color: #0087ff; text-decoration-color: #0087ff\">Dense</span>)                │ (<span style=\"color: #00d7ff; text-decoration-color: #00d7ff\">None</span>, <span style=\"color: #00af00; text-decoration-color: #00af00\">64</span>)             │         <span style=\"color: #00af00; text-decoration-color: #00af00\">8,256</span> │\n",
       "├─────────────────────────────────┼────────────────────────┼───────────────┤\n",
       "│ dense_53 (<span style=\"color: #0087ff; text-decoration-color: #0087ff\">Dense</span>)                │ (<span style=\"color: #00d7ff; text-decoration-color: #00d7ff\">None</span>, <span style=\"color: #00af00; text-decoration-color: #00af00\">2</span>)              │           <span style=\"color: #00af00; text-decoration-color: #00af00\">130</span> │\n",
       "└─────────────────────────────────┴────────────────────────┴───────────────┘\n",
       "</pre>\n"
      ],
      "text/plain": [
       "┏━━━━━━━━━━━━━━━━━━━━━━━━━━━━━━━━━┳━━━━━━━━━━━━━━━━━━━━━━━━┳━━━━━━━━━━━━━━━┓\n",
       "┃\u001b[1m \u001b[0m\u001b[1mLayer (type)                   \u001b[0m\u001b[1m \u001b[0m┃\u001b[1m \u001b[0m\u001b[1mOutput Shape          \u001b[0m\u001b[1m \u001b[0m┃\u001b[1m \u001b[0m\u001b[1m      Param #\u001b[0m\u001b[1m \u001b[0m┃\n",
       "┡━━━━━━━━━━━━━━━━━━━━━━━━━━━━━━━━━╇━━━━━━━━━━━━━━━━━━━━━━━━╇━━━━━━━━━━━━━━━┩\n",
       "│ lstm_26 (\u001b[38;5;33mLSTM\u001b[0m)                  │ (\u001b[38;5;45mNone\u001b[0m, \u001b[38;5;34m128\u001b[0m)            │       \u001b[38;5;34m100,864\u001b[0m │\n",
       "├─────────────────────────────────┼────────────────────────┼───────────────┤\n",
       "│ dropout_26 (\u001b[38;5;33mDropout\u001b[0m)            │ (\u001b[38;5;45mNone\u001b[0m, \u001b[38;5;34m128\u001b[0m)            │             \u001b[38;5;34m0\u001b[0m │\n",
       "├─────────────────────────────────┼────────────────────────┼───────────────┤\n",
       "│ dense_52 (\u001b[38;5;33mDense\u001b[0m)                │ (\u001b[38;5;45mNone\u001b[0m, \u001b[38;5;34m64\u001b[0m)             │         \u001b[38;5;34m8,256\u001b[0m │\n",
       "├─────────────────────────────────┼────────────────────────┼───────────────┤\n",
       "│ dense_53 (\u001b[38;5;33mDense\u001b[0m)                │ (\u001b[38;5;45mNone\u001b[0m, \u001b[38;5;34m2\u001b[0m)              │           \u001b[38;5;34m130\u001b[0m │\n",
       "└─────────────────────────────────┴────────────────────────┴───────────────┘\n"
      ]
     },
     "metadata": {},
     "output_type": "display_data"
    },
    {
     "data": {
      "text/html": [
       "<pre style=\"white-space:pre;overflow-x:auto;line-height:normal;font-family:Menlo,'DejaVu Sans Mono',consolas,'Courier New',monospace\"><span style=\"font-weight: bold\"> Total params: </span><span style=\"color: #00af00; text-decoration-color: #00af00\">109,250</span> (426.76 KB)\n",
       "</pre>\n"
      ],
      "text/plain": [
       "\u001b[1m Total params: \u001b[0m\u001b[38;5;34m109,250\u001b[0m (426.76 KB)\n"
      ]
     },
     "metadata": {},
     "output_type": "display_data"
    },
    {
     "data": {
      "text/html": [
       "<pre style=\"white-space:pre;overflow-x:auto;line-height:normal;font-family:Menlo,'DejaVu Sans Mono',consolas,'Courier New',monospace\"><span style=\"font-weight: bold\"> Trainable params: </span><span style=\"color: #00af00; text-decoration-color: #00af00\">109,250</span> (426.76 KB)\n",
       "</pre>\n"
      ],
      "text/plain": [
       "\u001b[1m Trainable params: \u001b[0m\u001b[38;5;34m109,250\u001b[0m (426.76 KB)\n"
      ]
     },
     "metadata": {},
     "output_type": "display_data"
    },
    {
     "data": {
      "text/html": [
       "<pre style=\"white-space:pre;overflow-x:auto;line-height:normal;font-family:Menlo,'DejaVu Sans Mono',consolas,'Courier New',monospace\"><span style=\"font-weight: bold\"> Non-trainable params: </span><span style=\"color: #00af00; text-decoration-color: #00af00\">0</span> (0.00 B)\n",
       "</pre>\n"
      ],
      "text/plain": [
       "\u001b[1m Non-trainable params: \u001b[0m\u001b[38;5;34m0\u001b[0m (0.00 B)\n"
      ]
     },
     "metadata": {},
     "output_type": "display_data"
    },
    {
     "name": "stdout",
     "output_type": "stream",
     "text": [
      "Epoch 1/100\n",
      "\u001b[1m366/366\u001b[0m \u001b[32m━━━━━━━━━━━━━━━━━━━━\u001b[0m\u001b[37m\u001b[0m \u001b[1m1s\u001b[0m 1ms/step - accuracy: 0.6783 - loss: 0.6062 - val_accuracy: 0.7442 - val_loss: 0.5341\n",
      "Epoch 2/100\n",
      "\u001b[1m366/366\u001b[0m \u001b[32m━━━━━━━━━━━━━━━━━━━━\u001b[0m\u001b[37m\u001b[0m \u001b[1m0s\u001b[0m 995us/step - accuracy: 0.7095 - loss: 0.5624 - val_accuracy: 0.7459 - val_loss: 0.5289\n",
      "Epoch 3/100\n",
      "\u001b[1m366/366\u001b[0m \u001b[32m━━━━━━━━━━━━━━━━━━━━\u001b[0m\u001b[37m\u001b[0m \u001b[1m0s\u001b[0m 985us/step - accuracy: 0.7190 - loss: 0.5506 - val_accuracy: 0.7462 - val_loss: 0.5318\n",
      "Epoch 4/100\n",
      "\u001b[1m366/366\u001b[0m \u001b[32m━━━━━━━━━━━━━━━━━━━━\u001b[0m\u001b[37m\u001b[0m \u001b[1m0s\u001b[0m 982us/step - accuracy: 0.7249 - loss: 0.5458 - val_accuracy: 0.7497 - val_loss: 0.5280\n",
      "Epoch 5/100\n",
      "\u001b[1m366/366\u001b[0m \u001b[32m━━━━━━━━━━━━━━━━━━━━\u001b[0m\u001b[37m\u001b[0m \u001b[1m0s\u001b[0m 987us/step - accuracy: 0.7316 - loss: 0.5342 - val_accuracy: 0.7500 - val_loss: 0.5300\n",
      "Epoch 6/100\n",
      "\u001b[1m366/366\u001b[0m \u001b[32m━━━━━━━━━━━━━━━━━━━━\u001b[0m\u001b[37m\u001b[0m \u001b[1m0s\u001b[0m 1ms/step - accuracy: 0.7378 - loss: 0.5331 - val_accuracy: 0.7462 - val_loss: 0.5290\n",
      "Epoch 7/100\n",
      "\u001b[1m366/366\u001b[0m \u001b[32m━━━━━━━━━━━━━━━━━━━━\u001b[0m\u001b[37m\u001b[0m \u001b[1m0s\u001b[0m 985us/step - accuracy: 0.7230 - loss: 0.5328 - val_accuracy: 0.7435 - val_loss: 0.5357\n",
      "Epoch 8/100\n",
      "\u001b[1m366/366\u001b[0m \u001b[32m━━━━━━━━━━━━━━━━━━━━\u001b[0m\u001b[37m\u001b[0m \u001b[1m0s\u001b[0m 1ms/step - accuracy: 0.7346 - loss: 0.5256 - val_accuracy: 0.7411 - val_loss: 0.5379\n",
      "Epoch 9/100\n",
      "\u001b[1m366/366\u001b[0m \u001b[32m━━━━━━━━━━━━━━━━━━━━\u001b[0m\u001b[37m\u001b[0m \u001b[1m0s\u001b[0m 1ms/step - accuracy: 0.7289 - loss: 0.5236 - val_accuracy: 0.7421 - val_loss: 0.5403\n",
      "Epoch 10/100\n",
      "\u001b[1m366/366\u001b[0m \u001b[32m━━━━━━━━━━━━━━━━━━━━\u001b[0m\u001b[37m\u001b[0m \u001b[1m0s\u001b[0m 988us/step - accuracy: 0.7342 - loss: 0.5226 - val_accuracy: 0.7391 - val_loss: 0.5473\n",
      "Epoch 11/100\n",
      "\u001b[1m366/366\u001b[0m \u001b[32m━━━━━━━━━━━━━━━━━━━━\u001b[0m\u001b[37m\u001b[0m \u001b[1m0s\u001b[0m 991us/step - accuracy: 0.7449 - loss: 0.5129 - val_accuracy: 0.7456 - val_loss: 0.5485\n",
      "Epoch 12/100\n",
      "\u001b[1m366/366\u001b[0m \u001b[32m━━━━━━━━━━━━━━━━━━━━\u001b[0m\u001b[37m\u001b[0m \u001b[1m0s\u001b[0m 1ms/step - accuracy: 0.7483 - loss: 0.5127 - val_accuracy: 0.7391 - val_loss: 0.5590\n",
      "Epoch 13/100\n",
      "\u001b[1m366/366\u001b[0m \u001b[32m━━━━━━━━━━━━━━━━━━━━\u001b[0m\u001b[37m\u001b[0m \u001b[1m0s\u001b[0m 1ms/step - accuracy: 0.7484 - loss: 0.5015 - val_accuracy: 0.7421 - val_loss: 0.5559\n",
      "Epoch 14/100\n",
      "\u001b[1m366/366\u001b[0m \u001b[32m━━━━━━━━━━━━━━━━━━━━\u001b[0m\u001b[37m\u001b[0m \u001b[1m0s\u001b[0m 1ms/step - accuracy: 0.7464 - loss: 0.5041 - val_accuracy: 0.7302 - val_loss: 0.5668\n",
      "Epoch 15/100\n",
      "\u001b[1m366/366\u001b[0m \u001b[32m━━━━━━━━━━━━━━━━━━━━\u001b[0m\u001b[37m\u001b[0m \u001b[1m0s\u001b[0m 1ms/step - accuracy: 0.7462 - loss: 0.5073 - val_accuracy: 0.7367 - val_loss: 0.5853\n",
      "Epoch 16/100\n",
      "\u001b[1m366/366\u001b[0m \u001b[32m━━━━━━━━━━━━━━━━━━━━\u001b[0m\u001b[37m\u001b[0m \u001b[1m0s\u001b[0m 1ms/step - accuracy: 0.7500 - loss: 0.4930 - val_accuracy: 0.7404 - val_loss: 0.5803\n",
      "Epoch 17/100\n",
      "\u001b[1m366/366\u001b[0m \u001b[32m━━━━━━━━━━━━━━━━━━━━\u001b[0m\u001b[37m\u001b[0m \u001b[1m0s\u001b[0m 1ms/step - accuracy: 0.7440 - loss: 0.5024 - val_accuracy: 0.7319 - val_loss: 0.5939\n",
      "Epoch 18/100\n",
      "\u001b[1m366/366\u001b[0m \u001b[32m━━━━━━━━━━━━━━━━━━━━\u001b[0m\u001b[37m\u001b[0m \u001b[1m1s\u001b[0m 1ms/step - accuracy: 0.7512 - loss: 0.4907 - val_accuracy: 0.7377 - val_loss: 0.5918\n",
      "Epoch 19/100\n",
      "\u001b[1m366/366\u001b[0m \u001b[32m━━━━━━━━━━━━━━━━━━━━\u001b[0m\u001b[37m\u001b[0m \u001b[1m0s\u001b[0m 1ms/step - accuracy: 0.7465 - loss: 0.4938 - val_accuracy: 0.7322 - val_loss: 0.5956\n",
      "Epoch 20/100\n",
      "\u001b[1m366/366\u001b[0m \u001b[32m━━━━━━━━━━━━━━━━━━━━\u001b[0m\u001b[37m\u001b[0m \u001b[1m0s\u001b[0m 996us/step - accuracy: 0.7563 - loss: 0.4883 - val_accuracy: 0.7367 - val_loss: 0.5967\n",
      "Epoch 21/100\n",
      "\u001b[1m366/366\u001b[0m \u001b[32m━━━━━━━━━━━━━━━━━━━━\u001b[0m\u001b[37m\u001b[0m \u001b[1m0s\u001b[0m 1ms/step - accuracy: 0.7635 - loss: 0.4795 - val_accuracy: 0.7350 - val_loss: 0.6134\n",
      "Epoch 22/100\n",
      "\u001b[1m366/366\u001b[0m \u001b[32m━━━━━━━━━━━━━━━━━━━━\u001b[0m\u001b[37m\u001b[0m \u001b[1m0s\u001b[0m 1ms/step - accuracy: 0.7546 - loss: 0.4874 - val_accuracy: 0.7319 - val_loss: 0.6279\n",
      "Epoch 23/100\n",
      "\u001b[1m366/366\u001b[0m \u001b[32m━━━━━━━━━━━━━━━━━━━━\u001b[0m\u001b[37m\u001b[0m \u001b[1m0s\u001b[0m 1ms/step - accuracy: 0.7570 - loss: 0.4840 - val_accuracy: 0.7285 - val_loss: 0.6326\n",
      "Epoch 24/100\n",
      "\u001b[1m366/366\u001b[0m \u001b[32m━━━━━━━━━━━━━━━━━━━━\u001b[0m\u001b[37m\u001b[0m \u001b[1m0s\u001b[0m 1ms/step - accuracy: 0.7625 - loss: 0.4701 - val_accuracy: 0.7264 - val_loss: 0.6454\n",
      "\u001b[1m457/457\u001b[0m \u001b[32m━━━━━━━━━━━━━━━━━━━━\u001b[0m\u001b[37m\u001b[0m \u001b[1m0s\u001b[0m 302us/step - accuracy: 0.7362 - loss: 0.5274\n",
      "Test loss: 0.5253838300704956, Test accuracy: 0.739790678024292\n"
     ]
    }
   ],
   "source": [
    "num_samples, num_features = X_scaled.shape\n",
    "num_timesteps = 9\n",
    "# This needs to be adjusted based on your actual sequence length\n",
    "\n",
    "total_elements = X_scaled.size\n",
    "num_features = len(X.columns)  # Assuming this is fixed based on your dataset\n",
    "# Find a suitable number of timesteps that allows reshaping\n",
    "# This is just an illustrative example; in practice, you'd want a meaningful timestep based on your data\n",
    "for ts in range(1, total_elements):\n",
    "    if total_elements % (ts * num_features) == 0:\n",
    "        num_samples = total_elements // (ts * num_features)\n",
    "        print(f\"Possible reshape: ({num_samples}, {ts}, {num_features})\")\n",
    "        break\n",
    "\n",
    "X_scaled_reshaped = X_scaled.reshape((num_samples, ts, num_features))\n",
    "\n",
    "# X_scaled_reshaped = X_scaled.reshape((num_samples, num_timesteps, num_features))\n",
    "\n",
    "model = Sequential([\n",
    "    LSTM(128, input_shape=(num_timesteps, num_features), return_sequences=False),\n",
    "    # dropout=0.3,  # Dropout for input units of the layer (keep as comment)\n",
    "    # recurrent_dropout=0.3,  # Dropout for recurrent units (keep as comment)\n",
    "    # kernel_regularizer=l1_l2(l1=0.01, l2=0.01),  # L1 and L2 regularization on the kernel (keep as comment)\n",
    "    # recurrent_regularizer=l1_l2(l1=0.01, l2=0.01),  # L1 and L2 regularization on the recurrent kernel (keep as comment)\n",
    "    Dropout(0.5),\n",
    "    Dense(64, activation='relu'),\n",
    "    Dense(dummy_y.shape[1], activation='softmax')  # Output layer; using softmax for multi-class classification\n",
    "])\n",
    "\n",
    "\n",
    "\n",
    "\n",
    "# model = Sequential([\n",
    "#     # Adjust the input_shape to match your data's shape: (num_timesteps, num_features)\n",
    "#     LSTM(128, input_shape=(num_timesteps, num_features), return_sequences=False),\n",
    "#     dropout=0.2,  # Dropout for input units of the layer\n",
    "#     recurrent_dropout=0.2,  # Dropout for recurrent units\n",
    "#     kernel_regularizer=l1_l2(l1=0.01, l2=0.01),  # L1 and L2 regularization on the kernel\n",
    "#     recurrent_regularizer=l1_l2(l1=0.01, l2=0.01)),\n",
    "#     Dropout(0.5),\n",
    "#     Dense(64, activation='relu'),\n",
    "#     Dense(dummy_y.shape[1], activation='softmax')  # Output layer; using softmax for multi-class classification\n",
    "# ])\n",
    "\n",
    "model.compile(optimizer='adam', loss='categorical_crossentropy', metrics=['accuracy'])\n",
    "\n",
    "model.summary()\n",
    "\n",
    "# Add early stopping to prevent overfitting\n",
    "early_stopping = EarlyStopping(monitor='val_loss', patience=20, restore_best_weights=True)\n",
    "\n",
    "# Train the model\n",
    "history = model.fit(X_scaled_reshaped, dummy_y, epochs=100, batch_size=32, validation_split=0.2, callbacks=[early_stopping])\n",
    "\n",
    "# Evaluate the model\n",
    "loss, accuracy = model.evaluate(X_scaled_reshaped, dummy_y)\n",
    "print(f'Test loss: {loss}, Test accuracy: {accuracy}')"
   ]
  },
  {
   "cell_type": "code",
   "execution_count": null,
   "id": "137b682f-d7b9-4196-8141-7382a5dbe3bf",
   "metadata": {},
   "outputs": [],
   "source": []
  },
  {
   "cell_type": "code",
   "execution_count": null,
   "id": "996481a0-9b08-443b-aace-7d150308c315",
   "metadata": {},
   "outputs": [],
   "source": []
  }
 ],
 "metadata": {
  "kernelspec": {
   "display_name": "Python 3 (ipykernel)",
   "language": "python",
   "name": "python3"
  },
  "language_info": {
   "codemirror_mode": {
    "name": "ipython",
    "version": 3
   },
   "file_extension": ".py",
   "mimetype": "text/x-python",
   "name": "python",
   "nbconvert_exporter": "python",
   "pygments_lexer": "ipython3",
   "version": "3.10.8"
  }
 },
 "nbformat": 4,
 "nbformat_minor": 5
}
