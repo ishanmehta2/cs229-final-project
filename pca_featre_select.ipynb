{
 "cells": [
  {
   "cell_type": "code",
   "execution_count": 316,
   "metadata": {
    "id": "PsiNrvxnbl4f"
   },
   "outputs": [],
   "source": [
    "import os\n",
    "from sklearn.preprocessing import OneHotEncoder\n",
    "import numpy as np\n",
    "import pandas as pd\n",
    "import matplotlib.pyplot as plt\n",
    "from sklearn.decomposition import PCA\n",
    "from sklearn.model_selection import train_test_split\n",
    "from sklearn.linear_model import LogisticRegression\n",
    "from sklearn.preprocessing import StandardScaler\n",
    "from sklearn.metrics import accuracy_score\n",
    "from sklearn.datasets import make_classification\n",
    "from sklearn.neural_network import MLPClassifier\n",
    "from sklearn.metrics import classification_report\n",
    "from sklearn.metrics import confusion_matrix\n",
    "import seaborn as sns\n",
    "import torch\n",
    "import torch.nn as nn"
   ]
  },
  {
   "cell_type": "code",
   "execution_count": 317,
   "metadata": {
    "id": "xeNcVLUMb1sl"
   },
   "outputs": [],
   "source": [
    "big_data = pd.read_csv('/Users/ohmpatel/Desktop/big_data.csv')"
   ]
  },
  {
   "cell_type": "code",
   "execution_count": 318,
   "metadata": {
    "id": "VrY0S5--em2d"
   },
   "outputs": [],
   "source": [
    "big_data = big_data.drop(['Unnamed: 0', 'game_id', 'game_date'], axis = 1)"
   ]
  },
  {
   "cell_type": "code",
   "execution_count": 323,
   "metadata": {},
   "outputs": [
    {
     "name": "stdout",
     "output_type": "stream",
     "text": [
      "0\n",
      "2000\n",
      "4000\n",
      "6000\n",
      "8000\n",
      "10000\n",
      "12000\n",
      "14000\n",
      "16000\n",
      "18000\n",
      "20000\n",
      "22000\n",
      "24000\n",
      "26000\n",
      "30000\n",
      "32000\n",
      "34000\n",
      "36000\n",
      "38000\n",
      "40000\n",
      "42000\n",
      "44000\n",
      "48000\n",
      "50000\n",
      "52000\n",
      "54000\n",
      "58000\n",
      "60000\n",
      "62000\n",
      "64000\n",
      "66000\n",
      "68000\n",
      "70000\n",
      "72000\n",
      "74000\n",
      "76000\n",
      "78000\n",
      "80000\n",
      "82000\n",
      "84000\n",
      "86000\n",
      "88000\n",
      "90000\n",
      "92000\n",
      "94000\n",
      "96000\n",
      "98000\n",
      "100000\n",
      "102000\n",
      "104000\n",
      "108000\n",
      "110000\n",
      "112000\n",
      "114000\n",
      "116000\n",
      "118000\n",
      "120000\n",
      "122000\n",
      "124000\n",
      "126000\n",
      "128000\n",
      "130000\n",
      "132000\n",
      "134000\n",
      "136000\n",
      "138000\n",
      "140000\n",
      "142000\n",
      "144000\n",
      "146000\n",
      "148000\n",
      "150000\n",
      "152000\n",
      "154000\n",
      "156000\n",
      "158000\n",
      "160000\n",
      "162000\n",
      "164000\n",
      "166000\n",
      "168000\n",
      "170000\n",
      "172000\n",
      "174000\n",
      "176000\n",
      "178000\n",
      "180000\n",
      "182000\n",
      "184000\n",
      "186000\n",
      "188000\n",
      "190000\n",
      "192000\n",
      "194000\n",
      "196000\n",
      "198000\n",
      "200000\n",
      "202000\n",
      "204000\n",
      "206000\n",
      "208000\n",
      "210000\n",
      "212000\n",
      "214000\n",
      "216000\n",
      "218000\n",
      "220000\n",
      "222000\n",
      "224000\n",
      "226000\n",
      "228000\n",
      "230000\n",
      "232000\n",
      "234000\n",
      "236000\n",
      "238000\n"
     ]
    }
   ],
   "source": [
    "bad_rows = []\n",
    "for idx, row in big_data.iterrows():\n",
    "    if idx % 2000 == 0: print(idx)\n",
    "    if str(row['run_location']) == \"nan\" and str(row['pass_location']) == \"nan\":\n",
    "        bad_rows.append(idx)\n",
    "big_data.drop(bad_rows, inplace=True)"
   ]
  },
  {
   "cell_type": "code",
   "execution_count": 324,
   "metadata": {},
   "outputs": [
    {
     "data": {
      "text/plain": [
       "(228927, 26)"
      ]
     },
     "execution_count": 324,
     "metadata": {},
     "output_type": "execute_result"
    }
   ],
   "source": [
    "big_data.shape"
   ]
  },
  {
   "cell_type": "code",
   "execution_count": 325,
   "metadata": {},
   "outputs": [],
   "source": [
    "# cut down number of defense packages\n",
    "dp_freq = dict(big_data['defense_personnel'].value_counts())\n",
    "dp_freq[np.NaN] = 0\n",
    "defense_package = []\n",
    "for idx, row in big_data.iterrows():\n",
    "    if dp_freq[row['defense_personnel']] < 450 or row['defense_personnel'] == np.NaN:\n",
    "        defense_package.append(np.NaN)\n",
    "    else:\n",
    "        defense_package.append(row['defense_personnel'])\n",
    "big_data = big_data.drop(['defense_personnel'],axis=1)\n",
    "big_data['defense_personnel'] = defense_package\n",
    "\n",
    "# cut down number of offense packages\n",
    "op_freq = dict(big_data['offense_personnel'].value_counts())\n",
    "op_freq[np.NaN] = 0\n",
    "offense_package = []\n",
    "for idx, row in big_data.iterrows():\n",
    "    if op_freq[row['offense_personnel']] < 450 or row['offense_personnel'] == np.NaN:\n",
    "        offense_package.append(np.NaN)\n",
    "    else:\n",
    "        offense_package.append(row['offense_personnel'])\n",
    "big_data = big_data.drop(['offense_personnel'],axis=1)\n",
    "big_data['offense_personnel'] = offense_package"
   ]
  },
  {
   "cell_type": "code",
   "execution_count": 326,
   "metadata": {
    "id": "z7y8rYNKemy0"
   },
   "outputs": [],
   "source": [
    "outcome_run_pass = []\n",
    "outcome_buckets = []\n",
    "for idx, row in big_data.iterrows():\n",
    "    if row['play_type'] == 'pass':\n",
    "        outcome_run_pass.append('pass')\n",
    "        outcome_buckets.append('pass + ' + str(row['pass_location']))\n",
    "    elif row['play_type'] == 'run':\n",
    "        outcome_run_pass.append('run')\n",
    "        outcome_buckets.append('run + ' + str(row['run_location']))"
   ]
  },
  {
   "cell_type": "code",
   "execution_count": 327,
   "metadata": {
    "colab": {
     "base_uri": "https://localhost:8080/"
    },
    "id": "mM7chhTgemup",
    "outputId": "a9842451-9326-4e62-b70b-18b79e372501"
   },
   "outputs": [
    {
     "data": {
      "text/plain": [
       "228927"
      ]
     },
     "execution_count": 327,
     "metadata": {},
     "output_type": "execute_result"
    }
   ],
   "source": [
    "len(outcome_run_pass)"
   ]
  },
  {
   "cell_type": "code",
   "execution_count": 328,
   "metadata": {
    "id": "7FrhxOeAemof"
   },
   "outputs": [],
   "source": [
    "X = big_data.drop(['play_sequence_num','pass_length', 'home_team', 'away_team', 'pass_location', 'run_location', 'play_type', 'surface'], axis=1)"
   ]
  },
  {
   "cell_type": "code",
   "execution_count": 329,
   "metadata": {},
   "outputs": [
    {
     "data": {
      "text/html": [
       "<div>\n",
       "<style scoped>\n",
       "    .dataframe tbody tr th:only-of-type {\n",
       "        vertical-align: middle;\n",
       "    }\n",
       "\n",
       "    .dataframe tbody tr th {\n",
       "        vertical-align: top;\n",
       "    }\n",
       "\n",
       "    .dataframe thead th {\n",
       "        text-align: right;\n",
       "    }\n",
       "</style>\n",
       "<table border=\"1\" class=\"dataframe\">\n",
       "  <thead>\n",
       "    <tr style=\"text-align: right;\">\n",
       "      <th></th>\n",
       "      <th>yardline_100</th>\n",
       "      <th>game_seconds_remaining</th>\n",
       "      <th>down</th>\n",
       "      <th>ydstogo</th>\n",
       "      <th>no_huddle</th>\n",
       "      <th>shotgun</th>\n",
       "      <th>posteam_timeouts_remaining</th>\n",
       "      <th>defteam_timeouts_remaining</th>\n",
       "      <th>score_differential</th>\n",
       "      <th>roof</th>\n",
       "      <th>offense_formation</th>\n",
       "      <th>defenders_in_box</th>\n",
       "      <th>feelslike</th>\n",
       "      <th>humidity</th>\n",
       "      <th>conditions</th>\n",
       "      <th>windspeed</th>\n",
       "      <th>defense_personnel</th>\n",
       "      <th>offense_personnel</th>\n",
       "    </tr>\n",
       "  </thead>\n",
       "  <tbody>\n",
       "    <tr>\n",
       "      <th>0</th>\n",
       "      <td>86.0</td>\n",
       "      <td>3597.0</td>\n",
       "      <td>1.0</td>\n",
       "      <td>10.0</td>\n",
       "      <td>0.0</td>\n",
       "      <td>0.0</td>\n",
       "      <td>3.0</td>\n",
       "      <td>3.0</td>\n",
       "      <td>0.0</td>\n",
       "      <td>outdoors</td>\n",
       "      <td>I_FORM</td>\n",
       "      <td>8.0</td>\n",
       "      <td>79.0</td>\n",
       "      <td>61.1</td>\n",
       "      <td>Partially cloudy</td>\n",
       "      <td>12.0</td>\n",
       "      <td>4 DL, 3 LB, 4 DB</td>\n",
       "      <td>2 RB, 1 TE, 2 WR</td>\n",
       "    </tr>\n",
       "    <tr>\n",
       "      <th>1</th>\n",
       "      <td>80.0</td>\n",
       "      <td>3572.0</td>\n",
       "      <td>2.0</td>\n",
       "      <td>4.0</td>\n",
       "      <td>1.0</td>\n",
       "      <td>1.0</td>\n",
       "      <td>3.0</td>\n",
       "      <td>3.0</td>\n",
       "      <td>0.0</td>\n",
       "      <td>outdoors</td>\n",
       "      <td>SHOTGUN</td>\n",
       "      <td>6.0</td>\n",
       "      <td>79.0</td>\n",
       "      <td>61.1</td>\n",
       "      <td>Partially cloudy</td>\n",
       "      <td>12.0</td>\n",
       "      <td>4 DL, 3 LB, 4 DB</td>\n",
       "      <td>2 RB, 1 TE, 2 WR</td>\n",
       "    </tr>\n",
       "    <tr>\n",
       "      <th>2</th>\n",
       "      <td>75.0</td>\n",
       "      <td>3541.0</td>\n",
       "      <td>1.0</td>\n",
       "      <td>10.0</td>\n",
       "      <td>1.0</td>\n",
       "      <td>1.0</td>\n",
       "      <td>3.0</td>\n",
       "      <td>3.0</td>\n",
       "      <td>0.0</td>\n",
       "      <td>outdoors</td>\n",
       "      <td>SHOTGUN</td>\n",
       "      <td>7.0</td>\n",
       "      <td>79.0</td>\n",
       "      <td>61.1</td>\n",
       "      <td>Partially cloudy</td>\n",
       "      <td>12.0</td>\n",
       "      <td>4 DL, 3 LB, 4 DB</td>\n",
       "      <td>2 RB, 1 TE, 2 WR</td>\n",
       "    </tr>\n",
       "    <tr>\n",
       "      <th>3</th>\n",
       "      <td>75.0</td>\n",
       "      <td>3515.0</td>\n",
       "      <td>2.0</td>\n",
       "      <td>10.0</td>\n",
       "      <td>1.0</td>\n",
       "      <td>0.0</td>\n",
       "      <td>3.0</td>\n",
       "      <td>3.0</td>\n",
       "      <td>0.0</td>\n",
       "      <td>outdoors</td>\n",
       "      <td>I_FORM</td>\n",
       "      <td>7.0</td>\n",
       "      <td>79.0</td>\n",
       "      <td>61.1</td>\n",
       "      <td>Partially cloudy</td>\n",
       "      <td>12.0</td>\n",
       "      <td>4 DL, 3 LB, 4 DB</td>\n",
       "      <td>2 RB, 1 TE, 2 WR</td>\n",
       "    </tr>\n",
       "    <tr>\n",
       "      <th>4</th>\n",
       "      <td>66.0</td>\n",
       "      <td>3474.0</td>\n",
       "      <td>3.0</td>\n",
       "      <td>1.0</td>\n",
       "      <td>1.0</td>\n",
       "      <td>0.0</td>\n",
       "      <td>3.0</td>\n",
       "      <td>3.0</td>\n",
       "      <td>0.0</td>\n",
       "      <td>outdoors</td>\n",
       "      <td>I_FORM</td>\n",
       "      <td>8.0</td>\n",
       "      <td>79.0</td>\n",
       "      <td>61.1</td>\n",
       "      <td>Partially cloudy</td>\n",
       "      <td>12.0</td>\n",
       "      <td>4 DL, 3 LB, 4 DB</td>\n",
       "      <td>1 RB, 2 TE, 2 WR</td>\n",
       "    </tr>\n",
       "  </tbody>\n",
       "</table>\n",
       "</div>"
      ],
      "text/plain": [
       "   yardline_100  game_seconds_remaining  down  ydstogo  no_huddle  shotgun  \\\n",
       "0          86.0                  3597.0   1.0     10.0        0.0      0.0   \n",
       "1          80.0                  3572.0   2.0      4.0        1.0      1.0   \n",
       "2          75.0                  3541.0   1.0     10.0        1.0      1.0   \n",
       "3          75.0                  3515.0   2.0     10.0        1.0      0.0   \n",
       "4          66.0                  3474.0   3.0      1.0        1.0      0.0   \n",
       "\n",
       "   posteam_timeouts_remaining  defteam_timeouts_remaining  score_differential  \\\n",
       "0                         3.0                         3.0                 0.0   \n",
       "1                         3.0                         3.0                 0.0   \n",
       "2                         3.0                         3.0                 0.0   \n",
       "3                         3.0                         3.0                 0.0   \n",
       "4                         3.0                         3.0                 0.0   \n",
       "\n",
       "       roof offense_formation  defenders_in_box  feelslike  humidity  \\\n",
       "0  outdoors            I_FORM               8.0       79.0      61.1   \n",
       "1  outdoors           SHOTGUN               6.0       79.0      61.1   \n",
       "2  outdoors           SHOTGUN               7.0       79.0      61.1   \n",
       "3  outdoors            I_FORM               7.0       79.0      61.1   \n",
       "4  outdoors            I_FORM               8.0       79.0      61.1   \n",
       "\n",
       "         conditions  windspeed defense_personnel offense_personnel  \n",
       "0  Partially cloudy       12.0  4 DL, 3 LB, 4 DB  2 RB, 1 TE, 2 WR  \n",
       "1  Partially cloudy       12.0  4 DL, 3 LB, 4 DB  2 RB, 1 TE, 2 WR  \n",
       "2  Partially cloudy       12.0  4 DL, 3 LB, 4 DB  2 RB, 1 TE, 2 WR  \n",
       "3  Partially cloudy       12.0  4 DL, 3 LB, 4 DB  2 RB, 1 TE, 2 WR  \n",
       "4  Partially cloudy       12.0  4 DL, 3 LB, 4 DB  1 RB, 2 TE, 2 WR  "
      ]
     },
     "execution_count": 329,
     "metadata": {},
     "output_type": "execute_result"
    }
   ],
   "source": [
    "X.head()"
   ]
  },
  {
   "cell_type": "code",
   "execution_count": 330,
   "metadata": {
    "id": "lXn3WRgOb6VL",
    "scrolled": true
   },
   "outputs": [],
   "source": [
    "X.fillna(0, inplace=True)"
   ]
  },
  {
   "cell_type": "code",
   "execution_count": 332,
   "metadata": {},
   "outputs": [],
   "source": [
    "X = pd.get_dummies(X)\n",
    "scaler = StandardScaler()\n",
    "X_scaled = scaler.fit_transform(X)\n",
    "\n",
    "pca = PCA(n_components=0.75)\n",
    "X_pca = pca.fit_transform(X_scaled)\n",
    "explained_variance_ratio = pca.explained_variance_ratio_\n",
    "cumulative_explained_variance = np.cumsum(explained_variance_ratio)"
   ]
  },
  {
   "cell_type": "code",
   "execution_count": 333,
   "metadata": {},
   "outputs": [
    {
     "data": {
      "text/plain": [
       "(228927, 42)"
      ]
     },
     "execution_count": 333,
     "metadata": {},
     "output_type": "execute_result"
    }
   ],
   "source": [
    "X_pca.shape"
   ]
  },
  {
   "cell_type": "code",
   "execution_count": 334,
   "metadata": {},
   "outputs": [
    {
     "data": {
      "text/plain": [
       "Index(['yardline_100', 'game_seconds_remaining', 'down', 'ydstogo',\n",
       "       'no_huddle', 'shotgun', 'posteam_timeouts_remaining',\n",
       "       'defteam_timeouts_remaining', 'score_differential', 'defenders_in_box',\n",
       "       'feelslike', 'humidity', 'windspeed', 'roof_closed', 'roof_dome',\n",
       "       'roof_open', 'roof_outdoors', 'offense_formation_0',\n",
       "       'offense_formation_EMPTY', 'offense_formation_I_FORM',\n",
       "       'offense_formation_JUMBO', 'offense_formation_PISTOL',\n",
       "       'offense_formation_SHOTGUN', 'offense_formation_SINGLEBACK',\n",
       "       'offense_formation_WILDCAT', 'conditions_Clear', 'conditions_Overcast',\n",
       "       'conditions_Partially cloudy', 'conditions_Rain',\n",
       "       'conditions_Rain, Overcast', 'conditions_Rain, Partially cloudy',\n",
       "       'conditions_Snow', 'conditions_Snow, Overcast',\n",
       "       'conditions_Snow, Partially cloudy',\n",
       "       'conditions_Snow, Rain, Freezing Drizzle/Freezing Rain, Overcast',\n",
       "       'conditions_Snow, Rain, Overcast',\n",
       "       'conditions_Snow, Rain, Partially cloudy', 'defense_personnel_0',\n",
       "       'defense_personnel_1 DL, 3 LB, 7 DB',\n",
       "       'defense_personnel_1 DL, 4 LB, 6 DB',\n",
       "       'defense_personnel_1 DL, 5 LB, 5 DB',\n",
       "       'defense_personnel_2 DL, 2 LB, 7 DB',\n",
       "       'defense_personnel_2 DL, 3 LB, 6 DB',\n",
       "       'defense_personnel_2 DL, 4 LB, 5 DB',\n",
       "       'defense_personnel_2 DL, 5 LB, 4 DB',\n",
       "       'defense_personnel_3 DL, 1 LB, 7 DB',\n",
       "       'defense_personnel_3 DL, 2 LB, 6 DB',\n",
       "       'defense_personnel_3 DL, 3 LB, 5 DB',\n",
       "       'defense_personnel_3 DL, 4 LB, 4 DB',\n",
       "       'defense_personnel_4 DL, 1 LB, 6 DB',\n",
       "       'defense_personnel_4 DL, 2 LB, 5 DB',\n",
       "       'defense_personnel_4 DL, 3 LB, 4 DB',\n",
       "       'defense_personnel_4 DL, 4 LB, 3 DB',\n",
       "       'defense_personnel_5 DL, 1 LB, 5 DB',\n",
       "       'defense_personnel_5 DL, 2 LB, 4 DB',\n",
       "       'defense_personnel_5 DL, 3 LB, 3 DB', 'offense_personnel_0',\n",
       "       'offense_personnel_0 RB, 1 TE, 4 WR',\n",
       "       'offense_personnel_0 RB, 2 TE, 3 WR',\n",
       "       'offense_personnel_1 RB, 0 TE, 4 WR',\n",
       "       'offense_personnel_1 RB, 1 TE, 3 WR',\n",
       "       'offense_personnel_1 RB, 2 TE, 2 WR',\n",
       "       'offense_personnel_1 RB, 3 TE, 1 WR',\n",
       "       'offense_personnel_2 QB, 1 RB, 1 TE, 2 WR',\n",
       "       'offense_personnel_2 RB, 0 TE, 3 WR',\n",
       "       'offense_personnel_2 RB, 1 TE, 2 WR',\n",
       "       'offense_personnel_2 RB, 2 TE, 1 WR',\n",
       "       'offense_personnel_6 OL, 1 RB, 0 TE, 3 WR',\n",
       "       'offense_personnel_6 OL, 1 RB, 1 TE, 2 WR',\n",
       "       'offense_personnel_6 OL, 1 RB, 2 TE, 1 WR',\n",
       "       'offense_personnel_6 OL, 2 RB, 1 TE, 1 WR',\n",
       "       'offense_personnel_6 OL, 2 RB, 2 TE, 0 WR'],\n",
       "      dtype='object')"
      ]
     },
     "execution_count": 334,
     "metadata": {},
     "output_type": "execute_result"
    }
   ],
   "source": [
    "X.columns"
   ]
  },
  {
   "cell_type": "code",
   "execution_count": 335,
   "metadata": {},
   "outputs": [
    {
     "data": {
      "text/plain": [
       "(228927, 72)"
      ]
     },
     "execution_count": 335,
     "metadata": {},
     "output_type": "execute_result"
    }
   ],
   "source": [
    "X.shape"
   ]
  },
  {
   "cell_type": "code",
   "execution_count": 336,
   "metadata": {},
   "outputs": [
    {
     "data": {
      "image/png": "[encoded data removed]",
      "text/plain": [
       "<Figure size 1200x600 with 2 Axes>"
      ]
     },
     "metadata": {},
     "output_type": "display_data"
    }
   ],
   "source": [
    "# Plotting the explained variance ratio\n",
    "explained_variance_ratio = pca.explained_variance_ratio_\n",
    "cumulative_explained_variance = np.cumsum(explained_variance_ratio)\n",
    "\n",
    "# Increase fontsize and bold text\n",
    "plt.figure(figsize=(12, 6))\n",
    "\n",
    "# Plot the explained variance ratio\n",
    "plt.subplot(1, 2, 1)\n",
    "plt.bar(range(1, len(explained_variance_ratio) + 1), explained_variance_ratio)\n",
    "plt.title('Explained Variance Ratio', fontsize=16, fontweight='bold')\n",
    "plt.xlabel('Principal Component', fontsize=14)\n",
    "plt.ylabel('Variance Ratio', fontsize=14)\n",
    "\n",
    "# Plot the cumulative explained variance\n",
    "plt.subplot(1, 2, 2)\n",
    "plt.plot(range(1, len(cumulative_explained_variance) + 1), cumulative_explained_variance, marker='o')\n",
    "plt.title('Cumulative Explained Variance', fontsize=16, fontweight='bold')\n",
    "plt.xlabel('Number of Principal Components', fontsize=14)\n",
    "plt.ylabel('Cumulative Variance Ratio', fontsize=14)\n",
    "\n",
    "plt.tight_layout()\n",
    "plt.show()"
   ]
  },
  {
   "cell_type": "code",
   "execution_count": 337,
   "metadata": {},
   "outputs": [],
   "source": [
    "loadings = pca.components_\n",
    "\n",
    "# Creating a DataFrame for better visualization\n",
    "# Assuming df.columns gives the original feature names\n",
    "loadings_df = pd.DataFrame(data=loadings, columns=X.columns, index=[f'PC{i}' for i in range(loadings.shape[0])])"
   ]
  },
  {
   "cell_type": "code",
   "execution_count": 338,
   "metadata": {},
   "outputs": [],
   "source": [
    "feature_importances = np.sum(loadings**2, axis=0)\n",
    "feature_ranking = np.argsort(feature_importances)[::-1]"
   ]
  },
  {
   "cell_type": "code",
   "execution_count": 339,
   "metadata": {},
   "outputs": [
    {
     "data": {
      "text/plain": [
       "array([45, 34, 68, 39, 67, 49, 62, 36, 47, 32, 29, 53, 42, 26, 24, 43, 40,\n",
       "       46, 64, 69, 41, 30, 35, 50, 27, 58, 54, 63, 13, 48, 66, 33, 70, 61,\n",
       "       21, 14, 51, 44, 28, 25, 15, 57, 16, 38, 12, 52, 18, 65, 59,  3,  4,\n",
       "       31, 11,  2, 10, 19, 23,  8, 22, 71, 60, 17, 20, 55,  5,  0,  6,  7,\n",
       "        1, 56, 37,  9])"
      ]
     },
     "execution_count": 339,
     "metadata": {},
     "output_type": "execute_result"
    }
   ],
   "source": [
    "feature_ranking"
   ]
  },
  {
   "cell_type": "code",
   "execution_count": 340,
   "metadata": {},
   "outputs": [
    {
     "data": {
      "text/plain": [
       "array([0.32816791, 0.31937028, 0.44634241, 0.49615442, 0.47893914,\n",
       "       0.33438854, 0.32782006, 0.32616728, 0.40405903, 0.27314476,\n",
       "       0.44120735, 0.46121934, 0.53611948, 0.64207195, 0.59071598,\n",
       "       0.54413807, 0.53831688, 0.367387  , 0.52227627, 0.41234771,\n",
       "       0.35977454, 0.60817055, 0.40059686, 0.41216938, 0.75433994,\n",
       "       0.55212166, 0.75850163, 0.65949412, 0.56471531, 0.78044435,\n",
       "       0.67790893, 0.46943027, 0.7830974 , 0.62771184, 0.88503124,\n",
       "       0.67333943, 0.79423591, 0.31070397, 0.53684135, 0.85053711,\n",
       "       0.75179574, 0.69771332, 0.77039509, 0.75364748, 0.58143685,\n",
       "       0.88813226, 0.73305558, 0.7937506 , 0.63562931, 0.81436764,\n",
       "       0.6702165 , 0.58879812, 0.52521502, 0.77088417, 0.65545473,\n",
       "       0.34077286, 0.31760071, 0.54120418, 0.65655656, 0.5094084 ,\n",
       "       0.37258983, 0.61163029, 0.80126288, 0.65455073, 0.72839332,\n",
       "       0.51650908, 0.63253971, 0.83820325, 0.88478506, 0.70894169,\n",
       "       0.61524851, 0.38979088])"
      ]
     },
     "execution_count": 340,
     "metadata": {},
     "output_type": "execute_result"
    }
   ],
   "source": [
    "feature_importances"
   ]
  },
  {
   "cell_type": "code",
   "execution_count": 341,
   "metadata": {},
   "outputs": [],
   "source": [
    "list(X.columns)[34]\n",
    "features = []\n",
    "for feature_idx in feature_ranking:\n",
    "    features.append(list(X.columns)[feature_idx])"
   ]
  },
  {
   "cell_type": "code",
   "execution_count": 342,
   "metadata": {},
   "outputs": [
    {
     "data": {
      "text/plain": [
       "['defense_personnel_3 DL, 1 LB, 7 DB',\n",
       " 'conditions_Snow, Rain, Freezing Drizzle/Freezing Rain, Overcast',\n",
       " 'offense_personnel_6 OL, 1 RB, 1 TE, 2 WR',\n",
       " 'defense_personnel_1 DL, 4 LB, 6 DB',\n",
       " 'offense_personnel_6 OL, 1 RB, 0 TE, 3 WR',\n",
       " 'defense_personnel_4 DL, 1 LB, 6 DB',\n",
       " 'offense_personnel_1 RB, 3 TE, 1 WR',\n",
       " 'conditions_Snow, Rain, Partially cloudy',\n",
       " 'defense_personnel_3 DL, 3 LB, 5 DB',\n",
       " 'conditions_Snow, Overcast',\n",
       " 'conditions_Rain, Overcast',\n",
       " 'defense_personnel_5 DL, 1 LB, 5 DB',\n",
       " 'defense_personnel_2 DL, 3 LB, 6 DB',\n",
       " 'conditions_Overcast',\n",
       " 'offense_formation_WILDCAT',\n",
       " 'defense_personnel_2 DL, 4 LB, 5 DB',\n",
       " 'defense_personnel_1 DL, 5 LB, 5 DB',\n",
       " 'defense_personnel_3 DL, 2 LB, 6 DB',\n",
       " 'offense_personnel_2 RB, 0 TE, 3 WR',\n",
       " 'offense_personnel_6 OL, 1 RB, 2 TE, 1 WR',\n",
       " 'defense_personnel_2 DL, 2 LB, 7 DB',\n",
       " 'conditions_Rain, Partially cloudy',\n",
       " 'conditions_Snow, Rain, Overcast',\n",
       " 'defense_personnel_4 DL, 2 LB, 5 DB',\n",
       " 'conditions_Partially cloudy',\n",
       " 'offense_personnel_0 RB, 2 TE, 3 WR',\n",
       " 'defense_personnel_5 DL, 2 LB, 4 DB',\n",
       " 'offense_personnel_2 QB, 1 RB, 1 TE, 2 WR',\n",
       " 'roof_closed',\n",
       " 'defense_personnel_3 DL, 4 LB, 4 DB',\n",
       " 'offense_personnel_2 RB, 2 TE, 1 WR',\n",
       " 'conditions_Snow, Partially cloudy',\n",
       " 'offense_personnel_6 OL, 2 RB, 1 TE, 1 WR',\n",
       " 'offense_personnel_1 RB, 2 TE, 2 WR',\n",
       " 'offense_formation_PISTOL',\n",
       " 'roof_dome',\n",
       " 'defense_personnel_4 DL, 3 LB, 4 DB',\n",
       " 'defense_personnel_2 DL, 5 LB, 4 DB',\n",
       " 'conditions_Rain',\n",
       " 'conditions_Clear',\n",
       " 'roof_open',\n",
       " 'offense_personnel_0 RB, 1 TE, 4 WR',\n",
       " 'roof_outdoors',\n",
       " 'defense_personnel_1 DL, 3 LB, 7 DB',\n",
       " 'windspeed',\n",
       " 'defense_personnel_4 DL, 4 LB, 3 DB',\n",
       " 'offense_formation_EMPTY',\n",
       " 'offense_personnel_2 RB, 1 TE, 2 WR',\n",
       " 'offense_personnel_1 RB, 0 TE, 4 WR',\n",
       " 'ydstogo',\n",
       " 'no_huddle',\n",
       " 'conditions_Snow',\n",
       " 'humidity',\n",
       " 'down',\n",
       " 'feelslike',\n",
       " 'offense_formation_I_FORM',\n",
       " 'offense_formation_SINGLEBACK',\n",
       " 'score_differential',\n",
       " 'offense_formation_SHOTGUN',\n",
       " 'offense_personnel_6 OL, 2 RB, 2 TE, 0 WR',\n",
       " 'offense_personnel_1 RB, 1 TE, 3 WR',\n",
       " 'offense_formation_0',\n",
       " 'offense_formation_JUMBO',\n",
       " 'defense_personnel_5 DL, 3 LB, 3 DB',\n",
       " 'shotgun',\n",
       " 'yardline_100',\n",
       " 'posteam_timeouts_remaining',\n",
       " 'defteam_timeouts_remaining',\n",
       " 'game_seconds_remaining',\n",
       " 'offense_personnel_0',\n",
       " 'defense_personnel_0',\n",
       " 'defenders_in_box']"
      ]
     },
     "execution_count": 342,
     "metadata": {},
     "output_type": "execute_result"
    }
   ],
   "source": [
    "features"
   ]
  },
  {
   "cell_type": "code",
   "execution_count": 343,
   "metadata": {},
   "outputs": [],
   "source": [
    "data = pd.DataFrame()\n",
    "for feature in feature_ranking[:60]:\n",
    "    data[feature] = X_scaled[:,feature]"
   ]
  },
  {
   "cell_type": "code",
   "execution_count": 344,
   "metadata": {},
   "outputs": [
    {
     "data": {
      "text/plain": [
       "(228927, 60)"
      ]
     },
     "execution_count": 344,
     "metadata": {},
     "output_type": "execute_result"
    }
   ],
   "source": [
    "data.shape"
   ]
  },
  {
   "cell_type": "code",
   "execution_count": 345,
   "metadata": {},
   "outputs": [
    {
     "data": {
      "text/html": [
       "<div>\n",
       "<style scoped>\n",
       "    .dataframe tbody tr th:only-of-type {\n",
       "        vertical-align: middle;\n",
       "    }\n",
       "\n",
       "    .dataframe tbody tr th {\n",
       "        vertical-align: top;\n",
       "    }\n",
       "\n",
       "    .dataframe thead th {\n",
       "        text-align: right;\n",
       "    }\n",
       "</style>\n",
       "<table border=\"1\" class=\"dataframe\">\n",
       "  <thead>\n",
       "    <tr style=\"text-align: right;\">\n",
       "      <th></th>\n",
       "      <th>45</th>\n",
       "      <th>34</th>\n",
       "      <th>68</th>\n",
       "      <th>39</th>\n",
       "      <th>67</th>\n",
       "      <th>49</th>\n",
       "      <th>62</th>\n",
       "      <th>36</th>\n",
       "      <th>47</th>\n",
       "      <th>32</th>\n",
       "      <th>...</th>\n",
       "      <th>4</th>\n",
       "      <th>31</th>\n",
       "      <th>11</th>\n",
       "      <th>2</th>\n",
       "      <th>10</th>\n",
       "      <th>19</th>\n",
       "      <th>23</th>\n",
       "      <th>8</th>\n",
       "      <th>22</th>\n",
       "      <th>71</th>\n",
       "    </tr>\n",
       "  </thead>\n",
       "  <tbody>\n",
       "    <tr>\n",
       "      <th>0</th>\n",
       "      <td>-0.048399</td>\n",
       "      <td>-0.022805</td>\n",
       "      <td>-0.106763</td>\n",
       "      <td>-0.125487</td>\n",
       "      <td>-0.045934</td>\n",
       "      <td>-0.181822</td>\n",
       "      <td>-0.188423</td>\n",
       "      <td>-0.147723</td>\n",
       "      <td>-0.405310</td>\n",
       "      <td>-0.052573</td>\n",
       "      <td>...</td>\n",
       "      <td>-0.323722</td>\n",
       "      <td>-0.023745</td>\n",
       "      <td>-0.362169</td>\n",
       "      <td>-0.955241</td>\n",
       "      <td>1.248978</td>\n",
       "      <td>3.187917</td>\n",
       "      <td>-0.579746</td>\n",
       "      <td>0.146114</td>\n",
       "      <td>-1.048771</td>\n",
       "      <td>-0.058509</td>\n",
       "    </tr>\n",
       "    <tr>\n",
       "      <th>1</th>\n",
       "      <td>-0.048399</td>\n",
       "      <td>-0.022805</td>\n",
       "      <td>-0.106763</td>\n",
       "      <td>-0.125487</td>\n",
       "      <td>-0.045934</td>\n",
       "      <td>-0.181822</td>\n",
       "      <td>-0.188423</td>\n",
       "      <td>-0.147723</td>\n",
       "      <td>-0.405310</td>\n",
       "      <td>-0.052573</td>\n",
       "      <td>...</td>\n",
       "      <td>3.089068</td>\n",
       "      <td>-0.023745</td>\n",
       "      <td>-0.362169</td>\n",
       "      <td>0.263123</td>\n",
       "      <td>1.248978</td>\n",
       "      <td>-0.313684</td>\n",
       "      <td>-0.579746</td>\n",
       "      <td>0.146114</td>\n",
       "      <td>0.953497</td>\n",
       "      <td>-0.058509</td>\n",
       "    </tr>\n",
       "    <tr>\n",
       "      <th>2</th>\n",
       "      <td>-0.048399</td>\n",
       "      <td>-0.022805</td>\n",
       "      <td>-0.106763</td>\n",
       "      <td>-0.125487</td>\n",
       "      <td>-0.045934</td>\n",
       "      <td>-0.181822</td>\n",
       "      <td>-0.188423</td>\n",
       "      <td>-0.147723</td>\n",
       "      <td>-0.405310</td>\n",
       "      <td>-0.052573</td>\n",
       "      <td>...</td>\n",
       "      <td>3.089068</td>\n",
       "      <td>-0.023745</td>\n",
       "      <td>-0.362169</td>\n",
       "      <td>-0.955241</td>\n",
       "      <td>1.248978</td>\n",
       "      <td>-0.313684</td>\n",
       "      <td>-0.579746</td>\n",
       "      <td>0.146114</td>\n",
       "      <td>0.953497</td>\n",
       "      <td>-0.058509</td>\n",
       "    </tr>\n",
       "    <tr>\n",
       "      <th>3</th>\n",
       "      <td>-0.048399</td>\n",
       "      <td>-0.022805</td>\n",
       "      <td>-0.106763</td>\n",
       "      <td>-0.125487</td>\n",
       "      <td>-0.045934</td>\n",
       "      <td>-0.181822</td>\n",
       "      <td>-0.188423</td>\n",
       "      <td>-0.147723</td>\n",
       "      <td>-0.405310</td>\n",
       "      <td>-0.052573</td>\n",
       "      <td>...</td>\n",
       "      <td>3.089068</td>\n",
       "      <td>-0.023745</td>\n",
       "      <td>-0.362169</td>\n",
       "      <td>0.263123</td>\n",
       "      <td>1.248978</td>\n",
       "      <td>3.187917</td>\n",
       "      <td>-0.579746</td>\n",
       "      <td>0.146114</td>\n",
       "      <td>-1.048771</td>\n",
       "      <td>-0.058509</td>\n",
       "    </tr>\n",
       "    <tr>\n",
       "      <th>4</th>\n",
       "      <td>-0.048399</td>\n",
       "      <td>-0.022805</td>\n",
       "      <td>-0.106763</td>\n",
       "      <td>-0.125487</td>\n",
       "      <td>-0.045934</td>\n",
       "      <td>-0.181822</td>\n",
       "      <td>-0.188423</td>\n",
       "      <td>-0.147723</td>\n",
       "      <td>-0.405310</td>\n",
       "      <td>-0.052573</td>\n",
       "      <td>...</td>\n",
       "      <td>3.089068</td>\n",
       "      <td>-0.023745</td>\n",
       "      <td>-0.362169</td>\n",
       "      <td>1.481487</td>\n",
       "      <td>1.248978</td>\n",
       "      <td>3.187917</td>\n",
       "      <td>-0.579746</td>\n",
       "      <td>0.146114</td>\n",
       "      <td>-1.048771</td>\n",
       "      <td>-0.058509</td>\n",
       "    </tr>\n",
       "    <tr>\n",
       "      <th>...</th>\n",
       "      <td>...</td>\n",
       "      <td>...</td>\n",
       "      <td>...</td>\n",
       "      <td>...</td>\n",
       "      <td>...</td>\n",
       "      <td>...</td>\n",
       "      <td>...</td>\n",
       "      <td>...</td>\n",
       "      <td>...</td>\n",
       "      <td>...</td>\n",
       "      <td>...</td>\n",
       "      <td>...</td>\n",
       "      <td>...</td>\n",
       "      <td>...</td>\n",
       "      <td>...</td>\n",
       "      <td>...</td>\n",
       "      <td>...</td>\n",
       "      <td>...</td>\n",
       "      <td>...</td>\n",
       "      <td>...</td>\n",
       "      <td>...</td>\n",
       "    </tr>\n",
       "    <tr>\n",
       "      <th>228922</th>\n",
       "      <td>-0.048399</td>\n",
       "      <td>-0.022805</td>\n",
       "      <td>-0.106763</td>\n",
       "      <td>-0.125487</td>\n",
       "      <td>-0.045934</td>\n",
       "      <td>-0.181822</td>\n",
       "      <td>5.307202</td>\n",
       "      <td>-0.147723</td>\n",
       "      <td>-0.405310</td>\n",
       "      <td>-0.052573</td>\n",
       "      <td>...</td>\n",
       "      <td>-0.323722</td>\n",
       "      <td>-0.023745</td>\n",
       "      <td>-0.362169</td>\n",
       "      <td>-0.955241</td>\n",
       "      <td>-0.813353</td>\n",
       "      <td>-0.313684</td>\n",
       "      <td>-0.579746</td>\n",
       "      <td>-0.044403</td>\n",
       "      <td>0.953497</td>\n",
       "      <td>-0.058509</td>\n",
       "    </tr>\n",
       "    <tr>\n",
       "      <th>228923</th>\n",
       "      <td>-0.048399</td>\n",
       "      <td>-0.022805</td>\n",
       "      <td>-0.106763</td>\n",
       "      <td>-0.125487</td>\n",
       "      <td>-0.045934</td>\n",
       "      <td>-0.181822</td>\n",
       "      <td>5.307202</td>\n",
       "      <td>-0.147723</td>\n",
       "      <td>-0.405310</td>\n",
       "      <td>-0.052573</td>\n",
       "      <td>...</td>\n",
       "      <td>-0.323722</td>\n",
       "      <td>-0.023745</td>\n",
       "      <td>-0.362169</td>\n",
       "      <td>-0.955241</td>\n",
       "      <td>-0.813353</td>\n",
       "      <td>-0.313684</td>\n",
       "      <td>1.724893</td>\n",
       "      <td>-0.044403</td>\n",
       "      <td>-1.048771</td>\n",
       "      <td>-0.058509</td>\n",
       "    </tr>\n",
       "    <tr>\n",
       "      <th>228924</th>\n",
       "      <td>-0.048399</td>\n",
       "      <td>-0.022805</td>\n",
       "      <td>-0.106763</td>\n",
       "      <td>-0.125487</td>\n",
       "      <td>-0.045934</td>\n",
       "      <td>-0.181822</td>\n",
       "      <td>-0.188423</td>\n",
       "      <td>-0.147723</td>\n",
       "      <td>-0.405310</td>\n",
       "      <td>-0.052573</td>\n",
       "      <td>...</td>\n",
       "      <td>-0.323722</td>\n",
       "      <td>-0.023745</td>\n",
       "      <td>-0.362169</td>\n",
       "      <td>0.263123</td>\n",
       "      <td>-0.813353</td>\n",
       "      <td>-0.313684</td>\n",
       "      <td>-0.579746</td>\n",
       "      <td>-0.044403</td>\n",
       "      <td>0.953497</td>\n",
       "      <td>-0.058509</td>\n",
       "    </tr>\n",
       "    <tr>\n",
       "      <th>228925</th>\n",
       "      <td>-0.048399</td>\n",
       "      <td>-0.022805</td>\n",
       "      <td>-0.106763</td>\n",
       "      <td>-0.125487</td>\n",
       "      <td>-0.045934</td>\n",
       "      <td>-0.181822</td>\n",
       "      <td>-0.188423</td>\n",
       "      <td>-0.147723</td>\n",
       "      <td>2.467246</td>\n",
       "      <td>-0.052573</td>\n",
       "      <td>...</td>\n",
       "      <td>-0.323722</td>\n",
       "      <td>-0.023745</td>\n",
       "      <td>-0.362169</td>\n",
       "      <td>-0.955241</td>\n",
       "      <td>-0.813353</td>\n",
       "      <td>-0.313684</td>\n",
       "      <td>-0.579746</td>\n",
       "      <td>-0.044403</td>\n",
       "      <td>0.953497</td>\n",
       "      <td>-0.058509</td>\n",
       "    </tr>\n",
       "    <tr>\n",
       "      <th>228926</th>\n",
       "      <td>-0.048399</td>\n",
       "      <td>-0.022805</td>\n",
       "      <td>-0.106763</td>\n",
       "      <td>-0.125487</td>\n",
       "      <td>-0.045934</td>\n",
       "      <td>-0.181822</td>\n",
       "      <td>-0.188423</td>\n",
       "      <td>-0.147723</td>\n",
       "      <td>-0.405310</td>\n",
       "      <td>-0.052573</td>\n",
       "      <td>...</td>\n",
       "      <td>-0.323722</td>\n",
       "      <td>-0.023745</td>\n",
       "      <td>-0.362169</td>\n",
       "      <td>-0.955241</td>\n",
       "      <td>-0.813353</td>\n",
       "      <td>-0.313684</td>\n",
       "      <td>-0.579746</td>\n",
       "      <td>0.050855</td>\n",
       "      <td>0.953497</td>\n",
       "      <td>-0.058509</td>\n",
       "    </tr>\n",
       "  </tbody>\n",
       "</table>\n",
       "<p>228927 rows × 60 columns</p>\n",
       "</div>"
      ],
      "text/plain": [
       "              45        34        68        39        67        49        62  \\\n",
       "0      -0.048399 -0.022805 -0.106763 -0.125487 -0.045934 -0.181822 -0.188423   \n",
       "1      -0.048399 -0.022805 -0.106763 -0.125487 -0.045934 -0.181822 -0.188423   \n",
       "2      -0.048399 -0.022805 -0.106763 -0.125487 -0.045934 -0.181822 -0.188423   \n",
       "3      -0.048399 -0.022805 -0.106763 -0.125487 -0.045934 -0.181822 -0.188423   \n",
       "4      -0.048399 -0.022805 -0.106763 -0.125487 -0.045934 -0.181822 -0.188423   \n",
       "...          ...       ...       ...       ...       ...       ...       ...   \n",
       "228922 -0.048399 -0.022805 -0.106763 -0.125487 -0.045934 -0.181822  5.307202   \n",
       "228923 -0.048399 -0.022805 -0.106763 -0.125487 -0.045934 -0.181822  5.307202   \n",
       "228924 -0.048399 -0.022805 -0.106763 -0.125487 -0.045934 -0.181822 -0.188423   \n",
       "228925 -0.048399 -0.022805 -0.106763 -0.125487 -0.045934 -0.181822 -0.188423   \n",
       "228926 -0.048399 -0.022805 -0.106763 -0.125487 -0.045934 -0.181822 -0.188423   \n",
       "\n",
       "              36        47        32  ...        4         31        11  \\\n",
       "0      -0.147723 -0.405310 -0.052573  ... -0.323722 -0.023745 -0.362169   \n",
       "1      -0.147723 -0.405310 -0.052573  ...  3.089068 -0.023745 -0.362169   \n",
       "2      -0.147723 -0.405310 -0.052573  ...  3.089068 -0.023745 -0.362169   \n",
       "3      -0.147723 -0.405310 -0.052573  ...  3.089068 -0.023745 -0.362169   \n",
       "4      -0.147723 -0.405310 -0.052573  ...  3.089068 -0.023745 -0.362169   \n",
       "...          ...       ...       ...  ...       ...       ...       ...   \n",
       "228922 -0.147723 -0.405310 -0.052573  ... -0.323722 -0.023745 -0.362169   \n",
       "228923 -0.147723 -0.405310 -0.052573  ... -0.323722 -0.023745 -0.362169   \n",
       "228924 -0.147723 -0.405310 -0.052573  ... -0.323722 -0.023745 -0.362169   \n",
       "228925 -0.147723  2.467246 -0.052573  ... -0.323722 -0.023745 -0.362169   \n",
       "228926 -0.147723 -0.405310 -0.052573  ... -0.323722 -0.023745 -0.362169   \n",
       "\n",
       "              2         10        19        23        8         22        71  \n",
       "0      -0.955241  1.248978  3.187917 -0.579746  0.146114 -1.048771 -0.058509  \n",
       "1       0.263123  1.248978 -0.313684 -0.579746  0.146114  0.953497 -0.058509  \n",
       "2      -0.955241  1.248978 -0.313684 -0.579746  0.146114  0.953497 -0.058509  \n",
       "3       0.263123  1.248978  3.187917 -0.579746  0.146114 -1.048771 -0.058509  \n",
       "4       1.481487  1.248978  3.187917 -0.579746  0.146114 -1.048771 -0.058509  \n",
       "...          ...       ...       ...       ...       ...       ...       ...  \n",
       "228922 -0.955241 -0.813353 -0.313684 -0.579746 -0.044403  0.953497 -0.058509  \n",
       "228923 -0.955241 -0.813353 -0.313684  1.724893 -0.044403 -1.048771 -0.058509  \n",
       "228924  0.263123 -0.813353 -0.313684 -0.579746 -0.044403  0.953497 -0.058509  \n",
       "228925 -0.955241 -0.813353 -0.313684 -0.579746 -0.044403  0.953497 -0.058509  \n",
       "228926 -0.955241 -0.813353 -0.313684 -0.579746  0.050855  0.953497 -0.058509  \n",
       "\n",
       "[228927 rows x 60 columns]"
      ]
     },
     "execution_count": 345,
     "metadata": {},
     "output_type": "execute_result"
    }
   ],
   "source": [
    "data"
   ]
  },
  {
   "cell_type": "code",
   "execution_count": 346,
   "metadata": {},
   "outputs": [
    {
     "name": "stdout",
     "output_type": "stream",
     "text": [
      "<class 'pandas.core.frame.DataFrame'>\n",
      "RangeIndex: 228927 entries, 0 to 228926\n",
      "Data columns (total 60 columns):\n",
      " #   Column  Non-Null Count   Dtype  \n",
      "---  ------  --------------   -----  \n",
      " 0   45      228927 non-null  float64\n",
      " 1   34      228927 non-null  float64\n",
      " 2   68      228927 non-null  float64\n",
      " 3   39      228927 non-null  float64\n",
      " 4   67      228927 non-null  float64\n",
      " 5   49      228927 non-null  float64\n",
      " 6   62      228927 non-null  float64\n",
      " 7   36      228927 non-null  float64\n",
      " 8   47      228927 non-null  float64\n",
      " 9   32      228927 non-null  float64\n",
      " 10  29      228927 non-null  float64\n",
      " 11  53      228927 non-null  float64\n",
      " 12  42      228927 non-null  float64\n",
      " 13  26      228927 non-null  float64\n",
      " 14  24      228927 non-null  float64\n",
      " 15  43      228927 non-null  float64\n",
      " 16  40      228927 non-null  float64\n",
      " 17  46      228927 non-null  float64\n",
      " 18  64      228927 non-null  float64\n",
      " 19  69      228927 non-null  float64\n",
      " 20  41      228927 non-null  float64\n",
      " 21  30      228927 non-null  float64\n",
      " 22  35      228927 non-null  float64\n",
      " 23  50      228927 non-null  float64\n",
      " 24  27      228927 non-null  float64\n",
      " 25  58      228927 non-null  float64\n",
      " 26  54      228927 non-null  float64\n",
      " 27  63      228927 non-null  float64\n",
      " 28  13      228927 non-null  float64\n",
      " 29  48      228927 non-null  float64\n",
      " 30  66      228927 non-null  float64\n",
      " 31  33      228927 non-null  float64\n",
      " 32  70      228927 non-null  float64\n",
      " 33  61      228927 non-null  float64\n",
      " 34  21      228927 non-null  float64\n",
      " 35  14      228927 non-null  float64\n",
      " 36  51      228927 non-null  float64\n",
      " 37  44      228927 non-null  float64\n",
      " 38  28      228927 non-null  float64\n",
      " 39  25      228927 non-null  float64\n",
      " 40  15      228927 non-null  float64\n",
      " 41  57      228927 non-null  float64\n",
      " 42  16      228927 non-null  float64\n",
      " 43  38      228927 non-null  float64\n",
      " 44  12      228927 non-null  float64\n",
      " 45  52      228927 non-null  float64\n",
      " 46  18      228927 non-null  float64\n",
      " 47  65      228927 non-null  float64\n",
      " 48  59      228927 non-null  float64\n",
      " 49  3       228927 non-null  float64\n",
      " 50  4       228927 non-null  float64\n",
      " 51  31      228927 non-null  float64\n",
      " 52  11      228927 non-null  float64\n",
      " 53  2       228927 non-null  float64\n",
      " 54  10      228927 non-null  float64\n",
      " 55  19      228927 non-null  float64\n",
      " 56  23      228927 non-null  float64\n",
      " 57  8       228927 non-null  float64\n",
      " 58  22      228927 non-null  float64\n",
      " 59  71      228927 non-null  float64\n",
      "dtypes: float64(60)\n",
      "memory usage: 104.8 MB\n"
     ]
    }
   ],
   "source": [
    "data.info()"
   ]
  },
  {
   "cell_type": "code",
   "execution_count": 347,
   "metadata": {},
   "outputs": [
    {
     "name": "stdout",
     "output_type": "stream",
     "text": [
      "<class 'pandas.core.frame.DataFrame'>\n",
      "Index: 228927 entries, 0 to 239531\n",
      "Data columns (total 72 columns):\n",
      " #   Column                                                           Non-Null Count   Dtype  \n",
      "---  ------                                                           --------------   -----  \n",
      " 0   yardline_100                                                     228927 non-null  float64\n",
      " 1   game_seconds_remaining                                           228927 non-null  float64\n",
      " 2   down                                                             228927 non-null  float64\n",
      " 3   ydstogo                                                          228927 non-null  float64\n",
      " 4   no_huddle                                                        228927 non-null  float64\n",
      " 5   shotgun                                                          228927 non-null  float64\n",
      " 6   posteam_timeouts_remaining                                       228927 non-null  float64\n",
      " 7   defteam_timeouts_remaining                                       228927 non-null  float64\n",
      " 8   score_differential                                               228927 non-null  float64\n",
      " 9   defenders_in_box                                                 228927 non-null  float64\n",
      " 10  feelslike                                                        228927 non-null  float64\n",
      " 11  humidity                                                         228927 non-null  float64\n",
      " 12  windspeed                                                        228927 non-null  float64\n",
      " 13  roof_closed                                                      228927 non-null  bool   \n",
      " 14  roof_dome                                                        228927 non-null  bool   \n",
      " 15  roof_open                                                        228927 non-null  bool   \n",
      " 16  roof_outdoors                                                    228927 non-null  bool   \n",
      " 17  offense_formation_0                                              228927 non-null  bool   \n",
      " 18  offense_formation_EMPTY                                          228927 non-null  bool   \n",
      " 19  offense_formation_I_FORM                                         228927 non-null  bool   \n",
      " 20  offense_formation_JUMBO                                          228927 non-null  bool   \n",
      " 21  offense_formation_PISTOL                                         228927 non-null  bool   \n",
      " 22  offense_formation_SHOTGUN                                        228927 non-null  bool   \n",
      " 23  offense_formation_SINGLEBACK                                     228927 non-null  bool   \n",
      " 24  offense_formation_WILDCAT                                        228927 non-null  bool   \n",
      " 25  conditions_Clear                                                 228927 non-null  bool   \n",
      " 26  conditions_Overcast                                              228927 non-null  bool   \n",
      " 27  conditions_Partially cloudy                                      228927 non-null  bool   \n",
      " 28  conditions_Rain                                                  228927 non-null  bool   \n",
      " 29  conditions_Rain, Overcast                                        228927 non-null  bool   \n",
      " 30  conditions_Rain, Partially cloudy                                228927 non-null  bool   \n",
      " 31  conditions_Snow                                                  228927 non-null  bool   \n",
      " 32  conditions_Snow, Overcast                                        228927 non-null  bool   \n",
      " 33  conditions_Snow, Partially cloudy                                228927 non-null  bool   \n",
      " 34  conditions_Snow, Rain, Freezing Drizzle/Freezing Rain, Overcast  228927 non-null  bool   \n",
      " 35  conditions_Snow, Rain, Overcast                                  228927 non-null  bool   \n",
      " 36  conditions_Snow, Rain, Partially cloudy                          228927 non-null  bool   \n",
      " 37  defense_personnel_0                                              228927 non-null  bool   \n",
      " 38  defense_personnel_1 DL, 3 LB, 7 DB                               228927 non-null  bool   \n",
      " 39  defense_personnel_1 DL, 4 LB, 6 DB                               228927 non-null  bool   \n",
      " 40  defense_personnel_1 DL, 5 LB, 5 DB                               228927 non-null  bool   \n",
      " 41  defense_personnel_2 DL, 2 LB, 7 DB                               228927 non-null  bool   \n",
      " 42  defense_personnel_2 DL, 3 LB, 6 DB                               228927 non-null  bool   \n",
      " 43  defense_personnel_2 DL, 4 LB, 5 DB                               228927 non-null  bool   \n",
      " 44  defense_personnel_2 DL, 5 LB, 4 DB                               228927 non-null  bool   \n",
      " 45  defense_personnel_3 DL, 1 LB, 7 DB                               228927 non-null  bool   \n",
      " 46  defense_personnel_3 DL, 2 LB, 6 DB                               228927 non-null  bool   \n",
      " 47  defense_personnel_3 DL, 3 LB, 5 DB                               228927 non-null  bool   \n",
      " 48  defense_personnel_3 DL, 4 LB, 4 DB                               228927 non-null  bool   \n",
      " 49  defense_personnel_4 DL, 1 LB, 6 DB                               228927 non-null  bool   \n",
      " 50  defense_personnel_4 DL, 2 LB, 5 DB                               228927 non-null  bool   \n",
      " 51  defense_personnel_4 DL, 3 LB, 4 DB                               228927 non-null  bool   \n",
      " 52  defense_personnel_4 DL, 4 LB, 3 DB                               228927 non-null  bool   \n",
      " 53  defense_personnel_5 DL, 1 LB, 5 DB                               228927 non-null  bool   \n",
      " 54  defense_personnel_5 DL, 2 LB, 4 DB                               228927 non-null  bool   \n",
      " 55  defense_personnel_5 DL, 3 LB, 3 DB                               228927 non-null  bool   \n",
      " 56  offense_personnel_0                                              228927 non-null  bool   \n",
      " 57  offense_personnel_0 RB, 1 TE, 4 WR                               228927 non-null  bool   \n",
      " 58  offense_personnel_0 RB, 2 TE, 3 WR                               228927 non-null  bool   \n",
      " 59  offense_personnel_1 RB, 0 TE, 4 WR                               228927 non-null  bool   \n",
      " 60  offense_personnel_1 RB, 1 TE, 3 WR                               228927 non-null  bool   \n",
      " 61  offense_personnel_1 RB, 2 TE, 2 WR                               228927 non-null  bool   \n",
      " 62  offense_personnel_1 RB, 3 TE, 1 WR                               228927 non-null  bool   \n",
      " 63  offense_personnel_2 QB, 1 RB, 1 TE, 2 WR                         228927 non-null  bool   \n",
      " 64  offense_personnel_2 RB, 0 TE, 3 WR                               228927 non-null  bool   \n",
      " 65  offense_personnel_2 RB, 1 TE, 2 WR                               228927 non-null  bool   \n",
      " 66  offense_personnel_2 RB, 2 TE, 1 WR                               228927 non-null  bool   \n",
      " 67  offense_personnel_6 OL, 1 RB, 0 TE, 3 WR                         228927 non-null  bool   \n",
      " 68  offense_personnel_6 OL, 1 RB, 1 TE, 2 WR                         228927 non-null  bool   \n",
      " 69  offense_personnel_6 OL, 1 RB, 2 TE, 1 WR                         228927 non-null  bool   \n",
      " 70  offense_personnel_6 OL, 2 RB, 1 TE, 1 WR                         228927 non-null  bool   \n",
      " 71  offense_personnel_6 OL, 2 RB, 2 TE, 0 WR                         228927 non-null  bool   \n",
      "dtypes: bool(59), float64(13)\n",
      "memory usage: 37.3 MB\n"
     ]
    }
   ],
   "source": [
    "X.info()"
   ]
  },
  {
   "cell_type": "code",
   "execution_count": 348,
   "metadata": {},
   "outputs": [],
   "source": [
    "result_d = {}\n",
    "i = 0\n",
    "for outcome in set(outcome_buckets):\n",
    "  if outcome not in result_d:\n",
    "    result_d[outcome] = i\n",
    "    i+=1"
   ]
  },
  {
   "cell_type": "code",
   "execution_count": 349,
   "metadata": {},
   "outputs": [],
   "source": [
    "y_multi = []\n",
    "for dec in outcome_buckets:\n",
    "    y_multi.append(result_d[dec])"
   ]
  },
  {
   "cell_type": "code",
   "execution_count": 350,
   "metadata": {},
   "outputs": [],
   "source": [
    "X_train_1, X_test_1, y_train_1, y_test_1 = train_test_split(data, outcome_run_pass, test_size=0.2, random_state=3)"
   ]
  },
  {
   "cell_type": "code",
   "execution_count": 351,
   "metadata": {},
   "outputs": [
    {
     "name": "stdout",
     "output_type": "stream",
     "text": [
      "Model Accuracy: 0.72\n"
     ]
    }
   ],
   "source": [
    "model_1 = LogisticRegression(solver='lbfgs', max_iter=10000)\n",
    "model_1.fit(X_train_1, y_train_1)\n",
    "\n",
    "y_pred_1 = model_1.predict(X_test_1)\n",
    "\n",
    "accuracy_1 = accuracy_score(y_test_1, y_pred_1)\n",
    "print(f'Model Accuracy: {accuracy_1:.2f}')"
   ]
  },
  {
   "cell_type": "code",
   "execution_count": 352,
   "metadata": {},
   "outputs": [
    {
     "data": {
      "text/plain": [
       "0.7239767614554667"
      ]
     },
     "execution_count": 352,
     "metadata": {},
     "output_type": "execute_result"
    }
   ],
   "source": [
    "accuracy_1"
   ]
  },
  {
   "cell_type": "code",
   "execution_count": 353,
   "metadata": {},
   "outputs": [],
   "source": [
    "y_val = list(model_1.coef_[0])\n",
    "top_60 = feature_ranking[:60]\n",
    "x_val = [list(X.columns)[feat] for feat in top_60]\n",
    "\n",
    "pairs = []\n",
    "for i in range(len(y_val)):\n",
    "    pairs.append((x_val[i], y_val[i]))"
   ]
  },
  {
   "cell_type": "code",
   "execution_count": 354,
   "metadata": {},
   "outputs": [
    {
     "data": {
      "text/plain": [
       "[('offense_formation_EMPTY', -0.8259752460941692),\n",
       " ('offense_formation_SHOTGUN', -0.6888304289420574),\n",
       " ('down', -0.3496623195505119),\n",
       " ('ydstogo', -0.3373298014986584),\n",
       " ('score_differential', 0.20938362967996216),\n",
       " ('defense_personnel_4 DL, 2 LB, 5 DB', 0.12919304120430808),\n",
       " ('defense_personnel_3 DL, 3 LB, 5 DB', 0.1131790552940085),\n",
       " ('offense_personnel_6 OL, 1 RB, 2 TE, 1 WR', 0.10854768525821934),\n",
       " ('offense_personnel_6 OL, 2 RB, 1 TE, 1 WR', 0.10182930088980365),\n",
       " ('defense_personnel_2 DL, 4 LB, 5 DB', 0.09450680963256433),\n",
       " ('defense_personnel_4 DL, 3 LB, 4 DB', 0.09041784908203383),\n",
       " ('defense_personnel_3 DL, 4 LB, 4 DB', 0.08862857566112546),\n",
       " ('offense_personnel_2 RB, 2 TE, 1 WR', 0.08407129115750775),\n",
       " ('no_huddle', -0.08227401318714701),\n",
       " ('defense_personnel_1 DL, 4 LB, 6 DB', -0.07427502177794726),\n",
       " ('defense_personnel_3 DL, 2 LB, 6 DB', -0.05180906330664741),\n",
       " ('offense_formation_WILDCAT', 0.0492334531115264),\n",
       " ('defense_personnel_1 DL, 5 LB, 5 DB', -0.04462472259418727),\n",
       " ('defense_personnel_4 DL, 1 LB, 6 DB', -0.03662909513580658),\n",
       " ('offense_personnel_1 RB, 3 TE, 1 WR', 0.03410890550117275),\n",
       " ('roof_dome', -0.03291763989830906),\n",
       " ('offense_formation_SINGLEBACK', -0.03098027900982726),\n",
       " ('offense_personnel_2 QB, 1 RB, 1 TE, 2 WR', 0.030466580179268156),\n",
       " ('defense_personnel_4 DL, 4 LB, 3 DB', 0.030102258989306668),\n",
       " ('defense_personnel_2 DL, 3 LB, 6 DB', -0.029477842879783302),\n",
       " ('defense_personnel_5 DL, 2 LB, 4 DB', 0.028868061585336377),\n",
       " ('defense_personnel_3 DL, 1 LB, 7 DB', -0.02821997561046638),\n",
       " ('defense_personnel_5 DL, 1 LB, 5 DB', 0.02754075505754218),\n",
       " ('offense_personnel_6 OL, 1 RB, 1 TE, 2 WR', 0.027528193850596874),\n",
       " ('feelslike', -0.024755593561818685),\n",
       " ('offense_personnel_6 OL, 2 RB, 2 TE, 0 WR', 0.024371528953696625),\n",
       " ('offense_personnel_6 OL, 1 RB, 0 TE, 3 WR', 0.02228167491987807),\n",
       " ('windspeed', 0.022045937795728644),\n",
       " ('offense_formation_I_FORM', 0.01876390768251835),\n",
       " ('offense_personnel_1 RB, 2 TE, 2 WR', -0.018049114667693853),\n",
       " ('roof_closed', 0.017462333851722547),\n",
       " ('offense_formation_PISTOL', -0.017353936738573494),\n",
       " ('conditions_Rain, Overcast', 0.01681664600934892),\n",
       " ('offense_personnel_0 RB, 2 TE, 3 WR', -0.01681204604061653),\n",
       " ('conditions_Snow, Partially cloudy', -0.01298733235931444),\n",
       " ('defense_personnel_2 DL, 5 LB, 4 DB', 0.012222411411238518),\n",
       " ('defense_personnel_2 DL, 2 LB, 7 DB', -0.011779025371894371),\n",
       " ('roof_outdoors', 0.01156925186278694),\n",
       " ('humidity', -0.010896598965860626),\n",
       " ('offense_personnel_2 RB, 1 TE, 2 WR', -0.010556083883947076),\n",
       " ('offense_personnel_2 RB, 0 TE, 3 WR', 0.01046422348336755),\n",
       " ('conditions_Snow', -0.009535679330744375),\n",
       " ('offense_personnel_0 RB, 1 TE, 4 WR', 0.008701820844550501),\n",
       " ('conditions_Snow, Overcast', -0.008373329543788837),\n",
       " ('offense_personnel_1 RB, 0 TE, 4 WR', -0.0074069396529230225),\n",
       " ('conditions_Snow, Rain, Freezing Drizzle/Freezing Rain, Overcast',\n",
       "  0.006178547868974244),\n",
       " ('defense_personnel_1 DL, 3 LB, 7 DB', -0.005102352385030599),\n",
       " ('conditions_Clear', -0.004325399274168474),\n",
       " ('conditions_Overcast', -0.0038853069642274534),\n",
       " ('conditions_Snow, Rain, Overcast', 0.0035982082745139),\n",
       " ('conditions_Partially cloudy', -0.00302294309214674),\n",
       " ('conditions_Rain, Partially cloudy', 0.0029271122599580732),\n",
       " ('conditions_Rain', -0.0024216123540090734),\n",
       " ('roof_open', 0.0019130422165678665),\n",
       " ('conditions_Snow, Rain, Partially cloudy', -0.0009441456716869998)]"
      ]
     },
     "execution_count": 354,
     "metadata": {},
     "output_type": "execute_result"
    }
   ],
   "source": [
    "sorted_by_coeff = (sorted(pairs, key=lambda tup: tup[1] ** 2, reverse=True))\n",
    "sorted_by_coeff"
   ]
  },
  {
   "cell_type": "code",
   "execution_count": 300,
   "metadata": {},
   "outputs": [
    {
     "data": {
      "text/plain": [
       "<BarContainer object of 60 artists>"
      ]
     },
     "execution_count": 300,
     "metadata": {},
     "output_type": "execute_result"
    },
    {
     "data": {
      "image/png": "[encoded data removed]",
      "text/plain": [
       "<Figure size 640x480 with 1 Axes>"
      ]
     },
     "metadata": {},
     "output_type": "display_data"
    }
   ],
   "source": [
    "plt.bar(x_val, y_val)"
   ]
  },
  {
   "cell_type": "code",
   "execution_count": 298,
   "metadata": {},
   "outputs": [
    {
     "data": {
      "text/plain": [
       "array([-2.84238788e-02,  6.81930465e-03,  2.78410512e-02,  1.84569081e-02,\n",
       "       -9.52267196e-02, -6.68823559e-02, -1.32550528e-02,  6.81667539e-02,\n",
       "        1.28706561e-02, -2.21872963e-04,  1.97750005e-02,  2.58948734e-02,\n",
       "        1.35629490e-02, -5.35766955e-02, -6.57750564e-02,  5.12580591e-02,\n",
       "        5.89325501e-02, -4.36210411e-05, -7.81660639e-02,  2.36063838e-02,\n",
       "       -2.46384842e-02,  3.22913378e-03,  9.13013821e-03,  9.44794618e-02,\n",
       "        7.71172203e-02, -2.55587938e-03, -1.11487788e-02, -1.71406034e-02,\n",
       "        1.00093599e-01,  1.59082262e-02,  6.29489982e-02,  3.03931236e-02,\n",
       "        8.14989483e-02,  2.93042955e-02, -2.43675017e-02, -2.33336683e-03,\n",
       "        1.18510285e-02,  6.38726463e-02, -3.14580045e-02,  3.45918918e-02,\n",
       "        8.00520683e-03, -8.60851561e-03,  1.97922165e-03, -3.82371031e-03,\n",
       "        1.15769606e-02, -9.63372905e-03,  2.33766180e-02, -7.84278241e-01,\n",
       "       -7.72627583e-03, -1.86138002e-02, -3.21120470e-01, -7.51577928e-02,\n",
       "       -1.13325870e-02, -1.34511910e-02, -3.37690286e-01, -3.26585034e-02,\n",
       "        6.85036258e-02,  4.17348503e-02,  2.13726174e-01, -6.00157980e-01])"
      ]
     },
     "execution_count": 298,
     "metadata": {},
     "output_type": "execute_result"
    }
   ],
   "source": [
    "model_1.coef_[0]"
   ]
  },
  {
   "cell_type": "code",
   "execution_count": 355,
   "metadata": {},
   "outputs": [
    {
     "name": "stdout",
     "output_type": "stream",
     "text": [
      "\n",
      "Classification Report:\n",
      "              precision    recall  f1-score   support\n",
      "\n",
      "        pass       0.74      0.79      0.77     26210\n",
      "         run       0.70      0.63      0.66     19576\n",
      "\n",
      "    accuracy                           0.72     45786\n",
      "   macro avg       0.72      0.71      0.71     45786\n",
      "weighted avg       0.72      0.72      0.72     45786\n",
      "\n"
     ]
    }
   ],
   "source": [
    "class_report = classification_report(y_test_1, y_pred_1)\n",
    "print(\"\\nClassification Report:\")\n",
    "print(class_report)\n"
   ]
  },
  {
   "cell_type": "code",
   "execution_count": null,
   "metadata": {},
   "outputs": [],
   "source": []
  },
  {
   "cell_type": "code",
   "execution_count": 231,
   "metadata": {},
   "outputs": [
    {
     "data": {
      "text/plain": [
       "0.726073433944935"
      ]
     },
     "execution_count": 231,
     "metadata": {},
     "output_type": "execute_result"
    }
   ],
   "source": [
    "accuracy"
   ]
  },
  {
   "cell_type": "code",
   "execution_count": 356,
   "metadata": {},
   "outputs": [
    {
     "name": "stdout",
     "output_type": "stream",
     "text": [
      "Confusion Matrix:\n",
      "[[20811  5399]\n",
      " [ 7239 12337]]\n"
     ]
    },
    {
     "data": {
      "image/png": "[encoded data removed]",
      "text/plain": [
       "<Figure size 1000x800 with 2 Axes>"
      ]
     },
     "metadata": {},
     "output_type": "display_data"
    }
   ],
   "source": [
    "cm = confusion_matrix(y_test_1, y_pred_1)\n",
    "\n",
    "print(\"Confusion Matrix:\")\n",
    "print(cm)\n",
    "plt.figure(figsize=(10, 8))\n",
    "sns.heatmap(cm, annot=True, fmt='d', cmap='Blues', xticklabels=['pass', 'run'], yticklabels=['pass', 'run'])\n",
    "plt.title('Confusion Matrix')\n",
    "plt.xlabel('Predicted Labels')\n",
    "plt.ylabel('True Labels')\n",
    "plt.show()"
   ]
  },
  {
   "cell_type": "code",
   "execution_count": null,
   "metadata": {},
   "outputs": [],
   "source": []
  },
  {
   "cell_type": "code",
   "execution_count": null,
   "metadata": {},
   "outputs": [],
   "source": []
  },
  {
   "cell_type": "code",
   "execution_count": 212,
   "metadata": {},
   "outputs": [
    {
     "data": {
      "text/plain": [
       "array([[-4.93436254e-01,  1.95112554e-01,  2.64724968e-01,\n",
       "         4.08938653e-01, -7.33120730e-01, -3.65511177e-01,\n",
       "        -8.52542356e-02,  2.07882113e-01,  1.41620690e-01,\n",
       "         1.58364097e-01,  3.82054551e-01,  1.42323111e-01,\n",
       "         2.12296412e-01, -2.36633726e-01, -7.28541106e-01,\n",
       "         7.95532014e-01,  1.80425930e-01,  1.61192537e-01,\n",
       "        -4.45929489e-01,  2.62807738e-01, -4.25294490e-01,\n",
       "         1.83723298e-01,  1.84038261e-01,  8.89873805e-01,\n",
       "         1.83242540e-01,  1.56201416e-01, -1.85646698e-01,\n",
       "        -3.39490043e-02,  1.46142374e+00,  3.56237459e-01,\n",
       "         2.15459360e-01,  6.47773536e-01,  5.25115585e-01,\n",
       "         6.44066826e-01, -6.25019948e-02, -3.68702359e-02,\n",
       "         7.22389405e-02,  1.94811964e-01,  2.18717435e-01,\n",
       "         4.95976208e-01,  9.97110212e-02,  1.41348507e-01,\n",
       "         3.22333929e-01,  1.11737016e-01,  3.35308639e-01,\n",
       "        -1.79622288e-01,  4.04131730e-03, -2.83124541e+00,\n",
       "        -6.49348518e-02, -6.94240444e-02, -8.07223608e-02,\n",
       "        -2.56863467e-01, -1.52213398e-01, -8.02512911e-04,\n",
       "        -4.06480009e-01, -1.55429389e-03,  2.40546877e-01,\n",
       "         9.56229074e-02,  2.03662901e-02, -1.20440708e+00]])"
      ]
     },
     "execution_count": 212,
     "metadata": {},
     "output_type": "execute_result"
    }
   ],
   "source": []
  },
  {
   "cell_type": "code",
   "execution_count": 357,
   "metadata": {},
   "outputs": [],
   "source": [
    "X_train, X_test, y_train, y_test = train_test_split(data, outcome_buckets, test_size=0.2, random_state=3)"
   ]
  },
  {
   "cell_type": "code",
   "execution_count": 358,
   "metadata": {},
   "outputs": [
    {
     "name": "stdout",
     "output_type": "stream",
     "text": [
      "Model Accuracy: 0.28\n"
     ]
    }
   ],
   "source": [
    "model = LogisticRegression(multi_class='multinomial', solver='lbfgs', max_iter=10000)\n",
    "model.fit(X_train, y_train)\n",
    "\n",
    "y_pred = model.predict(X_test)\n",
    "\n",
    "accuracy = accuracy_score(y_test, y_pred)\n",
    "print(f'Model Accuracy: {accuracy:.2f}')"
   ]
  },
  {
   "cell_type": "code",
   "execution_count": 363,
   "metadata": {},
   "outputs": [
    {
     "name": "stdout",
     "output_type": "stream",
     "text": [
      "\n",
      "Classification Report:\n",
      "               precision    recall  f1-score   support\n",
      "\n",
      "  pass + left       0.30      0.12      0.18      9648\n",
      "pass + middle       0.22      0.00      0.00      5980\n",
      " pass + right       0.29      0.67      0.40     10582\n",
      "   run + left       0.27      0.39      0.32      7175\n",
      " run + middle       0.29      0.07      0.12      5327\n",
      "  run + right       0.27      0.21      0.24      7074\n",
      "\n",
      "     accuracy                           0.28     45786\n",
      "    macro avg       0.27      0.25      0.21     45786\n",
      " weighted avg       0.28      0.28      0.23     45786\n",
      "\n"
     ]
    }
   ],
   "source": [
    "class_report = classification_report(y_test, y_pred)\n",
    "print(\"\\nClassification Report:\")\n",
    "print(class_report)"
   ]
  },
  {
   "cell_type": "code",
   "execution_count": 315,
   "metadata": {},
   "outputs": [
    {
     "name": "stdout",
     "output_type": "stream",
     "text": [
      "Confusion Matrix:\n",
      "[[ 994   18    8 6632 1168  103    0  748]\n",
      " [ 744   18   10 4434  555   57    0  338]\n",
      " [ 158    3   37 1249  244   64    2  153]\n",
      " [1037   26    8 7148 1389  122    0  824]\n",
      " [ 233    1    7 2283 2646  285    0 1689]\n",
      " [ 228    1   11 2089 1582  432    0 1089]\n",
      " [   7    0    9   68   44   18    2   38]\n",
      " [ 224    1    9 2228 2439  290    0 1663]]\n"
     ]
    },
    {
     "data": {
      "image/png": "[encoded data removed]",
      "text/plain": [
       "<Figure size 1000x800 with 2 Axes>"
      ]
     },
     "metadata": {},
     "output_type": "display_data"
    }
   ],
   "source": [
    "cm = confusion_matrix(y_test, y_pred)\n",
    "\n",
    "print(\"Confusion Matrix:\")\n",
    "print(cm)\n",
    "plt.figure(figsize=(10, 8))\n",
    "sns.heatmap(cm, annot=True, fmt='d', cmap='Blues', xticklabels=result_d.keys(), yticklabels=result_d.keys())\n",
    "plt.title('Confusion Matrix')\n",
    "plt.xlabel('Predicted Labels')\n",
    "plt.ylabel('True Labels')\n",
    "plt.show()"
   ]
  },
  {
   "cell_type": "code",
   "execution_count": 359,
   "metadata": {},
   "outputs": [
    {
     "data": {
      "text/plain": [
       "60"
      ]
     },
     "execution_count": 359,
     "metadata": {},
     "output_type": "execute_result"
    }
   ],
   "source": [
    "len(model.coef_[0])"
   ]
  },
  {
   "cell_type": "code",
   "execution_count": 360,
   "metadata": {},
   "outputs": [],
   "source": [
    "freq = dict(pd.Series(outcome_buckets).value_counts())"
   ]
  },
  {
   "cell_type": "code",
   "execution_count": 361,
   "metadata": {},
   "outputs": [],
   "source": [
    "total = sum(freq.values())\n",
    "for play in freq:\n",
    "    freq[play] /= total"
   ]
  },
  {
   "cell_type": "code",
   "execution_count": 362,
   "metadata": {},
   "outputs": [
    {
     "data": {
      "text/plain": [
       "{'pass + right': 0.2303354344397996,\n",
       " 'pass + left': 0.21161767725082667,\n",
       " 'run + left': 0.1558313348796778,\n",
       " 'run + right': 0.15292211054178842,\n",
       " 'pass + middle': 0.1328021596404094,\n",
       " 'run + middle': 0.1164912832474981}"
      ]
     },
     "execution_count": 362,
     "metadata": {},
     "output_type": "execute_result"
    }
   ],
   "source": [
    "freq"
   ]
  },
  {
   "cell_type": "code",
   "execution_count": 367,
   "metadata": {},
   "outputs": [
    {
     "ename": "KeyError",
     "evalue": "'pass'",
     "output_type": "error",
     "traceback": [
      "\u001b[0;31m---------------------------------------------------------------------------\u001b[0m",
      "\u001b[0;31mKeyError\u001b[0m                                  Traceback (most recent call last)",
      "Cell \u001b[0;32mIn[367], line 1\u001b[0m\n\u001b[0;32m----> 1\u001b[0m \u001b[38;5;28;43mdict\u001b[39;49m\u001b[43m(\u001b[49m\u001b[43mpd\u001b[49m\u001b[38;5;241;43m.\u001b[39;49m\u001b[43mSeries\u001b[49m\u001b[43m(\u001b[49m\u001b[43moutcome_run_pass\u001b[49m\u001b[43m)\u001b[49m\u001b[43m)\u001b[49m\u001b[43m[\u001b[49m\u001b[38;5;124;43m'\u001b[39;49m\u001b[38;5;124;43mpass\u001b[39;49m\u001b[38;5;124;43m'\u001b[39;49m\u001b[43m]\u001b[49m \u001b[38;5;241m/\u001b[39m \u001b[38;5;28mlen\u001b[39m(outcome_run_pass)\n",
      "\u001b[0;31mKeyError\u001b[0m: 'pass'"
     ]
    }
   ],
   "source": [
    "dict(pd.Series(outcome_run_pass))['pass'] / len(outcome_run_pass)"
   ]
  },
  {
   "cell_type": "code",
   "execution_count": 265,
   "metadata": {},
   "outputs": [
    {
     "name": "stdout",
     "output_type": "stream",
     "text": [
      "0.41053804919593206 0.5894619508040679\n"
     ]
    }
   ],
   "source": [
    "run, pass_c = 0, 0\n",
    "for play in outcome_run_pass:\n",
    "    if play == 'pass':\n",
    "        pass_c += 1\n",
    "    else:\n",
    "        run += 1\n",
    "print(run / (run + pass_c), pass_c / (run + pass_c))"
   ]
  },
  {
   "cell_type": "code",
   "execution_count": 268,
   "metadata": {},
   "outputs": [
    {
     "data": {
      "text/plain": [
       "0.7938567035452971"
      ]
     },
     "execution_count": 268,
     "metadata": {},
     "output_type": "execute_result"
    }
   ],
   "source": [
    "cm[0][0] / sum(cm[0])"
   ]
  },
  {
   "cell_type": "code",
   "execution_count": 270,
   "metadata": {},
   "outputs": [
    {
     "data": {
      "text/plain": [
       "0.6283136215334421"
      ]
     },
     "execution_count": 270,
     "metadata": {},
     "output_type": "execute_result"
    }
   ],
   "source": [
    "cm[1][1] / sum(cm[1])"
   ]
  },
  {
   "cell_type": "code",
   "execution_count": 365,
   "metadata": {},
   "outputs": [],
   "source": [
    "y_val = list(model_1.coef_[0])\n",
    "top_60 = feature_ranking[:60]\n",
    "x_val = [list(X.columns)[feat] for feat in top_60]\n",
    "\n",
    "pairs = []\n",
    "for i in range(len(y_val)):\n",
    "    pairs.append((x_val[i], y_val[i]))\n",
    "    \n",
    "sorted_by_coeff = (sorted(pairs, key=lambda tup: tup[1] ** 2, reverse=True))\n"
   ]
  },
  {
   "cell_type": "code",
   "execution_count": 369,
   "metadata": {},
   "outputs": [
    {
     "data": {
      "text/plain": [
       "{'pass + right': 0,\n",
       " 'run + middle': 1,\n",
       " 'pass + left': 2,\n",
       " 'pass + middle': 3,\n",
       " 'run + right': 4,\n",
       " 'run + left': 5}"
      ]
     },
     "execution_count": 369,
     "metadata": {},
     "output_type": "execute_result"
    }
   ],
   "source": [
    "result_d"
   ]
  },
  {
   "cell_type": "code",
   "execution_count": 370,
   "metadata": {},
   "outputs": [
    {
     "name": "stdout",
     "output_type": "stream",
     "text": [
      "pass + right\n",
      "[('offense_formation_EMPTY', -0.8259752460941692), ('offense_formation_SHOTGUN', -0.6888304289420574), ('down', -0.3496623195505119), ('ydstogo', -0.3373298014986584), ('score_differential', 0.20938362967996216), ('defense_personnel_4 DL, 2 LB, 5 DB', 0.12919304120430808), ('defense_personnel_3 DL, 3 LB, 5 DB', 0.1131790552940085), ('offense_personnel_6 OL, 1 RB, 2 TE, 1 WR', 0.10854768525821934), ('offense_personnel_6 OL, 2 RB, 1 TE, 1 WR', 0.10182930088980365), ('defense_personnel_2 DL, 4 LB, 5 DB', 0.09450680963256433)]\n",
      "run + middle\n",
      "[('offense_formation_EMPTY', -0.8259752460941692), ('offense_formation_SHOTGUN', -0.6888304289420574), ('down', -0.3496623195505119), ('ydstogo', -0.3373298014986584), ('score_differential', 0.20938362967996216), ('defense_personnel_4 DL, 2 LB, 5 DB', 0.12919304120430808), ('defense_personnel_3 DL, 3 LB, 5 DB', 0.1131790552940085), ('offense_personnel_6 OL, 1 RB, 2 TE, 1 WR', 0.10854768525821934), ('offense_personnel_6 OL, 2 RB, 1 TE, 1 WR', 0.10182930088980365), ('defense_personnel_2 DL, 4 LB, 5 DB', 0.09450680963256433)]\n",
      "pass + left\n",
      "[('offense_formation_EMPTY', -0.8259752460941692), ('offense_formation_SHOTGUN', -0.6888304289420574), ('down', -0.3496623195505119), ('ydstogo', -0.3373298014986584), ('score_differential', 0.20938362967996216), ('defense_personnel_4 DL, 2 LB, 5 DB', 0.12919304120430808), ('defense_personnel_3 DL, 3 LB, 5 DB', 0.1131790552940085), ('offense_personnel_6 OL, 1 RB, 2 TE, 1 WR', 0.10854768525821934), ('offense_personnel_6 OL, 2 RB, 1 TE, 1 WR', 0.10182930088980365), ('defense_personnel_2 DL, 4 LB, 5 DB', 0.09450680963256433)]\n",
      "pass + middle\n",
      "[('offense_formation_EMPTY', -0.8259752460941692), ('offense_formation_SHOTGUN', -0.6888304289420574), ('down', -0.3496623195505119), ('ydstogo', -0.3373298014986584), ('score_differential', 0.20938362967996216), ('defense_personnel_4 DL, 2 LB, 5 DB', 0.12919304120430808), ('defense_personnel_3 DL, 3 LB, 5 DB', 0.1131790552940085), ('offense_personnel_6 OL, 1 RB, 2 TE, 1 WR', 0.10854768525821934), ('offense_personnel_6 OL, 2 RB, 1 TE, 1 WR', 0.10182930088980365), ('defense_personnel_2 DL, 4 LB, 5 DB', 0.09450680963256433)]\n",
      "run + right\n",
      "[('offense_formation_EMPTY', -0.8259752460941692), ('offense_formation_SHOTGUN', -0.6888304289420574), ('down', -0.3496623195505119), ('ydstogo', -0.3373298014986584), ('score_differential', 0.20938362967996216), ('defense_personnel_4 DL, 2 LB, 5 DB', 0.12919304120430808), ('defense_personnel_3 DL, 3 LB, 5 DB', 0.1131790552940085), ('offense_personnel_6 OL, 1 RB, 2 TE, 1 WR', 0.10854768525821934), ('offense_personnel_6 OL, 2 RB, 1 TE, 1 WR', 0.10182930088980365), ('defense_personnel_2 DL, 4 LB, 5 DB', 0.09450680963256433)]\n",
      "run + left\n",
      "[('offense_formation_EMPTY', -0.8259752460941692), ('offense_formation_SHOTGUN', -0.6888304289420574), ('down', -0.3496623195505119), ('ydstogo', -0.3373298014986584), ('score_differential', 0.20938362967996216), ('defense_personnel_4 DL, 2 LB, 5 DB', 0.12919304120430808), ('defense_personnel_3 DL, 3 LB, 5 DB', 0.1131790552940085), ('offense_personnel_6 OL, 1 RB, 2 TE, 1 WR', 0.10854768525821934), ('offense_personnel_6 OL, 2 RB, 1 TE, 1 WR', 0.10182930088980365), ('defense_personnel_2 DL, 4 LB, 5 DB', 0.09450680963256433)]\n"
     ]
    }
   ],
   "source": [
    "x_val = [list(X.columns)[feat] for feat in top_60]\n",
    "for key in result_d:\n",
    "    print(key) \n",
    "    pairs = []\n",
    "    for i in range(len(y_val)):\n",
    "        pairs.append((x_val[i], y_val[i]))\n",
    "    print( (sorted(pairs, key=lambda tup: tup[1] ** 2, reverse=True))[:10] )\n",
    "    "
   ]
  },
  {
   "cell_type": "code",
   "execution_count": null,
   "metadata": {},
   "outputs": [],
   "source": []
  }
 ],
 "metadata": {
  "colab": {
   "provenance": []
  },
  "kernelspec": {
   "display_name": "Python 3 (ipykernel)",
   "language": "python",
   "name": "python3"
  },
  "language_info": {
   "codemirror_mode": {
    "name": "ipython",
    "version": 3
   },
   "file_extension": ".py",
   "mimetype": "text/x-python",
   "name": "python",
   "nbconvert_exporter": "python",
   "pygments_lexer": "ipython3",
   "version": "3.10.8"
  }
 },
 "nbformat": 4,
 "nbformat_minor": 1
}
